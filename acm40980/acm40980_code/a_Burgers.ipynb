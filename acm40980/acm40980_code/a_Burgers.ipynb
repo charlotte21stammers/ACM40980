{
 "cells": [
  {
   "cell_type": "code",
   "execution_count": 1,
   "id": "18d815b8-07e1-4777-afd3-8999a316ad4f",
   "metadata": {},
   "outputs": [],
   "source": [
    "#pip install torch==1.9.0"
   ]
  },
  {
   "cell_type": "code",
   "execution_count": 2,
   "id": "7b7c95eb-84a9-49d0-b98f-be4bc200271d",
   "metadata": {},
   "outputs": [],
   "source": [
    "#pip install deepxde"
   ]
  },
  {
   "cell_type": "code",
   "execution_count": 3,
   "id": "0c15a874-4c8d-4c44-8111-2691cf8251e5",
   "metadata": {},
   "outputs": [],
   "source": [
    "#pip install numpy"
   ]
  },
  {
   "cell_type": "code",
   "execution_count": 4,
   "id": "2287f808-3dff-4c20-86d7-cb579dcf57b8",
   "metadata": {},
   "outputs": [],
   "source": [
    "#pip install matplotlib"
   ]
  },
  {
   "cell_type": "code",
   "execution_count": 5,
   "id": "67da8cec-8da4-49ad-ba1c-a535cbd2c4d6",
   "metadata": {},
   "outputs": [],
   "source": [
    "#pip install pandas"
   ]
  },
  {
   "cell_type": "code",
   "execution_count": 6,
   "id": "dcd0a0f5-a2a7-4f68-9d2d-40406be96cd6",
   "metadata": {},
   "outputs": [],
   "source": [
    "#pip install tensorflow"
   ]
  },
  {
   "cell_type": "code",
   "execution_count": 7,
   "id": "02ce1ad6-cd19-4c48-97bf-17fb12eee6b8",
   "metadata": {},
   "outputs": [],
   "source": [
    "#pip install tensorflow_probability"
   ]
  },
  {
   "cell_type": "code",
   "execution_count": 8,
   "id": "5401a82c-6f6d-444b-a8c4-1d3120f9e425",
   "metadata": {},
   "outputs": [],
   "source": [
    "#pip install tf-keras"
   ]
  },
  {
   "cell_type": "code",
   "execution_count": 9,
   "id": "0a41ec80",
   "metadata": {},
   "outputs": [],
   "source": [
    "#dde.backend.set_default_backend('tensorflow.compat.v1')"
   ]
  },
  {
   "cell_type": "code",
   "execution_count": 10,
   "id": "89259ea9-0593-4379-9013-490a61989ac9",
   "metadata": {},
   "outputs": [],
   "source": [
    "import os;os.environ[\"TF_USE_LEGACY_KERAS\"]=\"1\""
   ]
  },
  {
   "cell_type": "code",
   "execution_count": 11,
   "id": "d5947b7b",
   "metadata": {
    "scrolled": true
   },
   "outputs": [
    {
     "name": "stdout",
     "output_type": "stream",
     "text": [
      "WARNING:tensorflow:From C:\\anaconda\\envs\\new\\lib\\site-packages\\tf_keras\\src\\losses.py:2976: The name tf.losses.sparse_softmax_cross_entropy is deprecated. Please use tf.compat.v1.losses.sparse_softmax_cross_entropy instead.\n",
      "\n"
     ]
    },
    {
     "name": "stderr",
     "output_type": "stream",
     "text": [
      "Using backend: tensorflow.compat.v1\n",
      "Other supported backends: tensorflow, pytorch, jax, paddle.\n",
      "paddle supports more examples now and is recommended.\n"
     ]
    },
    {
     "name": "stdout",
     "output_type": "stream",
     "text": [
      "WARNING:tensorflow:From C:\\anaconda\\envs\\new\\lib\\site-packages\\deepxde\\backend\\tensorflow_compat_v1\\tensor.py:25: The name tf.disable_v2_behavior is deprecated. Please use tf.compat.v1.disable_v2_behavior instead.\n",
      "\n",
      "WARNING:tensorflow:From C:\\anaconda\\envs\\new\\lib\\site-packages\\tensorflow\\python\\compat\\v2_compat.py:98: disable_resource_variables (from tensorflow.python.ops.resource_variables_toggle) is deprecated and will be removed in a future version.\n",
      "Instructions for updating:\n",
      "non-resource variables are not supported in the long term\n"
     ]
    }
   ],
   "source": [
    "import deepxde as dde\n",
    "import tensorflow.compat.v1 as tf\n",
    "import numpy as np\n",
    "import torch\n",
    "import matplotlib.pyplot as plt\n",
    "import pandas as pd"
   ]
  },
  {
   "cell_type": "code",
   "execution_count": 12,
   "id": "8499b805",
   "metadata": {},
   "outputs": [
    {
     "name": "stdout",
     "output_type": "stream",
     "text": [
      "Set the default float type to float64\n"
     ]
    }
   ],
   "source": [
    "dde.config.set_random_seed(1234)\n",
    "dde.config.set_default_float(\"float64\")"
   ]
  },
  {
   "cell_type": "code",
   "execution_count": 13,
   "id": "787993c8",
   "metadata": {},
   "outputs": [],
   "source": [
    "geom = dde.geometry.Rectangle([0, 0], [1, 1])\n",
    "\n",
    "timedomain = dde.geometry.TimeDomain(0, 2)\n",
    "geomtime = dde.geometry.GeometryXTime(geom, timedomain)"
   ]
  },
  {
   "cell_type": "code",
   "execution_count": 14,
   "id": "65893fdd",
   "metadata": {},
   "outputs": [],
   "source": [
    "def pde(x, u):\n",
    "    du_x = dde.grad.jacobian(u, x, i=0, j=0)\n",
    "    du_y = dde.grad.jacobian(u, x, i=0, j=1)\n",
    "    du_t = dde.grad.jacobian(u, x, i=0, j=2)\n",
    "    \n",
    "    du_xx = dde.grad.hessian(u, x, i=0, j=0)\n",
    "    du_yy = dde.grad.hessian(u, x, i=1, j=1)\n",
    "    return du_t + u * (du_x+du_y) - (0.1) * (du_xx+du_yy)"
   ]
  },
  {
   "cell_type": "markdown",
   "id": "d45af69f",
   "metadata": {},
   "source": [
    "# Soft-Soft"
   ]
  },
  {
   "cell_type": "code",
   "execution_count": 15,
   "id": "76b60469",
   "metadata": {},
   "outputs": [],
   "source": [
    "bc_top = dde.icbc.DirichletBC(geomtime, \n",
    "                              lambda x: 1/(1+np.exp( (x[:, 0:1]+1-x[:, 2:3])/0.2 )), \n",
    "                              lambda x, on_boundary: on_boundary and dde.utils.isclose(x[1], 1.0),)\n",
    "\n",
    "bc_bottom = dde.icbc.DirichletBC(geomtime,\n",
    "                                 lambda x: 1/(1+np.exp( (x[:, 0:1]+0-x[:, 2:3])/0.2 )), \n",
    "                                 lambda x, on_boundary: on_boundary and dde.utils.isclose(x[1], 0.0),)\n",
    "\n",
    "bc_left = dde.icbc.DirichletBC(geomtime,\n",
    "                               lambda x: 1/(1+np.exp( (0+x[:, 1:2]-x[:, 2:3])/0.2 )), \n",
    "                               lambda x, on_boundary: on_boundary and dde.utils.isclose(x[0], 0.0),)\n",
    "\n",
    "bc_right = dde.icbc.DirichletBC(geomtime,\n",
    "                                lambda x: 1/(1+np.exp( (1+x[:, 1:2]-x[:, 2:3])/0.2 )), \n",
    "                                lambda x, on_boundary: on_boundary and dde.utils.isclose(x[0], 1.0),)\n",
    "\n",
    "\n",
    "ic = dde.icbc.IC(geomtime, lambda x: 1/(1+np.exp( (x[:, 0:1]+x[:, 1:2])/0.2 )), lambda x, on_initial: on_initial and dde.utils.isclose(x[2], 0.0),)"
   ]
  },
  {
   "cell_type": "code",
   "execution_count": 16,
   "id": "8a689575",
   "metadata": {},
   "outputs": [
    {
     "name": "stderr",
     "output_type": "stream",
     "text": [
      "C:\\anaconda\\envs\\new\\lib\\site-packages\\skopt\\sampler\\sobol.py:521: UserWarning: The balance properties of Sobol' points require n to be a power of 2. 0 points have been previously generated, then: n=0+502=502. \n",
      "  warnings.warn(\n",
      "C:\\anaconda\\envs\\new\\lib\\site-packages\\skopt\\sampler\\sobol.py:521: UserWarning: The balance properties of Sobol' points require n to be a power of 2. 0 points have been previously generated, then: n=0+103=103. \n",
      "  warnings.warn(\n",
      "C:\\anaconda\\envs\\new\\lib\\site-packages\\skopt\\sampler\\sobol.py:521: UserWarning: The balance properties of Sobol' points require n to be a power of 2. 0 points have been previously generated, then: n=0+101=101. \n",
      "  warnings.warn(\n",
      "C:\\anaconda\\envs\\new\\lib\\site-packages\\skopt\\sampler\\sobol.py:521: UserWarning: The balance properties of Sobol' points require n to be a power of 2. 0 points have been previously generated, then: n=0+501=501. \n",
      "  warnings.warn(\n"
     ]
    }
   ],
   "source": [
    "data_ss = dde.data.TimePDE(geomtime, \n",
    "                        pde, \n",
    "                        [bc_top,\n",
    "                         bc_bottom,\n",
    "                         bc_left,\n",
    "                         bc_right,\n",
    "                         ic],\n",
    "                        num_domain=500, \n",
    "                        num_boundary=100, \n",
    "                        num_initial=500,\n",
    "                        train_distribution='Sobol')"
   ]
  },
  {
   "cell_type": "code",
   "execution_count": 17,
   "id": "7a41daad",
   "metadata": {},
   "outputs": [],
   "source": [
    "net_square_ss = dde.nn.FNN([3] + [20] * 20 + [1], \"tanh\", \"Glorot uniform\")\n",
    "net_long_ss = dde.nn.FNN([3] + [20] * 5 + [1], \"tanh\", \"Glorot uniform\")\n",
    "net_oblong_ss = dde.nn.FNN([3] + [5] * 20 + [1], \"tanh\", \"Glorot uniform\")"
   ]
  },
  {
   "cell_type": "code",
   "execution_count": 18,
   "id": "85783872",
   "metadata": {},
   "outputs": [],
   "source": [
    "model_square_ss = dde.Model(data_ss, net_square_ss)\n",
    "model_long_ss = dde.Model(data_ss, net_long_ss)\n",
    "model_oblong_ss = dde.Model(data_ss, net_oblong_ss)"
   ]
  },
  {
   "cell_type": "markdown",
   "id": "d4203e5b",
   "metadata": {},
   "source": [
    "### Soft-Soft Square"
   ]
  },
  {
   "cell_type": "code",
   "execution_count": 81,
   "id": "e6253dcf",
   "metadata": {
    "scrolled": true
   },
   "outputs": [
    {
     "name": "stdout",
     "output_type": "stream",
     "text": [
      "Compiling model...\n",
      "Building feed-forward neural network...\n"
     ]
    },
    {
     "name": "stderr",
     "output_type": "stream",
     "text": [
      "C:\\anaconda\\envs\\new\\lib\\site-packages\\deepxde\\nn\\tensorflow_compat_v1\\fnn.py:116: UserWarning: `tf.layers.dense` is deprecated and will be removed in a future version. Please use `tf.keras.layers.Dense` instead.\n",
      "  return tf.layers.dense(\n"
     ]
    },
    {
     "name": "stdout",
     "output_type": "stream",
     "text": [
      "'build' took 0.288562 s\n",
      "\n",
      "'compile' took 2.604690 s\n",
      "\n",
      "Training model...\n",
      "\n",
      "Step      Train loss                                                      Test loss                                                       Test metric\n",
      "0         [4.27e-04, 1.38e-01, 6.03e-01, 7.29e-01, 1.27e-01, 5.01e-03]    [4.27e-04, 1.38e-01, 6.03e-01, 7.29e-01, 1.27e-01, 5.01e-03]    []  \n",
      "1000      [8.36e-05, 4.74e-04, 1.89e-04, 1.70e-04, 2.97e-04, 8.45e-05]    [8.36e-05, 4.74e-04, 1.89e-04, 1.70e-04, 2.97e-04, 8.45e-05]    []  \n",
      "\n",
      "Best model at step 1000:\n",
      "  train loss: 1.30e-03\n",
      "  test loss: 1.30e-03\n",
      "  test metric: []\n",
      "\n",
      "'train' took 55.657572 s\n",
      "\n",
      "Compiling model...\n",
      "'compile' took 1.307386 s\n",
      "\n",
      "Training model...\n",
      "\n",
      "Step      Train loss                                                      Test loss                                                       Test metric\n",
      "1000      [8.36e-05, 4.74e-04, 1.89e-04, 1.70e-04, 2.97e-04, 8.45e-05]    [8.36e-05, 4.74e-04, 1.89e-04, 1.70e-04, 2.97e-04, 8.45e-05]    []  \n",
      "2000      [6.21e-08, 3.72e-09, 9.80e-09, 1.04e-08, 6.12e-09, 6.78e-09]    [6.21e-08, 3.72e-09, 9.80e-09, 1.04e-08, 6.12e-09, 6.78e-09]        \n",
      "3000      [1.29e-08, 4.90e-10, 1.20e-09, 1.63e-09, 5.31e-10, 1.93e-09]    [1.29e-08, 4.90e-10, 1.20e-09, 1.63e-09, 5.31e-10, 1.93e-09]        \n",
      "4000      [5.40e-09, 1.67e-10, 3.97e-10, 7.61e-10, 1.29e-10, 5.06e-10]    [5.40e-09, 1.67e-10, 3.97e-10, 7.61e-10, 1.29e-10, 5.06e-10]        \n",
      "5000      [2.28e-09, 8.31e-11, 2.11e-10, 2.09e-10, 8.45e-11, 1.35e-10]    [2.28e-09, 8.31e-11, 2.11e-10, 2.09e-10, 8.45e-11, 1.35e-10]        \n",
      "6000      [1.48e-09, 3.06e-11, 7.14e-11, 1.24e-10, 3.86e-11, 5.19e-11]    [1.48e-09, 3.06e-11, 7.14e-11, 1.24e-10, 3.86e-11, 5.19e-11]        \n",
      "7000      [7.63e-10, 4.70e-11, 2.56e-11, 7.45e-11, 3.98e-11, 5.34e-11]    [7.63e-10, 4.70e-11, 2.56e-11, 7.45e-11, 3.98e-11, 5.34e-11]        \n",
      "8000      [6.68e-10, 2.55e-11, 1.35e-11, 5.34e-11, 1.94e-11, 3.27e-11]    [6.68e-10, 2.55e-11, 1.35e-11, 5.34e-11, 1.94e-11, 3.27e-11]        \n",
      "9000      [4.40e-10, 3.04e-11, 1.98e-11, 1.52e-11, 2.02e-11, 2.02e-11]    [4.40e-10, 3.04e-11, 1.98e-11, 1.52e-11, 2.02e-11, 2.02e-11]        \n",
      "10000     [3.67e-10, 3.07e-11, 1.34e-11, 1.52e-11, 1.86e-11, 1.37e-11]    [3.67e-10, 3.07e-11, 1.34e-11, 1.52e-11, 1.86e-11, 1.37e-11]        \n",
      "11000     [3.08e-10, 3.27e-11, 1.04e-11, 1.65e-11, 1.13e-11, 8.94e-12]    [3.08e-10, 3.27e-11, 1.04e-11, 1.65e-11, 1.13e-11, 8.94e-12]        \n",
      "INFO:tensorflow:Optimization terminated with:\n",
      "  Message: STOP: TOTAL NO. of f AND g EVALUATIONS EXCEEDS LIMIT\n",
      "  Objective function value: 0.000000\n",
      "  Number of iterations: 9346\n",
      "  Number of functions evaluations: 10001\n",
      "11001     [3.08e-10, 3.28e-11, 1.03e-11, 1.64e-11, 1.13e-11, 8.95e-12]    [3.08e-10, 3.28e-11, 1.03e-11, 1.64e-11, 1.13e-11, 8.95e-12]    []  \n",
      "\n",
      "Best model at step 11001:\n",
      "  train loss: 3.88e-10\n",
      "  test loss: 3.88e-10\n",
      "  test metric: []\n",
      "\n",
      "'train' took 1144.486475 s\n",
      "\n"
     ]
    }
   ],
   "source": [
    "dde.optimizers.config.set_LBFGS_options(ftol=0, gtol=0, maxiter=10000, maxfun=10000)\n",
    "\n",
    "model_square_ss.compile(\"adam\", lr=0.001)\n",
    "model_square_ss.train(iterations=1000, display_every=1000)\n",
    "model_square_ss.compile(\"L-BFGS-B\")\n",
    "loss_history_square, train_state_square = model_square_ss.train(iterations=10000, display_every=1000)"
   ]
  },
  {
   "cell_type": "code",
   "execution_count": 82,
   "id": "eb095d9c",
   "metadata": {},
   "outputs": [
    {
     "name": "stdout",
     "output_type": "stream",
     "text": [
      "Saving loss history to burgers_ss_square_loss ...\n"
     ]
    }
   ],
   "source": [
    "dde.utils.external.save_loss_history(loss_history_square, 'burgers_ss_square_loss')"
   ]
  },
  {
   "cell_type": "code",
   "execution_count": 83,
   "id": "3b559dd7",
   "metadata": {},
   "outputs": [],
   "source": [
    "loss = pd.read_csv(\"C:/Users/charl/College/acm40980/acm40980_code/burgers_ss_square_loss\", sep=' ')\n",
    "pde_loss = loss.reset_index().to_numpy()[:,1]\n",
    "bc_loss = loss.reset_index().to_numpy()[:,2] + loss.reset_index().to_numpy()[:,3] + loss.reset_index().to_numpy()[:,4] + loss.reset_index().to_numpy()[:,5]\n",
    "ic_loss = loss.reset_index().to_numpy()[:,6]\n",
    "\n",
    "pde_loss_array = np.append(pde_loss[:2], pde_loss[3:])\n",
    "bc_loss_array = np.append(bc_loss[:2], bc_loss[3:])\n",
    "ic_loss_array = np.append(ic_loss[:2], ic_loss[3:])"
   ]
  },
  {
   "cell_type": "code",
   "execution_count": 85,
   "id": "f6b37998",
   "metadata": {},
   "outputs": [],
   "source": [
    "loss1 = pde_loss_array + bc_loss_array + ic_loss_array"
   ]
  },
  {
   "cell_type": "markdown",
   "id": "929c3185",
   "metadata": {},
   "source": [
    "### Soft-Soft Long"
   ]
  },
  {
   "cell_type": "code",
   "execution_count": 19,
   "id": "29539032",
   "metadata": {
    "scrolled": true
   },
   "outputs": [
    {
     "name": "stdout",
     "output_type": "stream",
     "text": [
      "Compiling model...\n",
      "Building feed-forward neural network...\n"
     ]
    },
    {
     "name": "stderr",
     "output_type": "stream",
     "text": [
      "C:\\anaconda\\envs\\new\\lib\\site-packages\\deepxde\\nn\\tensorflow_compat_v1\\fnn.py:116: UserWarning: `tf.layers.dense` is deprecated and will be removed in a future version. Please use `tf.keras.layers.Dense` instead.\n",
      "  return tf.layers.dense(\n"
     ]
    },
    {
     "name": "stdout",
     "output_type": "stream",
     "text": [
      "WARNING:tensorflow:From C:\\anaconda\\envs\\new\\lib\\site-packages\\tf_keras\\src\\utils\\version_utils.py:78: The name tf.executing_eagerly_outside_functions is deprecated. Please use tf.compat.v1.executing_eagerly_outside_functions instead.\n",
      "\n",
      "'build' took 0.819790 s\n",
      "\n",
      "WARNING:tensorflow:From C:\\anaconda\\envs\\new\\lib\\site-packages\\deepxde\\model.py:168: The name tf.train.Saver is deprecated. Please use tf.compat.v1.train.Saver instead.\n",
      "\n",
      "'compile' took 1.482573 s\n",
      "\n",
      "Training model...\n",
      "\n",
      "Step      Train loss                                                      Test loss                                                       Test metric\n",
      "0         [2.10e-02, 1.50e-01, 5.11e-01, 6.71e-01, 1.17e-01, 3.49e-02]    [2.10e-02, 1.50e-01, 5.11e-01, 6.71e-01, 1.17e-01, 3.49e-02]    []  \n",
      "1000      [3.18e-04, 4.30e-05, 3.83e-05, 4.80e-05, 5.13e-05, 2.96e-05]    [3.18e-04, 4.30e-05, 3.83e-05, 4.80e-05, 5.13e-05, 2.96e-05]    []  \n",
      "\n",
      "Best model at step 1000:\n",
      "  train loss: 5.28e-04\n",
      "  test loss: 5.28e-04\n",
      "  test metric: []\n",
      "\n",
      "'train' took 13.926472 s\n",
      "\n",
      "Compiling model...\n",
      "'compile' took 0.388221 s\n",
      "\n",
      "Training model...\n",
      "\n",
      "Step      Train loss                                                      Test loss                                                       Test metric\n",
      "1000      [3.18e-04, 4.30e-05, 3.83e-05, 4.80e-05, 5.13e-05, 2.96e-05]    [3.18e-04, 4.30e-05, 3.83e-05, 4.80e-05, 5.13e-05, 2.96e-05]    []  \n",
      "2000      [2.99e-08, 3.28e-09, 4.65e-09, 4.94e-09, 3.63e-09, 5.00e-09]    [2.99e-08, 3.28e-09, 4.65e-09, 4.94e-09, 3.63e-09, 5.00e-09]        \n",
      "3000      [8.08e-09, 1.56e-10, 8.95e-10, 9.39e-10, 1.57e-10, 7.32e-10]    [8.08e-09, 1.56e-10, 8.95e-10, 9.39e-10, 1.57e-10, 7.32e-10]        \n",
      "4000      [1.30e-09, 9.56e-11, 2.30e-10, 3.79e-10, 1.08e-10, 2.83e-10]    [1.30e-09, 9.56e-11, 2.30e-10, 3.79e-10, 1.08e-10, 2.83e-10]        \n",
      "5000      [7.17e-10, 2.86e-11, 6.88e-11, 6.30e-11, 2.35e-11, 3.52e-11]    [7.17e-10, 2.86e-11, 6.88e-11, 6.30e-11, 2.35e-11, 3.52e-11]        \n",
      "6000      [3.96e-10, 1.13e-11, 2.74e-11, 1.44e-11, 7.24e-12, 1.78e-11]    [3.96e-10, 1.13e-11, 2.74e-11, 1.44e-11, 7.24e-12, 1.78e-11]        \n",
      "7000      [2.45e-10, 9.23e-12, 1.48e-11, 1.11e-11, 4.19e-12, 1.27e-11]    [2.45e-10, 9.23e-12, 1.48e-11, 1.11e-11, 4.19e-12, 1.27e-11]        \n",
      "8000      [1.73e-10, 9.59e-12, 9.48e-12, 7.87e-12, 3.25e-12, 1.30e-11]    [1.73e-10, 9.59e-12, 9.48e-12, 7.87e-12, 3.25e-12, 1.30e-11]        \n",
      "9000      [1.22e-10, 2.88e-12, 4.52e-12, 4.25e-12, 1.50e-12, 4.98e-12]    [1.22e-10, 2.88e-12, 4.52e-12, 4.25e-12, 1.50e-12, 4.98e-12]        \n",
      "10000     [6.94e-11, 1.00e-12, 3.52e-12, 4.60e-12, 2.26e-12, 1.83e-12]    [6.94e-11, 1.00e-12, 3.52e-12, 4.60e-12, 2.26e-12, 1.83e-12]        \n",
      "11000     [5.68e-11, 1.46e-12, 2.70e-12, 3.16e-12, 2.91e-12, 2.29e-12]    [5.68e-11, 1.46e-12, 2.70e-12, 3.16e-12, 2.91e-12, 2.29e-12]        \n",
      "WARNING:tensorflow:From C:\\anaconda\\envs\\new\\lib\\site-packages\\deepxde\\optimizers\\tensorflow_compat_v1\\scipy_optimizer.py:398: The name tf.logging.info is deprecated. Please use tf.compat.v1.logging.info instead.\n",
      "\n",
      "INFO:tensorflow:Optimization terminated with:\n",
      "  Message: STOP: TOTAL NO. of f AND g EVALUATIONS EXCEEDS LIMIT\n",
      "  Objective function value: 0.000000\n",
      "  Number of iterations: 9239\n",
      "  Number of functions evaluations: 10001\n",
      "11001     [5.68e-11, 1.45e-12, 2.69e-12, 3.16e-12, 2.91e-12, 2.28e-12]    [5.68e-11, 1.45e-12, 2.69e-12, 3.16e-12, 2.91e-12, 2.28e-12]    []  \n",
      "\n",
      "Best model at step 11001:\n",
      "  train loss: 6.93e-11\n",
      "  test loss: 6.93e-11\n",
      "  test metric: []\n",
      "\n",
      "'train' took 192.040067 s\n",
      "\n"
     ]
    }
   ],
   "source": [
    "dde.optimizers.config.set_LBFGS_options(ftol=0, gtol=0, maxiter=10000, maxfun=10000)\n",
    "\n",
    "model_long_ss.compile(\"adam\", lr=0.001)\n",
    "model_long_ss.train(iterations=1000, display_every=1000)\n",
    "model_long_ss.compile(\"L-BFGS-B\")\n",
    "loss_history_long, train_state_long = model_long_ss.train(iterations=10000, display_every=1000)"
   ]
  },
  {
   "cell_type": "code",
   "execution_count": 20,
   "id": "cabcfc38",
   "metadata": {},
   "outputs": [
    {
     "name": "stdout",
     "output_type": "stream",
     "text": [
      "Saving loss history to burgers_ss_long_loss ...\n"
     ]
    }
   ],
   "source": [
    "dde.utils.external.save_loss_history(loss_history_long, 'burgers_ss_long_loss')"
   ]
  },
  {
   "cell_type": "code",
   "execution_count": 21,
   "id": "d3f3bedf",
   "metadata": {},
   "outputs": [],
   "source": [
    "loss = pd.read_csv(\"C:/Users/charl/College/acm40980/acm40980_code/burgers_ss_long_loss\", sep=' ')\n",
    "pde_loss = loss.reset_index().to_numpy()[:,1]\n",
    "bc_loss = loss.reset_index().to_numpy()[:,2] + loss.reset_index().to_numpy()[:,3] + loss.reset_index().to_numpy()[:,4] + loss.reset_index().to_numpy()[:,5]\n",
    "ic_loss = loss.reset_index().to_numpy()[:,6]\n",
    "\n",
    "pde_loss_array = np.append(pde_loss[:2], pde_loss[3:])\n",
    "bc_loss_array = np.append(bc_loss[:2], bc_loss[3:])\n",
    "ic_loss_array = np.append(ic_loss[:2], ic_loss[3:])"
   ]
  },
  {
   "cell_type": "code",
   "execution_count": 32,
   "id": "a9b5ae3a",
   "metadata": {},
   "outputs": [],
   "source": [
    "loss2 = pde_loss_array + bc_loss_array + ic_loss_array"
   ]
  },
  {
   "cell_type": "markdown",
   "id": "e1f0b7bf",
   "metadata": {},
   "source": [
    "### Soft-Soft Oblong"
   ]
  },
  {
   "cell_type": "code",
   "execution_count": 98,
   "id": "28e967a6",
   "metadata": {
    "scrolled": true
   },
   "outputs": [
    {
     "name": "stdout",
     "output_type": "stream",
     "text": [
      "Compiling model...\n",
      "Building feed-forward neural network...\n",
      "'build' took 0.376113 s\n",
      "\n",
      "'compile' took 3.655693 s\n",
      "\n",
      "Training model...\n",
      "\n",
      "Step      Train loss                                                      Test loss                                                       Test metric\n",
      "0         [1.70e-04, 1.13e-01, 5.90e-01, 6.49e-01, 1.24e-01, 4.34e-03]    [1.70e-04, 1.13e-01, 5.90e-01, 6.49e-01, 1.24e-01, 4.34e-03]    []  \n",
      "1000      [1.63e-04, 2.31e-05, 5.28e-05, 3.40e-05, 9.75e-06, 3.56e-05]    [1.63e-04, 2.31e-05, 5.28e-05, 3.40e-05, 9.75e-06, 3.56e-05]    []  \n",
      "\n",
      "Best model at step 1000:\n",
      "  train loss: 3.19e-04\n",
      "  test loss: 3.19e-04\n",
      "  test metric: []\n",
      "\n",
      "'train' took 41.943985 s\n",
      "\n",
      "Compiling model...\n",
      "'compile' took 3.159950 s\n",
      "\n",
      "Training model...\n",
      "\n",
      "Step      Train loss                                                      Test loss                                                       Test metric\n",
      "1000      [1.63e-04, 2.31e-05, 5.28e-05, 3.40e-05, 9.75e-06, 3.56e-05]    [1.63e-04, 2.31e-05, 5.28e-05, 3.40e-05, 9.75e-06, 3.56e-05]    []  \n",
      "2000      [4.46e-08, 1.29e-09, 2.19e-09, 2.83e-09, 9.63e-10, 2.88e-09]    [4.46e-08, 1.29e-09, 2.19e-09, 2.83e-09, 9.63e-10, 2.88e-09]        \n",
      "3000      [1.79e-08, 5.94e-10, 1.45e-09, 1.75e-09, 7.56e-10, 5.15e-10]    [1.79e-08, 5.94e-10, 1.45e-09, 1.75e-09, 7.56e-10, 5.15e-10]        \n",
      "4000      [5.49e-09, 1.00e-10, 3.94e-10, 4.29e-10, 1.19e-10, 1.23e-10]    [5.49e-09, 1.00e-10, 3.94e-10, 4.29e-10, 1.19e-10, 1.23e-10]        \n",
      "5000      [1.30e-09, 1.67e-11, 4.91e-11, 6.86e-11, 2.00e-11, 1.03e-11]    [1.30e-09, 1.67e-11, 4.91e-11, 6.86e-11, 2.00e-11, 1.03e-11]        \n",
      "6000      [1.12e-09, 2.05e-11, 4.18e-11, 4.97e-11, 2.14e-11, 2.40e-11]    [1.12e-09, 2.05e-11, 4.18e-11, 4.97e-11, 2.14e-11, 2.40e-11]        \n",
      "7000      [5.21e-10, 1.54e-11, 7.24e-11, 6.88e-11, 3.07e-11, 2.26e-11]    [5.21e-10, 1.54e-11, 7.24e-11, 6.88e-11, 3.07e-11, 2.26e-11]        \n",
      "8000      [2.91e-10, 1.50e-11, 2.60e-11, 2.13e-11, 2.59e-11, 7.11e-12]    [2.91e-10, 1.50e-11, 2.60e-11, 2.13e-11, 2.59e-11, 7.11e-12]        \n",
      "9000      [2.83e-10, 1.46e-11, 2.12e-11, 1.70e-11, 2.63e-11, 8.43e-12]    [2.83e-10, 1.46e-11, 2.12e-11, 1.70e-11, 2.63e-11, 8.43e-12]        \n",
      "10000     [1.43e-10, 6.51e-12, 9.79e-12, 8.95e-12, 8.54e-12, 4.55e-12]    [1.43e-10, 6.51e-12, 9.79e-12, 8.95e-12, 8.54e-12, 4.55e-12]        \n",
      "11000     [1.26e-10, 5.15e-12, 9.48e-12, 7.78e-12, 7.01e-12, 3.87e-12]    [1.26e-10, 5.15e-12, 9.48e-12, 7.78e-12, 7.01e-12, 3.87e-12]        \n",
      "INFO:tensorflow:Optimization terminated with:\n",
      "  Message: STOP: TOTAL NO. of f AND g EVALUATIONS EXCEEDS LIMIT\n",
      "  Objective function value: 0.000000\n",
      "  Number of iterations: 8288\n",
      "  Number of functions evaluations: 10001\n",
      "11001     [1.26e-10, 5.16e-12, 9.62e-12, 7.82e-12, 6.98e-12, 3.75e-12]    [1.26e-10, 5.16e-12, 9.62e-12, 7.82e-12, 6.98e-12, 3.75e-12]    []  \n",
      "\n",
      "Best model at step 11001:\n",
      "  train loss: 1.59e-10\n",
      "  test loss: 1.59e-10\n",
      "  test metric: []\n",
      "\n",
      "'train' took 1079.013489 s\n",
      "\n"
     ]
    }
   ],
   "source": [
    "dde.optimizers.config.set_LBFGS_options(ftol=0, gtol=0, maxiter=10000, maxfun=10000)\n",
    "\n",
    "model_oblong_ss.compile(\"adam\", lr=0.001)\n",
    "model_oblong_ss.train(iterations=1000, display_every=1000)\n",
    "model_oblong_ss.compile(\"L-BFGS-B\")\n",
    "loss_history_oblong, train_state_oblong = model_oblong_ss.train(iterations=10000, display_every=1000)"
   ]
  },
  {
   "cell_type": "code",
   "execution_count": 99,
   "id": "e1da744b",
   "metadata": {},
   "outputs": [
    {
     "name": "stdout",
     "output_type": "stream",
     "text": [
      "Saving loss history to burgers_ss_oblong_loss ...\n"
     ]
    }
   ],
   "source": [
    "dde.utils.external.save_loss_history(loss_history_oblong, 'burgers_ss_oblong_loss')"
   ]
  },
  {
   "cell_type": "code",
   "execution_count": 106,
   "id": "a520db6b",
   "metadata": {},
   "outputs": [],
   "source": [
    "loss = pd.read_csv(\"C:/Users/charl/College/acm40980/acm40980_code/burgers_ss_oblong_loss\", sep=' ')\n",
    "pde_loss = loss.reset_index().to_numpy()[:,1]\n",
    "bc_loss = loss.reset_index().to_numpy()[:,2] + loss.reset_index().to_numpy()[:,3] + loss.reset_index().to_numpy()[:,4] + loss.reset_index().to_numpy()[:,5]\n",
    "ic_loss = loss.reset_index().to_numpy()[:,6]\n",
    "\n",
    "pde_loss_array = np.append(pde_loss[:2], pde_loss[3:])\n",
    "bc_loss_array = np.append(bc_loss[:2], bc_loss[3:])\n",
    "ic_loss_array = np.append(ic_loss[:2], ic_loss[3:])"
   ]
  },
  {
   "cell_type": "code",
   "execution_count": 107,
   "id": "9677a214",
   "metadata": {},
   "outputs": [],
   "source": [
    "loss3 = pde_loss_array + bc_loss_array + ic_loss_array"
   ]
  },
  {
   "cell_type": "markdown",
   "id": "6d825b97",
   "metadata": {},
   "source": [
    "# Soft-Hard"
   ]
  },
  {
   "cell_type": "code",
   "execution_count": 33,
   "id": "8080f984",
   "metadata": {},
   "outputs": [
    {
     "name": "stderr",
     "output_type": "stream",
     "text": [
      "C:\\anaconda\\envs\\new\\lib\\site-packages\\skopt\\sampler\\sobol.py:521: UserWarning: The balance properties of Sobol' points require n to be a power of 2. 0 points have been previously generated, then: n=0+502=502. \n",
      "  warnings.warn(\n",
      "C:\\anaconda\\envs\\new\\lib\\site-packages\\skopt\\sampler\\sobol.py:521: UserWarning: The balance properties of Sobol' points require n to be a power of 2. 0 points have been previously generated, then: n=0+101=101. \n",
      "  warnings.warn(\n"
     ]
    }
   ],
   "source": [
    "data_sh = dde.data.TimePDE(geomtime, \n",
    "                        pde, \n",
    "                         [ic],\n",
    "                        num_domain=500,\n",
    "                        num_initial=100,\n",
    "                        train_distribution='Sobol')"
   ]
  },
  {
   "cell_type": "code",
   "execution_count": 34,
   "id": "3221b769",
   "metadata": {},
   "outputs": [],
   "source": [
    "def output_transform(x,u):\n",
    "    return 1/(1+tf.exp( (x[:,0:1]+x[:,1:2]-x[:,2:3])/0.2 )) + x[:,0:1] * (1-x[:,0:1]) * x[:,1:2] * (1-x[:,1:2]) * u"
   ]
  },
  {
   "cell_type": "code",
   "execution_count": 35,
   "id": "2ad98d11",
   "metadata": {},
   "outputs": [],
   "source": [
    "net_square_sh = dde.nn.FNN([3] + [20] * 20 + [1], \"tanh\", \"Glorot uniform\")\n",
    "net_long_sh = dde.nn.FNN([3] + [20] * 5 + [1], \"tanh\", \"Glorot uniform\")\n",
    "net_oblong_sh = dde.nn.FNN([3] + [5] * 20 + [1], \"tanh\", \"Glorot uniform\")"
   ]
  },
  {
   "cell_type": "code",
   "execution_count": 36,
   "id": "e7b52928",
   "metadata": {},
   "outputs": [],
   "source": [
    "net_square_sh.apply_output_transform(output_transform)\n",
    "model_square_sh = dde.Model(data_sh, net_square_sh)\n",
    "\n",
    "net_long_sh.apply_output_transform(output_transform)\n",
    "model_long_sh = dde.Model(data_sh, net_long_sh)\n",
    "\n",
    "net_oblong_sh.apply_output_transform(output_transform)\n",
    "model_oblong_sh = dde.Model(data_sh, net_oblong_sh)"
   ]
  },
  {
   "cell_type": "markdown",
   "id": "bc74a6db",
   "metadata": {},
   "source": [
    "## Soft-Hard Square"
   ]
  },
  {
   "cell_type": "code",
   "execution_count": 86,
   "id": "0db939b8",
   "metadata": {
    "scrolled": true
   },
   "outputs": [
    {
     "name": "stdout",
     "output_type": "stream",
     "text": [
      "Compiling model...\n",
      "Building feed-forward neural network...\n"
     ]
    },
    {
     "name": "stderr",
     "output_type": "stream",
     "text": [
      "C:\\anaconda\\envs\\new\\lib\\site-packages\\deepxde\\nn\\tensorflow_compat_v1\\fnn.py:116: UserWarning: `tf.layers.dense` is deprecated and will be removed in a future version. Please use `tf.keras.layers.Dense` instead.\n",
      "  return tf.layers.dense(\n"
     ]
    },
    {
     "name": "stdout",
     "output_type": "stream",
     "text": [
      "'build' took 0.293919 s\n",
      "\n",
      "'compile' took 3.193403 s\n",
      "\n",
      "Training model...\n",
      "\n",
      "Step      Train loss              Test loss               Test metric\n",
      "0         [5.67e-04, 2.68e-06]    [5.67e-04, 2.68e-06]    []  \n",
      "1000      [2.46e-09, 4.32e-11]    [2.46e-09, 4.32e-11]    []  \n",
      "\n",
      "Best model at step 1000:\n",
      "  train loss: 2.50e-09\n",
      "  test loss: 2.50e-09\n",
      "  test metric: []\n",
      "\n",
      "'train' took 46.903984 s\n",
      "\n",
      "Compiling model...\n",
      "'compile' took 1.965716 s\n",
      "\n",
      "Training model...\n",
      "\n",
      "Step      Train loss              Test loss               Test metric\n",
      "1000      [2.46e-09, 4.32e-11]    [2.46e-09, 4.32e-11]    []  \n",
      "2000      [9.72e-14, 3.18e-15]    [9.72e-14, 3.18e-15]        \n",
      "3000      [1.76e-15, 1.06e-16]    [1.76e-15, 1.06e-16]        \n",
      "4000      [8.76e-16, 1.03e-16]    [8.76e-16, 1.03e-16]        \n",
      "5000      [3.93e-16, 1.49e-17]    [3.93e-16, 1.49e-17]        \n",
      "6000      [1.86e-16, 3.16e-18]    [1.86e-16, 3.16e-18]        \n",
      "7000      [3.43e-17, 1.30e-18]    [3.43e-17, 1.30e-18]        \n",
      "INFO:tensorflow:Optimization terminated with:\n",
      "  Message: CONVERGENCE: REL_REDUCTION_OF_F_<=_FACTR*EPSMCH\n",
      "  Objective function value: 0.000000\n",
      "  Number of iterations: 4483\n",
      "  Number of functions evaluations: 6323\n",
      "7323      [2.96e-17, 8.97e-19]    [2.96e-17, 8.97e-19]    []  \n",
      "\n",
      "Best model at step 7323:\n",
      "  train loss: 3.05e-17\n",
      "  test loss: 3.05e-17\n",
      "  test metric: []\n",
      "\n",
      "'train' took 738.954664 s\n",
      "\n"
     ]
    }
   ],
   "source": [
    "dde.optimizers.config.set_LBFGS_options(ftol=0, gtol=0, maxiter=10000, maxfun=10000)\n",
    "\n",
    "model_square_sh.compile(\"adam\", lr=0.001)\n",
    "model_square_sh.train(iterations=1000, display_every=1000)\n",
    "model_square_sh.compile(\"L-BFGS-B\")\n",
    "loss_history_square, train_state_square = model_square_sh.train(iterations=10000, display_every=1000)"
   ]
  },
  {
   "cell_type": "code",
   "execution_count": 87,
   "id": "75c9488d",
   "metadata": {},
   "outputs": [
    {
     "name": "stdout",
     "output_type": "stream",
     "text": [
      "Saving loss history to burgers_sh_square_loss ...\n"
     ]
    }
   ],
   "source": [
    "dde.utils.external.save_loss_history(loss_history_square, 'burgers_sh_square_loss')"
   ]
  },
  {
   "cell_type": "code",
   "execution_count": 91,
   "id": "a7266b3c",
   "metadata": {},
   "outputs": [],
   "source": [
    "loss = pd.read_csv(\"C:/Users/charl/College/acm40980/acm40980_code/burgers_sh_square_loss\", sep=' ')\n",
    "pde_loss = loss.reset_index().to_numpy()[:,2]\n",
    "ic_loss = loss.reset_index().to_numpy()[:,3]\n",
    "\n",
    "pde_loss_array = np.append(pde_loss[:2], pde_loss[3:])\n",
    "ic_loss_array = np.append(ic_loss[:2], ic_loss[3:])"
   ]
  },
  {
   "cell_type": "code",
   "execution_count": 92,
   "id": "6d075864",
   "metadata": {},
   "outputs": [],
   "source": [
    "loss4 = pde_loss_array + ic_loss_array"
   ]
  },
  {
   "cell_type": "markdown",
   "id": "27df4c97",
   "metadata": {},
   "source": [
    "## Soft-Hard Long"
   ]
  },
  {
   "cell_type": "code",
   "execution_count": 37,
   "id": "92c712d2",
   "metadata": {
    "scrolled": true
   },
   "outputs": [
    {
     "name": "stdout",
     "output_type": "stream",
     "text": [
      "Compiling model...\n",
      "Building feed-forward neural network...\n",
      "'build' took 0.101704 s\n",
      "\n"
     ]
    },
    {
     "name": "stderr",
     "output_type": "stream",
     "text": [
      "C:\\anaconda\\envs\\new\\lib\\site-packages\\deepxde\\nn\\tensorflow_compat_v1\\fnn.py:116: UserWarning: `tf.layers.dense` is deprecated and will be removed in a future version. Please use `tf.keras.layers.Dense` instead.\n",
      "  return tf.layers.dense(\n"
     ]
    },
    {
     "name": "stdout",
     "output_type": "stream",
     "text": [
      "'compile' took 1.315426 s\n",
      "\n",
      "Training model...\n",
      "\n",
      "Step      Train loss              Test loss               Test metric\n",
      "0         [8.69e-04, 4.54e-06]    [8.69e-04, 4.54e-06]    []  \n",
      "1000      [1.05e-08, 2.89e-10]    [1.05e-08, 2.89e-10]    []  \n",
      "\n",
      "Best model at step 1000:\n",
      "  train loss: 1.08e-08\n",
      "  test loss: 1.08e-08\n",
      "  test metric: []\n",
      "\n",
      "'train' took 8.759255 s\n",
      "\n",
      "Compiling model...\n",
      "'compile' took 0.701398 s\n",
      "\n",
      "Training model...\n",
      "\n",
      "Step      Train loss              Test loss               Test metric\n",
      "1000      [1.05e-08, 2.89e-10]    [1.05e-08, 2.89e-10]    []  \n",
      "2000      [6.49e-12, 2.04e-13]    [6.49e-12, 2.04e-13]        \n",
      "3000      [1.24e-12, 1.11e-13]    [1.24e-12, 1.11e-13]        \n",
      "4000      [2.89e-13, 3.86e-14]    [2.89e-13, 3.86e-14]        \n",
      "5000      [8.16e-14, 5.93e-15]    [8.16e-14, 5.93e-15]        \n",
      "6000      [4.32e-14, 8.53e-16]    [4.32e-14, 8.53e-16]        \n",
      "7000      [1.89e-14, 5.53e-16]    [1.89e-14, 5.53e-16]        \n",
      "8000      [9.75e-15, 8.47e-16]    [9.75e-15, 8.47e-16]        \n",
      "9000      [6.34e-15, 3.82e-16]    [6.34e-15, 3.82e-16]        \n",
      "10000     [5.02e-15, 1.42e-16]    [5.02e-15, 1.42e-16]        \n",
      "11000     [4.28e-15, 2.17e-16]    [4.28e-15, 2.17e-16]        \n",
      "INFO:tensorflow:Optimization terminated with:\n",
      "  Message: STOP: TOTAL NO. of f AND g EVALUATIONS EXCEEDS LIMIT\n",
      "  Objective function value: 0.000000\n",
      "  Number of iterations: 8486\n",
      "  Number of functions evaluations: 10001\n",
      "11001     [4.27e-15, 2.21e-16]    [4.27e-15, 2.21e-16]    []  \n",
      "\n",
      "Best model at step 11001:\n",
      "  train loss: 4.49e-15\n",
      "  test loss: 4.49e-15\n",
      "  test metric: []\n",
      "\n",
      "'train' took 115.208206 s\n",
      "\n"
     ]
    }
   ],
   "source": [
    "dde.optimizers.config.set_LBFGS_options(ftol=0, gtol=0, maxiter=10000, maxfun=10000)\n",
    "\n",
    "model_long_sh.compile(\"adam\", lr=0.001)\n",
    "model_long_sh.train(iterations=1000, display_every=1000)\n",
    "model_long_sh.compile(\"L-BFGS-B\")\n",
    "loss_history_long, train_state_long = model_long_sh.train(iterations=10000, display_every=1000)"
   ]
  },
  {
   "cell_type": "code",
   "execution_count": 38,
   "id": "eedc077d",
   "metadata": {},
   "outputs": [
    {
     "name": "stdout",
     "output_type": "stream",
     "text": [
      "Saving loss history to burgers_sh_long_loss ...\n"
     ]
    }
   ],
   "source": [
    "dde.utils.external.save_loss_history(loss_history_long, 'burgers_sh_long_loss')"
   ]
  },
  {
   "cell_type": "code",
   "execution_count": 69,
   "id": "6fdeee33",
   "metadata": {},
   "outputs": [],
   "source": [
    "loss = pd.read_csv(\"C:/Users/charl/College/acm40980/acm40980_code/burgers_sh_long_loss\", sep=' ')\n",
    "pde_loss = loss.reset_index().to_numpy()[:,2]\n",
    "ic_loss = loss.reset_index().to_numpy()[:,3]\n",
    "\n",
    "pde_loss_array = np.append(pde_loss[:2], pde_loss[3:])\n",
    "ic_loss_array = np.append(ic_loss[:2], ic_loss[3:])"
   ]
  },
  {
   "cell_type": "code",
   "execution_count": 70,
   "id": "a753f145",
   "metadata": {},
   "outputs": [],
   "source": [
    "loss5 = pde_loss_array + ic_loss_array"
   ]
  },
  {
   "cell_type": "markdown",
   "id": "3b9a71ef",
   "metadata": {},
   "source": [
    "## Soft-Hard Oblong"
   ]
  },
  {
   "cell_type": "code",
   "execution_count": 100,
   "id": "95154721",
   "metadata": {
    "scrolled": true
   },
   "outputs": [
    {
     "name": "stdout",
     "output_type": "stream",
     "text": [
      "Compiling model...\n",
      "Building feed-forward neural network...\n",
      "'build' took 0.288090 s\n",
      "\n",
      "'compile' took 4.660858 s\n",
      "\n",
      "Training model...\n",
      "\n",
      "Step      Train loss              Test loss               Test metric\n",
      "0         [9.16e-07, 2.59e-09]    [9.16e-07, 2.59e-09]    []  \n",
      "1000      [4.87e-11, 3.96e-12]    [4.87e-11, 3.96e-12]    []  \n",
      "\n",
      "Best model at step 1000:\n",
      "  train loss: 5.27e-11\n",
      "  test loss: 5.27e-11\n",
      "  test metric: []\n",
      "\n",
      "'train' took 24.036773 s\n",
      "\n",
      "Compiling model...\n",
      "'compile' took 2.756366 s\n",
      "\n",
      "Training model...\n",
      "\n",
      "Step      Train loss              Test loss               Test metric\n",
      "1000      [4.87e-11, 3.96e-12]    [4.87e-11, 3.96e-12]    []  \n",
      "2000      [8.64e-14, 7.11e-15]    [8.64e-14, 7.11e-15]        \n",
      "3000      [4.02e-15, 2.30e-16]    [4.02e-15, 2.30e-16]        \n",
      "4000      [2.53e-16, 2.00e-17]    [2.53e-16, 2.00e-17]        \n",
      "5000      [1.40e-17, 1.66e-18]    [1.40e-17, 1.66e-18]        \n",
      "INFO:tensorflow:Optimization terminated with:\n",
      "  Message: CONVERGENCE: REL_REDUCTION_OF_F_<=_FACTR*EPSMCH\n",
      "  Objective function value: 0.000000\n",
      "  Number of iterations: 3275\n",
      "  Number of functions evaluations: 4492\n",
      "5492      [5.74e-18, 5.75e-19]    [5.74e-18, 5.75e-19]    []  \n",
      "\n",
      "Best model at step 5492:\n",
      "  train loss: 6.32e-18\n",
      "  test loss: 6.32e-18\n",
      "  test metric: []\n",
      "\n",
      "'train' took 309.061038 s\n",
      "\n"
     ]
    }
   ],
   "source": [
    "dde.optimizers.config.set_LBFGS_options(ftol=0, gtol=0, maxiter=10000, maxfun=10000)\n",
    "\n",
    "model_oblong_sh.compile(\"adam\", lr=0.001)\n",
    "model_oblong_sh.train(iterations=1000, display_every=1000)\n",
    "model_oblong_sh.compile(\"L-BFGS-B\")\n",
    "loss_history_oblong, train_state_oblong = model_oblong_sh.train(iterations=10000, display_every=1000)"
   ]
  },
  {
   "cell_type": "code",
   "execution_count": 101,
   "id": "523bd9b3",
   "metadata": {},
   "outputs": [
    {
     "name": "stdout",
     "output_type": "stream",
     "text": [
      "Saving loss history to burgers_sh_oblong_loss ...\n"
     ]
    }
   ],
   "source": [
    "dde.utils.external.save_loss_history(loss_history_oblong, 'burgers_sh_oblong_loss')"
   ]
  },
  {
   "cell_type": "code",
   "execution_count": 109,
   "id": "0304b237",
   "metadata": {},
   "outputs": [],
   "source": [
    "loss = pd.read_csv(\"C:/Users/charl/College/acm40980/acm40980_code/burgers_sh_oblong_loss\", sep=' ')\n",
    "pde_loss = loss.reset_index().to_numpy()[:,2]\n",
    "ic_loss = loss.reset_index().to_numpy()[:,3]\n",
    "\n",
    "pde_loss_array = np.append(pde_loss[:2], pde_loss[3:])\n",
    "ic_loss_array = np.append(ic_loss[:2], ic_loss[3:])"
   ]
  },
  {
   "cell_type": "code",
   "execution_count": 110,
   "id": "da9716d9",
   "metadata": {},
   "outputs": [],
   "source": [
    "loss6 = pde_loss_array + ic_loss_array"
   ]
  },
  {
   "cell_type": "markdown",
   "id": "e0803a19",
   "metadata": {},
   "source": [
    "# Hard-Soft"
   ]
  },
  {
   "cell_type": "code",
   "execution_count": 41,
   "id": "96b8dbe5",
   "metadata": {},
   "outputs": [
    {
     "name": "stderr",
     "output_type": "stream",
     "text": [
      "C:\\anaconda\\envs\\new\\lib\\site-packages\\skopt\\sampler\\sobol.py:521: UserWarning: The balance properties of Sobol' points require n to be a power of 2. 0 points have been previously generated, then: n=0+502=502. \n",
      "  warnings.warn(\n",
      "C:\\anaconda\\envs\\new\\lib\\site-packages\\skopt\\sampler\\sobol.py:521: UserWarning: The balance properties of Sobol' points require n to be a power of 2. 0 points have been previously generated, then: n=0+103=103. \n",
      "  warnings.warn(\n",
      "C:\\anaconda\\envs\\new\\lib\\site-packages\\skopt\\sampler\\sobol.py:521: UserWarning: The balance properties of Sobol' points require n to be a power of 2. 0 points have been previously generated, then: n=0+101=101. \n",
      "  warnings.warn(\n"
     ]
    }
   ],
   "source": [
    "data_hs = dde.data.TimePDE(geomtime, \n",
    "                        pde, \n",
    "                        [bc_top,\n",
    "                         bc_bottom,\n",
    "                         bc_left,\n",
    "                         bc_right],\n",
    "                        num_domain=500,\n",
    "                        num_boundary=100,\n",
    "                        train_distribution='Sobol')"
   ]
  },
  {
   "cell_type": "code",
   "execution_count": 42,
   "id": "b11cf704",
   "metadata": {},
   "outputs": [],
   "source": [
    "def output_transform(x,u):\n",
    "    return 1/(1+tf.exp( (x[:,0:1]+x[:,1:2]-x[:,2:3])/0.2 )) + x[:,2:3] * u"
   ]
  },
  {
   "cell_type": "code",
   "execution_count": 43,
   "id": "76080198",
   "metadata": {},
   "outputs": [],
   "source": [
    "net_square_hs = dde.nn.FNN([3] + [20] * 20 + [1], \"tanh\", \"Glorot uniform\")\n",
    "net_long_hs = dde.nn.FNN([3] + [20] * 5 + [1], \"tanh\", \"Glorot uniform\")\n",
    "net_oblong_hs = dde.nn.FNN([3] + [5] * 20 + [1], \"tanh\", \"Glorot uniform\")"
   ]
  },
  {
   "cell_type": "code",
   "execution_count": 44,
   "id": "acb14f4d",
   "metadata": {},
   "outputs": [],
   "source": [
    "net_square_hs.apply_output_transform(output_transform)\n",
    "model_square_hs = dde.Model(data_hs, net_square_hs)\n",
    "\n",
    "net_long_hs.apply_output_transform(output_transform)\n",
    "model_long_hs = dde.Model(data_hs, net_long_hs)\n",
    "\n",
    "net_oblong_hs.apply_output_transform(output_transform)\n",
    "model_oblong_hs = dde.Model(data_hs, net_oblong_hs)"
   ]
  },
  {
   "cell_type": "markdown",
   "id": "6c9196f1",
   "metadata": {},
   "source": [
    "## Hard-Soft Square"
   ]
  },
  {
   "cell_type": "code",
   "execution_count": 94,
   "id": "998689fb",
   "metadata": {
    "scrolled": true
   },
   "outputs": [
    {
     "name": "stdout",
     "output_type": "stream",
     "text": [
      "Compiling model...\n",
      "Building feed-forward neural network...\n"
     ]
    },
    {
     "name": "stderr",
     "output_type": "stream",
     "text": [
      "C:\\anaconda\\envs\\new\\lib\\site-packages\\deepxde\\nn\\tensorflow_compat_v1\\fnn.py:116: UserWarning: `tf.layers.dense` is deprecated and will be removed in a future version. Please use `tf.keras.layers.Dense` instead.\n",
      "  return tf.layers.dense(\n"
     ]
    },
    {
     "name": "stdout",
     "output_type": "stream",
     "text": [
      "'build' took 0.291285 s\n",
      "\n",
      "'compile' took 3.224624 s\n",
      "\n",
      "Training model...\n",
      "\n",
      "Step      Train loss                                            Test loss                                             Test metric\n",
      "0         [6.12e-02, 4.81e-02, 1.79e-03, 3.41e-02, 1.81e-02]    [6.12e-02, 4.81e-02, 1.79e-03, 3.41e-02, 1.81e-02]    []  \n",
      "1000      [1.38e-07, 3.98e-08, 1.94e-08, 2.78e-08, 3.54e-08]    [1.38e-07, 3.98e-08, 1.94e-08, 2.78e-08, 3.54e-08]    []  \n",
      "\n",
      "Best model at step 1000:\n",
      "  train loss: 2.60e-07\n",
      "  test loss: 2.60e-07\n",
      "  test metric: []\n",
      "\n",
      "'train' took 49.860762 s\n",
      "\n",
      "Compiling model...\n",
      "'compile' took 1.590584 s\n",
      "\n",
      "Training model...\n",
      "\n",
      "Step      Train loss                                            Test loss                                             Test metric\n",
      "1000      [1.38e-07, 3.98e-08, 1.94e-08, 2.78e-08, 3.54e-08]    [1.38e-07, 3.98e-08, 1.94e-08, 2.78e-08, 3.54e-08]    []  \n",
      "2000      [1.14e-10, 5.92e-12, 1.28e-11, 2.35e-11, 1.13e-11]    [1.14e-10, 5.92e-12, 1.28e-11, 2.35e-11, 1.13e-11]        \n",
      "3000      [1.71e-11, 1.58e-12, 5.20e-12, 2.00e-12, 2.90e-12]    [1.71e-11, 1.58e-12, 5.20e-12, 2.00e-12, 2.90e-12]        \n",
      "4000      [5.19e-12, 2.84e-13, 1.54e-12, 5.58e-13, 1.17e-13]    [5.19e-12, 2.84e-13, 1.54e-12, 5.58e-13, 1.17e-13]        \n",
      "5000      [1.86e-12, 3.06e-14, 1.98e-13, 5.34e-14, 7.06e-14]    [1.86e-12, 3.06e-14, 1.98e-13, 5.34e-14, 7.06e-14]        \n",
      "6000      [7.31e-13, 7.31e-14, 8.10e-14, 1.01e-13, 7.28e-14]    [7.31e-13, 7.31e-14, 8.10e-14, 1.01e-13, 7.28e-14]        \n",
      "7000      [4.51e-13, 3.27e-14, 4.63e-14, 8.35e-14, 3.28e-14]    [4.51e-13, 3.27e-14, 4.63e-14, 8.35e-14, 3.28e-14]        \n",
      "8000      [2.30e-13, 1.49e-14, 2.64e-14, 2.60e-14, 1.62e-14]    [2.30e-13, 1.49e-14, 2.64e-14, 2.60e-14, 1.62e-14]        \n",
      "9000      [1.26e-13, 1.28e-14, 3.04e-14, 1.32e-14, 1.68e-14]    [1.26e-13, 1.28e-14, 3.04e-14, 1.32e-14, 1.68e-14]        \n",
      "10000     [1.23e-13, 1.15e-14, 2.35e-14, 7.81e-15, 1.69e-14]    [1.23e-13, 1.15e-14, 2.35e-14, 7.81e-15, 1.69e-14]        \n",
      "11000     [1.05e-13, 1.01e-14, 1.20e-14, 8.00e-15, 8.24e-15]    [1.05e-13, 1.01e-14, 1.20e-14, 8.00e-15, 8.24e-15]        \n",
      "INFO:tensorflow:Optimization terminated with:\n",
      "  Message: STOP: TOTAL NO. of f AND g EVALUATIONS EXCEEDS LIMIT\n",
      "  Objective function value: 0.000000\n",
      "  Number of iterations: 7668\n",
      "  Number of functions evaluations: 10002\n",
      "11002     [1.05e-13, 9.91e-15, 1.21e-14, 8.13e-15, 8.34e-15]    [1.05e-13, 9.91e-15, 1.21e-14, 8.13e-15, 8.34e-15]    []  \n",
      "\n",
      "Best model at step 11002:\n",
      "  train loss: 1.43e-13\n",
      "  test loss: 1.43e-13\n",
      "  test metric: []\n",
      "\n",
      "'train' took 1250.013861 s\n",
      "\n"
     ]
    }
   ],
   "source": [
    "dde.optimizers.config.set_LBFGS_options(ftol=0, gtol=0, maxiter=10000, maxfun=10000)\n",
    "\n",
    "model_square_hs.compile(\"adam\", lr=0.001)\n",
    "model_square_hs.train(iterations=1000, display_every=1000)\n",
    "model_square_hs.compile(\"L-BFGS-B\")\n",
    "loss_history_square, train_state_square = model_square_hs.train(iterations=10000, display_every=1000)"
   ]
  },
  {
   "cell_type": "code",
   "execution_count": 95,
   "id": "74619087",
   "metadata": {},
   "outputs": [
    {
     "name": "stdout",
     "output_type": "stream",
     "text": [
      "Saving loss history to burgers_hs_square_loss ...\n"
     ]
    }
   ],
   "source": [
    "dde.utils.external.save_loss_history(loss_history_square, 'burgers_hs_square_loss')"
   ]
  },
  {
   "cell_type": "code",
   "execution_count": 125,
   "id": "ab0cc2cd",
   "metadata": {},
   "outputs": [],
   "source": [
    "loss = pd.read_csv(\"C:/Users/charl/College/acm40980/acm40980_code/burgers_hs_square_loss\", sep=' ')\n",
    "pde_loss = loss.reset_index().to_numpy()[:,1]\n",
    "bc_loss = loss.reset_index().to_numpy()[:,2] + loss.reset_index().to_numpy()[:,3] + loss.reset_index().to_numpy()[:,4] + loss.reset_index().to_numpy()[:,5] \n",
    "\n",
    "pde_loss_array = np.append(pde_loss[:2], pde_loss[3:])\n",
    "bc_loss_array = np.append(bc_loss[:2], bc_loss[3:])"
   ]
  },
  {
   "cell_type": "code",
   "execution_count": 126,
   "id": "54209deb",
   "metadata": {},
   "outputs": [],
   "source": [
    "loss7 = pde_loss_array + bc_loss_array"
   ]
  },
  {
   "cell_type": "markdown",
   "id": "c0eea019",
   "metadata": {},
   "source": [
    "## Hard-Soft Long"
   ]
  },
  {
   "cell_type": "code",
   "execution_count": 45,
   "id": "7d1b2d33",
   "metadata": {
    "scrolled": true
   },
   "outputs": [
    {
     "name": "stdout",
     "output_type": "stream",
     "text": [
      "Compiling model...\n",
      "Building feed-forward neural network...\n",
      "'build' took 0.086621 s\n",
      "\n"
     ]
    },
    {
     "name": "stderr",
     "output_type": "stream",
     "text": [
      "C:\\anaconda\\envs\\new\\lib\\site-packages\\deepxde\\nn\\tensorflow_compat_v1\\fnn.py:116: UserWarning: `tf.layers.dense` is deprecated and will be removed in a future version. Please use `tf.keras.layers.Dense` instead.\n",
      "  return tf.layers.dense(\n"
     ]
    },
    {
     "name": "stdout",
     "output_type": "stream",
     "text": [
      "'compile' took 0.989077 s\n",
      "\n",
      "Training model...\n",
      "\n",
      "Step      Train loss                                            Test loss                                             Test metric\n",
      "0         [2.42e-02, 4.80e-03, 3.44e-02, 9.76e-03, 3.03e-02]    [2.42e-02, 4.80e-03, 3.44e-02, 9.76e-03, 3.03e-02]    []  \n",
      "1000      [2.55e-06, 2.51e-07, 4.04e-07, 3.73e-07, 8.46e-08]    [2.55e-06, 2.51e-07, 4.04e-07, 3.73e-07, 8.46e-08]    []  \n",
      "\n",
      "Best model at step 1000:\n",
      "  train loss: 3.67e-06\n",
      "  test loss: 3.67e-06\n",
      "  test metric: []\n",
      "\n",
      "'train' took 6.308471 s\n",
      "\n",
      "Compiling model...\n",
      "'compile' took 0.457251 s\n",
      "\n",
      "Training model...\n",
      "\n",
      "Step      Train loss                                            Test loss                                             Test metric\n",
      "1000      [2.55e-06, 2.51e-07, 4.04e-07, 3.73e-07, 8.46e-08]    [2.55e-06, 2.51e-07, 4.04e-07, 3.73e-07, 8.46e-08]    []  \n",
      "2000      [2.86e-09, 3.29e-10, 3.12e-10, 3.76e-10, 2.14e-10]    [2.86e-09, 3.29e-10, 3.12e-10, 3.76e-10, 2.14e-10]        \n",
      "3000      [7.84e-10, 6.38e-11, 6.75e-11, 7.26e-11, 7.64e-11]    [7.84e-10, 6.38e-11, 6.75e-11, 7.26e-11, 7.64e-11]        \n",
      "4000      [2.33e-10, 1.60e-11, 4.15e-11, 1.58e-11, 2.61e-11]    [2.33e-10, 1.60e-11, 4.15e-11, 1.58e-11, 2.61e-11]        \n",
      "5000      [1.50e-10, 8.31e-12, 1.49e-11, 6.99e-12, 1.30e-11]    [1.50e-10, 8.31e-12, 1.49e-11, 6.99e-12, 1.30e-11]        \n",
      "6000      [1.31e-10, 5.82e-12, 1.13e-11, 4.28e-12, 5.70e-12]    [1.31e-10, 5.82e-12, 1.13e-11, 4.28e-12, 5.70e-12]        \n",
      "7000      [4.76e-11, 1.57e-12, 4.99e-12, 3.38e-12, 1.89e-12]    [4.76e-11, 1.57e-12, 4.99e-12, 3.38e-12, 1.89e-12]        \n",
      "8000      [2.50e-11, 5.95e-13, 2.97e-12, 1.70e-12, 1.33e-12]    [2.50e-11, 5.95e-13, 2.97e-12, 1.70e-12, 1.33e-12]        \n",
      "9000      [1.50e-11, 6.74e-13, 1.64e-12, 1.68e-12, 8.33e-13]    [1.50e-11, 6.74e-13, 1.64e-12, 1.68e-12, 8.33e-13]        \n",
      "10000     [1.26e-11, 5.30e-13, 9.28e-13, 7.31e-13, 5.11e-13]    [1.26e-11, 5.30e-13, 9.28e-13, 7.31e-13, 5.11e-13]        \n",
      "11000     [8.34e-12, 4.47e-13, 1.02e-12, 1.09e-12, 3.17e-13]    [8.34e-12, 4.47e-13, 1.02e-12, 1.09e-12, 3.17e-13]        \n",
      "INFO:tensorflow:Optimization terminated with:\n",
      "  Message: STOP: TOTAL NO. of f AND g EVALUATIONS EXCEEDS LIMIT\n",
      "  Objective function value: 0.000000\n",
      "  Number of iterations: 8318\n",
      "  Number of functions evaluations: 10001\n",
      "11001     [8.30e-12, 4.31e-13, 1.01e-12, 1.04e-12, 3.36e-13]    [8.30e-12, 4.31e-13, 1.01e-12, 1.04e-12, 3.36e-13]    []  \n",
      "\n",
      "Best model at step 11001:\n",
      "  train loss: 1.11e-11\n",
      "  test loss: 1.11e-11\n",
      "  test metric: []\n",
      "\n",
      "'train' took 134.726175 s\n",
      "\n"
     ]
    }
   ],
   "source": [
    "dde.optimizers.config.set_LBFGS_options(ftol=0, gtol=0, maxiter=10000, maxfun=10000)\n",
    "\n",
    "model_long_hs.compile(\"adam\", lr=0.001)\n",
    "model_long_hs.train(iterations=1000, display_every=1000)\n",
    "model_long_hs.compile(\"L-BFGS-B\")\n",
    "loss_history_long, train_state_long = model_long_hs.train(iterations=10000, display_every=1000)"
   ]
  },
  {
   "cell_type": "code",
   "execution_count": 46,
   "id": "9c205053",
   "metadata": {},
   "outputs": [
    {
     "name": "stdout",
     "output_type": "stream",
     "text": [
      "Saving loss history to burgers_hs_long_loss ...\n"
     ]
    }
   ],
   "source": [
    "dde.utils.external.save_loss_history(loss_history_long, 'burgers_hs_long_loss')"
   ]
  },
  {
   "cell_type": "code",
   "execution_count": 123,
   "id": "667aa27d",
   "metadata": {},
   "outputs": [],
   "source": [
    "loss = pd.read_csv(\"C:/Users/charl/College/acm40980/acm40980_code/burgers_hs_long_loss\", sep=' ')\n",
    "pde_loss = loss.reset_index().to_numpy()[:,1]\n",
    "bc_loss = loss.reset_index().to_numpy()[:,2] + loss.reset_index().to_numpy()[:,3] + loss.reset_index().to_numpy()[:,4] + loss.reset_index().to_numpy()[:,5] \n",
    "\n",
    "pde_loss_array = np.append(pde_loss[:2], pde_loss[3:])\n",
    "bc_loss_array = np.append(bc_loss[:2], bc_loss[3:])"
   ]
  },
  {
   "cell_type": "code",
   "execution_count": 124,
   "id": "1cb099e4",
   "metadata": {},
   "outputs": [],
   "source": [
    "loss8 = pde_loss_array + bc_loss_array"
   ]
  },
  {
   "cell_type": "markdown",
   "id": "1b3eb23e",
   "metadata": {},
   "source": [
    "## Hard-Soft Oblong"
   ]
  },
  {
   "cell_type": "code",
   "execution_count": 102,
   "id": "f67d6375",
   "metadata": {
    "scrolled": true
   },
   "outputs": [
    {
     "name": "stdout",
     "output_type": "stream",
     "text": [
      "Compiling model...\n",
      "Building feed-forward neural network...\n",
      "'build' took 0.311746 s\n",
      "\n",
      "'compile' took 3.646505 s\n",
      "\n",
      "Training model...\n",
      "\n",
      "Step      Train loss                                            Test loss                                             Test metric\n",
      "0         [7.28e-04, 1.09e-04, 1.70e-04, 6.42e-04, 7.75e-05]    [7.28e-04, 1.09e-04, 1.70e-04, 6.42e-04, 7.75e-05]    []  \n",
      "1000      [2.73e-09, 2.38e-10, 1.26e-10, 1.82e-10, 1.12e-09]    [2.73e-09, 2.38e-10, 1.26e-10, 1.82e-10, 1.12e-09]    []  \n",
      "\n",
      "Best model at step 1000:\n",
      "  train loss: 4.40e-09\n",
      "  test loss: 4.40e-09\n",
      "  test metric: []\n",
      "\n",
      "'train' took 25.586787 s\n",
      "\n",
      "Compiling model...\n",
      "'compile' took 3.014374 s\n",
      "\n",
      "Training model...\n",
      "\n",
      "Step      Train loss                                            Test loss                                             Test metric\n",
      "1000      [2.73e-09, 2.38e-10, 1.26e-10, 1.82e-10, 1.12e-09]    [2.73e-09, 2.38e-10, 1.26e-10, 1.82e-10, 1.12e-09]    []  \n",
      "2000      [1.95e-13, 6.18e-14, 1.77e-14, 4.93e-14, 4.03e-14]    [1.95e-13, 6.18e-14, 1.77e-14, 4.93e-14, 4.03e-14]        \n",
      "3000      [2.35e-14, 1.08e-15, 8.19e-16, 8.69e-16, 1.44e-15]    [2.35e-14, 1.08e-15, 8.19e-16, 8.69e-16, 1.44e-15]        \n",
      "4000      [1.04e-15, 1.05e-16, 4.37e-17, 2.23e-17, 4.72e-17]    [1.04e-15, 1.05e-16, 4.37e-17, 2.23e-17, 4.72e-17]        \n",
      "5000      [8.51e-16, 3.49e-17, 9.30e-18, 1.13e-17, 3.12e-17]    [8.51e-16, 3.49e-17, 9.30e-18, 1.13e-17, 3.12e-17]        \n",
      "6000      [7.85e-16, 4.08e-17, 6.70e-18, 1.61e-17, 2.52e-17]    [7.85e-16, 4.08e-17, 6.70e-18, 1.61e-17, 2.52e-17]        \n",
      "7000      [5.69e-16, 2.73e-17, 7.15e-18, 2.41e-17, 3.04e-17]    [5.69e-16, 2.73e-17, 7.15e-18, 2.41e-17, 3.04e-17]        \n",
      "8000      [1.17e-16, 9.20e-18, 1.31e-17, 1.59e-17, 8.44e-18]    [1.17e-16, 9.20e-18, 1.31e-17, 1.59e-17, 8.44e-18]        \n",
      "INFO:tensorflow:Optimization terminated with:\n",
      "  Message: CONVERGENCE: REL_REDUCTION_OF_F_<=_FACTR*EPSMCH\n",
      "  Objective function value: 0.000000\n",
      "  Number of iterations: 5566\n",
      "  Number of functions evaluations: 7437\n",
      "8437      [1.05e-16, 4.33e-18, 6.61e-18, 7.05e-18, 6.22e-18]    [1.05e-16, 4.33e-18, 6.61e-18, 7.05e-18, 6.22e-18]    []  \n",
      "\n",
      "Best model at step 8437:\n",
      "  train loss: 1.29e-16\n",
      "  test loss: 1.29e-16\n",
      "  test metric: []\n",
      "\n",
      "'train' took 537.636990 s\n",
      "\n"
     ]
    }
   ],
   "source": [
    "dde.optimizers.config.set_LBFGS_options(ftol=0, gtol=0, maxiter=10000, maxfun=10000)\n",
    "\n",
    "model_oblong_hs.compile(\"adam\", lr=0.001)\n",
    "model_oblong_hs.train(iterations=1000, display_every=1000)\n",
    "model_oblong_hs.compile(\"L-BFGS-B\")\n",
    "loss_history_oblong, train_state_oblong = model_oblong_hs.train(iterations=10000, display_every=1000)"
   ]
  },
  {
   "cell_type": "code",
   "execution_count": 103,
   "id": "33f7061c",
   "metadata": {},
   "outputs": [
    {
     "name": "stdout",
     "output_type": "stream",
     "text": [
      "Saving loss history to burgers_hs_oblong_loss ...\n"
     ]
    }
   ],
   "source": [
    "dde.utils.external.save_loss_history(loss_history_oblong, 'burgers_hs_oblong_loss')"
   ]
  },
  {
   "cell_type": "code",
   "execution_count": 120,
   "id": "3c02ec72",
   "metadata": {},
   "outputs": [],
   "source": [
    "loss = pd.read_csv(\"C:/Users/charl/College/acm40980/acm40980_code/burgers_hs_oblong_loss\", sep=' ')\n",
    "pde_loss = loss.reset_index().to_numpy()[:,1]\n",
    "bc_loss = loss.reset_index().to_numpy()[:,2] + loss.reset_index().to_numpy()[:,3] + loss.reset_index().to_numpy()[:,4] + loss.reset_index().to_numpy()[:,5] \n",
    "\n",
    "pde_loss_array = np.append(pde_loss[:2], pde_loss[3:])\n",
    "bc_loss_array = np.append(bc_loss[:2], bc_loss[3:])"
   ]
  },
  {
   "cell_type": "code",
   "execution_count": 122,
   "id": "0384d7bc",
   "metadata": {},
   "outputs": [],
   "source": [
    "loss9 = pde_loss_array + bc_loss_array"
   ]
  },
  {
   "cell_type": "markdown",
   "id": "cea7a581",
   "metadata": {},
   "source": [
    "# Hard-Hard"
   ]
  },
  {
   "cell_type": "code",
   "execution_count": 49,
   "id": "824c0aec",
   "metadata": {},
   "outputs": [
    {
     "name": "stderr",
     "output_type": "stream",
     "text": [
      "C:\\anaconda\\envs\\new\\lib\\site-packages\\skopt\\sampler\\sobol.py:521: UserWarning: The balance properties of Sobol' points require n to be a power of 2. 0 points have been previously generated, then: n=0+502=502. \n",
      "  warnings.warn(\n"
     ]
    }
   ],
   "source": [
    "data_hh = dde.data.TimePDE(geomtime, \n",
    "                        pde, \n",
    "                        [],\n",
    "                        num_domain=500,\n",
    "                        train_distribution='Sobol')"
   ]
  },
  {
   "cell_type": "code",
   "execution_count": 50,
   "id": "250b5fbb",
   "metadata": {},
   "outputs": [],
   "source": [
    "def output_transform(x,u):\n",
    "    return 1/(1+tf.exp( (x[:,0:1]+x[:,1:2]-x[:,2:3])/0.2 )) + x[:,2:3] * x[:,0:1] * (1-x[:,0:1]) * x[:,1:2] * (1-x[:,1:2]) * u"
   ]
  },
  {
   "cell_type": "code",
   "execution_count": 51,
   "id": "fd096888",
   "metadata": {},
   "outputs": [],
   "source": [
    "net_square_hh = dde.nn.FNN([3] + [20] * 20 + [1], \"tanh\", 'Glorot uniform')\n",
    "net_long_hh = dde.nn.FNN([3] + [20] * 5 + [1], \"tanh\", 'Glorot uniform')\n",
    "net_oblong_hh = dde.nn.FNN([3] + [5] * 20 + [1], \"tanh\", 'Glorot uniform')"
   ]
  },
  {
   "cell_type": "code",
   "execution_count": 52,
   "id": "71ae219f",
   "metadata": {},
   "outputs": [],
   "source": [
    "net_square_hh.apply_output_transform(output_transform)\n",
    "model_square_hh = dde.Model(data_hh, net_square_hh)\n",
    "\n",
    "net_long_hh.apply_output_transform(output_transform)\n",
    "model_long_hh = dde.Model(data_hh, net_long_hh)\n",
    "\n",
    "net_oblong_hh.apply_output_transform(output_transform)\n",
    "model_oblong_hh = dde.Model(data_hh, net_oblong_hh)"
   ]
  },
  {
   "cell_type": "markdown",
   "id": "e9021f24",
   "metadata": {},
   "source": [
    "## Hard-Hard Square"
   ]
  },
  {
   "cell_type": "code",
   "execution_count": 96,
   "id": "fd3a7234",
   "metadata": {
    "scrolled": true
   },
   "outputs": [
    {
     "name": "stdout",
     "output_type": "stream",
     "text": [
      "Compiling model...\n",
      "Building feed-forward neural network...\n",
      "'build' took 0.276076 s\n",
      "\n",
      "'compile' took 3.600626 s\n",
      "\n",
      "Training model...\n",
      "\n",
      "Step      Train loss    Test loss     Test metric\n",
      "0         [3.67e-04]    [3.67e-04]    []  \n",
      "1000      [1.24e-09]    [1.24e-09]    []  \n",
      "\n",
      "Best model at step 1000:\n",
      "  train loss: 1.24e-09\n",
      "  test loss: 1.24e-09\n",
      "  test metric: []\n",
      "\n",
      "'train' took 51.643600 s\n",
      "\n",
      "Compiling model...\n",
      "'compile' took 1.972475 s\n",
      "\n",
      "Training model...\n",
      "\n",
      "Step      Train loss    Test loss     Test metric\n",
      "1000      [1.24e-09]    [1.24e-09]    []  \n",
      "2000      [1.36e-13]    [1.36e-13]        \n",
      "3000      [2.38e-14]    [2.38e-14]        \n",
      "4000      [1.58e-14]    [1.58e-14]        \n",
      "5000      [5.76e-15]    [5.76e-15]        \n",
      "6000      [3.56e-15]    [3.56e-15]        \n",
      "7000      [2.67e-15]    [2.67e-15]        \n",
      "8000      [1.35e-15]    [1.35e-15]        \n",
      "9000      [7.25e-16]    [7.25e-16]        \n",
      "10000     [5.39e-16]    [5.39e-16]        \n",
      "11000     [4.91e-16]    [4.91e-16]        \n",
      "INFO:tensorflow:Optimization terminated with:\n",
      "  Message: STOP: TOTAL NO. of f AND g EVALUATIONS EXCEEDS LIMIT\n",
      "  Objective function value: 0.000000\n",
      "  Number of iterations: 7649\n",
      "  Number of functions evaluations: 10002\n",
      "11002     [4.91e-16]    [4.91e-16]    []  \n",
      "\n",
      "Best model at step 11002:\n",
      "  train loss: 4.91e-16\n",
      "  test loss: 4.91e-16\n",
      "  test metric: []\n",
      "\n",
      "'train' took 1272.056567 s\n",
      "\n"
     ]
    }
   ],
   "source": [
    "dde.optimizers.config.set_LBFGS_options(ftol=0, gtol=0, maxiter=10000, maxfun=10000)\n",
    "\n",
    "model_square_hh.compile(\"adam\", lr=0.001)\n",
    "model_square_hh.train(iterations=1000, display_every=1000)\n",
    "model_square_hh.compile(\"L-BFGS-B\")\n",
    "loss_history_square, train_state_square = model_square_hh.train(iterations=10000, display_every=1000)"
   ]
  },
  {
   "cell_type": "code",
   "execution_count": 97,
   "id": "4b816da6",
   "metadata": {},
   "outputs": [
    {
     "name": "stdout",
     "output_type": "stream",
     "text": [
      "Saving loss history to burgers_hh_square_loss ...\n"
     ]
    }
   ],
   "source": [
    "dde.utils.external.save_loss_history(loss_history_square, 'burgers_hh_square_loss')"
   ]
  },
  {
   "cell_type": "code",
   "execution_count": 137,
   "id": "3a238a0d",
   "metadata": {},
   "outputs": [],
   "source": [
    "loss = pd.read_csv(\"C:/Users/charl/College/acm40980/acm40980_code/burgers_hh_square_loss\", sep=' ')\n",
    "pde_loss = loss.reset_index().to_numpy()[:,2]\n",
    "\n",
    "pde_loss_array = np.append(pde_loss[:2], pde_loss[3:])"
   ]
  },
  {
   "cell_type": "code",
   "execution_count": 139,
   "id": "eb9f2799",
   "metadata": {},
   "outputs": [],
   "source": [
    "loss10 = pde_loss_array"
   ]
  },
  {
   "cell_type": "markdown",
   "id": "1a27f341",
   "metadata": {},
   "source": [
    "## Hard-Hard Long"
   ]
  },
  {
   "cell_type": "code",
   "execution_count": 53,
   "id": "bef13f4b",
   "metadata": {
    "scrolled": true
   },
   "outputs": [
    {
     "name": "stdout",
     "output_type": "stream",
     "text": [
      "Compiling model...\n",
      "Building feed-forward neural network...\n",
      "'build' took 0.094683 s\n",
      "\n"
     ]
    },
    {
     "name": "stderr",
     "output_type": "stream",
     "text": [
      "C:\\anaconda\\envs\\new\\lib\\site-packages\\deepxde\\nn\\tensorflow_compat_v1\\fnn.py:116: UserWarning: `tf.layers.dense` is deprecated and will be removed in a future version. Please use `tf.keras.layers.Dense` instead.\n",
      "  return tf.layers.dense(\n"
     ]
    },
    {
     "name": "stdout",
     "output_type": "stream",
     "text": [
      "'compile' took 1.458936 s\n",
      "\n",
      "Training model...\n",
      "\n",
      "Step      Train loss    Test loss     Test metric\n",
      "0         [3.44e-03]    [3.44e-03]    []  \n",
      "1000      [2.48e-07]    [2.48e-07]    []  \n",
      "\n",
      "Best model at step 1000:\n",
      "  train loss: 2.48e-07\n",
      "  test loss: 2.48e-07\n",
      "  test metric: []\n",
      "\n",
      "'train' took 7.425597 s\n",
      "\n",
      "Compiling model...\n",
      "'compile' took 0.706087 s\n",
      "\n",
      "Training model...\n",
      "\n",
      "Step      Train loss    Test loss     Test metric\n",
      "1000      [2.48e-07]    [2.48e-07]    []  \n",
      "2000      [8.66e-12]    [8.66e-12]        \n",
      "3000      [2.57e-12]    [2.57e-12]        \n",
      "4000      [1.30e-12]    [1.30e-12]        \n",
      "5000      [4.40e-13]    [4.40e-13]        \n",
      "6000      [3.20e-13]    [3.20e-13]        \n",
      "7000      [1.88e-13]    [1.88e-13]        \n",
      "8000      [1.49e-13]    [1.49e-13]        \n",
      "9000      [1.24e-13]    [1.24e-13]        \n",
      "10000     [9.85e-14]    [9.85e-14]        \n",
      "11000     [6.18e-14]    [6.18e-14]        \n",
      "INFO:tensorflow:Optimization terminated with:\n",
      "  Message: STOP: TOTAL NO. of f AND g EVALUATIONS EXCEEDS LIMIT\n",
      "  Objective function value: 0.000000\n",
      "  Number of iterations: 7636\n",
      "  Number of functions evaluations: 10002\n",
      "11002     [6.16e-14]    [6.16e-14]    []  \n",
      "\n",
      "Best model at step 11002:\n",
      "  train loss: 6.16e-14\n",
      "  test loss: 6.16e-14\n",
      "  test metric: []\n",
      "\n",
      "'train' took 154.291727 s\n",
      "\n"
     ]
    }
   ],
   "source": [
    "dde.optimizers.config.set_LBFGS_options(ftol=0, gtol=0, maxiter=10000, maxfun=10000)\n",
    "\n",
    "model_long_hh.compile(\"adam\", lr=0.001)\n",
    "model_long_hh.train(iterations=1000, display_every=1000)\n",
    "model_long_hh.compile(\"L-BFGS-B\")\n",
    "loss_history_long, train_state_long = model_long_hh.train(iterations=10000, display_every=1000)"
   ]
  },
  {
   "cell_type": "code",
   "execution_count": 54,
   "id": "6dfea0eb",
   "metadata": {},
   "outputs": [
    {
     "name": "stdout",
     "output_type": "stream",
     "text": [
      "Saving loss history to burgers_hh_long_loss ...\n"
     ]
    }
   ],
   "source": [
    "dde.utils.external.save_loss_history(loss_history_long, 'burgers_hh_long_loss')"
   ]
  },
  {
   "cell_type": "code",
   "execution_count": 140,
   "id": "fbe2e222",
   "metadata": {},
   "outputs": [],
   "source": [
    "loss = pd.read_csv(\"C:/Users/charl/College/acm40980/acm40980_code/burgers_hh_long_loss\", sep=' ')\n",
    "pde_loss = loss.reset_index().to_numpy()[:,2]\n",
    "\n",
    "pde_loss_array = np.append(pde_loss[:2], pde_loss[3:])"
   ]
  },
  {
   "cell_type": "code",
   "execution_count": 141,
   "id": "1e2deeff",
   "metadata": {},
   "outputs": [],
   "source": [
    "loss11 = pde_loss_array"
   ]
  },
  {
   "cell_type": "markdown",
   "id": "d4c599bf",
   "metadata": {},
   "source": [
    "## Hard-Hard Oblong"
   ]
  },
  {
   "cell_type": "code",
   "execution_count": 104,
   "id": "783c9ede",
   "metadata": {
    "scrolled": true
   },
   "outputs": [
    {
     "name": "stdout",
     "output_type": "stream",
     "text": [
      "Compiling model...\n",
      "Building feed-forward neural network...\n",
      "'build' took 0.312287 s\n",
      "\n",
      "'compile' took 5.487735 s\n",
      "\n",
      "Training model...\n",
      "\n",
      "Step      Train loss    Test loss     Test metric\n",
      "0         [5.30e-05]    [5.30e-05]    []  \n",
      "1000      [4.63e-10]    [4.63e-10]    []  \n",
      "\n",
      "Best model at step 1000:\n",
      "  train loss: 4.63e-10\n",
      "  test loss: 4.63e-10\n",
      "  test metric: []\n",
      "\n",
      "'train' took 40.005344 s\n",
      "\n",
      "Compiling model...\n",
      "'compile' took 2.913575 s\n",
      "\n",
      "Training model...\n",
      "\n",
      "Step      Train loss    Test loss     Test metric\n",
      "1000      [4.63e-10]    [4.63e-10]    []  \n",
      "2000      [1.74e-16]    [1.74e-16]        \n",
      "3000      [8.76e-17]    [8.76e-17]        \n",
      "4000      [8.77e-18]    [8.77e-18]        \n",
      "5000      [9.80e-19]    [9.80e-19]        \n",
      "INFO:tensorflow:Optimization terminated with:\n",
      "  Message: CONVERGENCE: REL_REDUCTION_OF_F_<=_FACTR*EPSMCH\n",
      "  Objective function value: 0.000000\n",
      "  Number of iterations: 3303\n",
      "  Number of functions evaluations: 4414\n",
      "5414      [6.87e-19]    [6.87e-19]    []  \n",
      "\n",
      "Best model at step 5414:\n",
      "  train loss: 6.87e-19\n",
      "  test loss: 6.87e-19\n",
      "  test metric: []\n",
      "\n",
      "'train' took 464.536721 s\n",
      "\n"
     ]
    }
   ],
   "source": [
    "dde.optimizers.config.set_LBFGS_options(ftol=0, gtol=0, maxiter=10000, maxfun=10000)\n",
    "\n",
    "model_oblong_hh.compile(\"adam\", lr=0.001)\n",
    "model_oblong_hh.train(iterations=1000, display_every=1000)\n",
    "model_oblong_hh.compile(\"L-BFGS-B\")\n",
    "loss_history_oblong, train_state_oblong = model_oblong_hh.train(iterations=10000, display_every=1000)"
   ]
  },
  {
   "cell_type": "code",
   "execution_count": 105,
   "id": "539a1bcd",
   "metadata": {},
   "outputs": [
    {
     "name": "stdout",
     "output_type": "stream",
     "text": [
      "Saving loss history to burgers_hh_oblong_loss ...\n"
     ]
    }
   ],
   "source": [
    "dde.utils.external.save_loss_history(loss_history_oblong, 'burgers_hh_oblong_loss')"
   ]
  },
  {
   "cell_type": "code",
   "execution_count": 142,
   "id": "9ce851a5",
   "metadata": {},
   "outputs": [],
   "source": [
    "loss = pd.read_csv(\"C:/Users/charl/College/acm40980/acm40980_code/burgers_hh_oblong_loss\", sep=' ')\n",
    "pde_loss = loss.reset_index().to_numpy()[:,2]\n",
    "\n",
    "pde_loss_array = np.append(pde_loss[:2], pde_loss[3:])"
   ]
  },
  {
   "cell_type": "code",
   "execution_count": 143,
   "id": "7561fd1a",
   "metadata": {},
   "outputs": [],
   "source": [
    "loss12 = pde_loss_array"
   ]
  },
  {
   "cell_type": "markdown",
   "id": "35e5e777",
   "metadata": {},
   "source": [
    "# Comparison"
   ]
  },
  {
   "cell_type": "code",
   "execution_count": 427,
   "id": "58bb8d99",
   "metadata": {},
   "outputs": [
    {
     "data": {
      "image/png": "[encoded data removed]",
      "text/plain": [
       "<Figure size 1000x600 with 1 Axes>"
      ]
     },
     "metadata": {},
     "output_type": "display_data"
    }
   ],
   "source": [
    "fig = plt.figure(figsize=(10,6))\n",
    "plt.plot(np.arange(0,len(loss1)-1,1), loss1[:-1], 'o', color='blue')\n",
    "plt.plot(np.arange(0,len(loss2)-1,1), loss2[:-1], 'o', color='red')\n",
    "plt.plot(np.arange(0,len(loss3)-1,1), loss3[:-1], 'o', color='black')\n",
    "\n",
    "plt.plot(np.arange(0,len(loss4)-1,1), loss4[:-1], '^', color='blue')\n",
    "plt.plot(np.arange(0,len(loss5)-1,1), loss5[:-1], '^', color='red')\n",
    "plt.plot(np.arange(0,len(loss6)-1,1), loss6[:-1], '^', color='black')\n",
    "\n",
    "plt.plot(np.arange(0,len(loss7)-1,1), loss7[:-1], 'd', color='blue')\n",
    "plt.plot(np.arange(0,len(loss8)-1,1), loss8[:-1], 'd', color='red')\n",
    "plt.plot(np.arange(0,len(loss9)-1,1), loss9[:-1], 'd', color='black')\n",
    "\n",
    "plt.plot(np.arange(0,len(loss10)-1,1), loss10[:-1], 's', color='blue')\n",
    "plt.plot(np.arange(0,len(loss11)-1,1), loss11[:-1], 's', color='red')\n",
    "plt.plot(np.arange(0,len(loss12)-1,1), loss12[:-1], 's', color='black')\n",
    "\n",
    "plt.plot(np.arange(0,len(loss1)-1,1), loss1[:-1], color='blue')\n",
    "plt.plot(np.arange(0,len(loss2)-1,1), loss2[:-1], color='red')\n",
    "plt.plot(np.arange(0,len(loss3)-1,1), loss3[:-1], color='black')\n",
    "\n",
    "plt.plot(np.arange(0,len(loss4)-1,1), loss4[:-1], color='blue')\n",
    "plt.plot(np.arange(0,len(loss5)-1,1), loss5[:-1], color='red')\n",
    "plt.plot(np.arange(0,len(loss6)-1,1), loss6[:-1], color='black')\n",
    "\n",
    "plt.plot(np.arange(0,len(loss7)-1,1), loss7[:-1], color='blue')\n",
    "plt.plot(np.arange(0,len(loss8)-1,1), loss8[:-1], color='red')\n",
    "plt.plot(np.arange(0,len(loss9)-1,1), loss9[:-1], color='black')\n",
    "\n",
    "plt.plot(np.arange(0,len(loss10)-1,1), loss10[:-1], color='blue')\n",
    "plt.plot(np.arange(0,len(loss11)-1,1), loss11[:-1], color='red')\n",
    "plt.plot(np.arange(0,len(loss12)-1,1), loss12[:-1], color='black')\n",
    "\n",
    "#plt.title('(a)')\n",
    "plt.xlabel('Epochs')\n",
    "plt.ylabel('Loss', rotation=90)\n",
    "plt.yscale('log')\n",
    "plt.grid()\n",
    "\n",
    "plt.vlines(x=1, ymin=0.0000000000000000001, ymax=100, colors='purple', ls='--', lw=2)\n",
    "\n",
    "plt.xticks([0,1,2,3,4,5,6,7,8,9,10,11],['0','1000','2000','3000','4000','5000','6000','7000','8000','9000','10000','11000'], rotation=45)\n",
    "plt.yticks([10**0,10**-2,10**-4,10**-6,10**-8,10**-10,10**-12,10**-14,10**-16,10**-18])\n",
    "\n",
    "plt.legend(['Soft-Soft Square','Soft-Soft Long','Soft-Soft Oblong','Soft-Hard Square','Soft-Hard Long','Soft-Hard Oblong', \n",
    "           'Hard-Soft Square','Hard-Soft Long','Hard-Soft Oblong', 'Hard-Hard Square','Hard-Hard Long','Hard-Hard Oblong'], ncol=2, loc = \"upper right\")\n",
    "\n",
    "plt.savefig(\"burgers_loss_pic\", bbox_inches = 'tight')"
   ]
  },
  {
   "cell_type": "code",
   "execution_count": 215,
   "id": "4c0619b4",
   "metadata": {},
   "outputs": [],
   "source": [
    "t = data_ss.train_x_all[:,2]\n",
    "x = data_ss.train_x_all[:,0]\n",
    "y = data_ss.train_x_all[:,1]"
   ]
  },
  {
   "cell_type": "code",
   "execution_count": 207,
   "id": "7942591f",
   "metadata": {},
   "outputs": [],
   "source": [
    "t = np.full_like(x, 1)"
   ]
  },
  {
   "cell_type": "code",
   "execution_count": 12,
   "id": "08b3c1ec",
   "metadata": {},
   "outputs": [],
   "source": [
    "y = np.full_like(x, 0)"
   ]
  },
  {
   "cell_type": "code",
   "execution_count": 208,
   "id": "427c92b4",
   "metadata": {},
   "outputs": [],
   "source": [
    "def u(x,y,t):\n",
    "    return 1/(1 + np.exp((x+y-t)/0.2))"
   ]
  },
  {
   "cell_type": "code",
   "execution_count": 209,
   "id": "a58a62b0",
   "metadata": {},
   "outputs": [],
   "source": [
    "u_exact = u(x,y,t)\n",
    "\n",
    "u_square_ss = model_square_ss.predict(np.vstack((x,y,t)).T)\n",
    "u_long_ss = model_long_ss.predict(np.vstack((x,y,t)).T)\n",
    "u_oblong_ss = model_oblong_ss.predict(np.vstack((x,y,t)).T)\n",
    "\n",
    "u_square_sh = model_square_sh.predict(np.vstack((x,y,t)).T)\n",
    "u_long_sh = model_long_sh.predict(np.vstack((x,y,t)).T)\n",
    "u_oblong_sh = model_oblong_sh.predict(np.vstack((x,y,t)).T)\n",
    "\n",
    "u_square_hs = model_square_hs.predict(np.vstack((x,y,t)).T)\n",
    "u_long_hs = model_long_hs.predict(np.vstack((x,y,t)).T)\n",
    "u_oblong_hs = model_oblong_hs.predict(np.vstack((x,y,t)).T)\n",
    "\n",
    "u_square_hh = model_square_hh.predict(np.vstack((x,y,t)).T)\n",
    "u_long_hh = model_long_hh.predict(np.vstack((x,y,t)).T)\n",
    "u_oblong_hh = model_oblong_hh.predict(np.vstack((x,y,t)).T)"
   ]
  },
  {
   "cell_type": "code",
   "execution_count": 210,
   "id": "1120d0e0",
   "metadata": {},
   "outputs": [
    {
     "name": "stdout",
     "output_type": "stream",
     "text": [
      "8.875107400971098e-06\n",
      "2.2374267000208694e-06\n",
      "4.627916891306371e-06\n",
      "9.675890509139583e-10\n",
      "7.975948183052437e-09\n",
      "4.17394338010252e-10\n",
      "1.4423820765839186e-07\n",
      "1.1917102764146383e-06\n",
      "2.946974392270749e-09\n",
      "1.726476080795559e-09\n",
      "2.7602312759608207e-08\n",
      "8.473539879411853e-11\n"
     ]
    }
   ],
   "source": [
    "print(dde.metrics.l2_relative_error(np.round(u_exact,15), np.round(u_square_ss.flatten(),15)))\n",
    "print(dde.metrics.l2_relative_error(np.round(u_exact,15), np.round(u_long_ss.flatten(),15)))\n",
    "print(dde.metrics.l2_relative_error(np.round(u_exact,15), np.round(u_oblong_ss.flatten(),15)))\n",
    "\n",
    "print(dde.metrics.l2_relative_error(np.round(u_exact,15), np.round(u_square_sh.flatten(),15)))\n",
    "print(dde.metrics.l2_relative_error(np.round(u_exact,15), np.round(u_long_sh.flatten(),15)))\n",
    "print(dde.metrics.l2_relative_error(np.round(u_exact,15), np.round(u_oblong_sh.flatten(),15)))\n",
    "\n",
    "print(dde.metrics.l2_relative_error(np.round(u_exact,15), np.round(u_square_hs.flatten(),15)))\n",
    "print(dde.metrics.l2_relative_error(np.round(u_exact,15), np.round(u_long_hs.flatten(),15)))\n",
    "print(dde.metrics.l2_relative_error(np.round(u_exact,15), np.round(u_oblong_hs.flatten(),15)))\n",
    "\n",
    "print(dde.metrics.l2_relative_error(np.round(u_exact,15), np.round(u_square_hh.flatten(),15)))\n",
    "print(dde.metrics.l2_relative_error(np.round(u_exact,15), np.round(u_long_hh.flatten(),15)))\n",
    "print(dde.metrics.l2_relative_error(np.round(u_exact,15), np.round(u_oblong_hh.flatten(),15)))"
   ]
  },
  {
   "cell_type": "code",
   "execution_count": 213,
   "id": "24a33fe0",
   "metadata": {},
   "outputs": [],
   "source": [
    "Nx = 100\n",
    "Ny = 100\n",
    "\n",
    "xmin, xmax, ymin, ymax = [0, 1, 0, 1]\n",
    "plot_grid = np.mgrid[xmin : xmax : Nx * 1j, ymin : ymax : Ny * 1j]\n",
    "\n",
    "points = np.vstack((\n",
    "    plot_grid[0].ravel(), \n",
    "    plot_grid[1].ravel()))"
   ]
  },
  {
   "cell_type": "code",
   "execution_count": 221,
   "id": "9cb5fb68-71df-4be4-acd9-117811088da8",
   "metadata": {},
   "outputs": [],
   "source": [
    "t = np.full_like(points[0], 1)"
   ]
  },
  {
   "cell_type": "code",
   "execution_count": 222,
   "id": "8fb55ce0-e09e-4b80-8b93-4253cd55ca86",
   "metadata": {},
   "outputs": [],
   "source": [
    "u_exact = u(points[0],points[1],t)\n",
    "\n",
    "u_square_ss = model_square_ss.predict(np.vstack((points[0],points[1],t)).T)\n",
    "u_long_ss = model_long_ss.predict(np.vstack((points[0],points[1],t)).T)\n",
    "u_oblong_ss = model_oblong_ss.predict(np.vstack((points[0],points[1],t)).T)\n",
    "\n",
    "u_square_sh = model_square_sh.predict(np.vstack((points[0],points[1],t)).T)\n",
    "u_long_sh = model_long_sh.predict(np.vstack((points[0],points[1],t)).T)\n",
    "u_oblong_sh = model_oblong_sh.predict(np.vstack((points[0],points[1],t)).T)\n",
    "\n",
    "u_square_hs = model_square_hs.predict(np.vstack((points[0],points[1],t)).T)\n",
    "u_long_hs = model_long_hs.predict(np.vstack((points[0],points[1],t)).T)\n",
    "u_oblong_hs = model_oblong_hs.predict(np.vstack((points[0],points[1],t)).T)\n",
    "\n",
    "u_square_hh = model_square_hh.predict(np.vstack((points[0],points[1],t)).T)\n",
    "u_long_hh = model_long_hh.predict(np.vstack((points[0],points[1],t)).T)\n",
    "u_oblong_hh = model_oblong_hh.predict(np.vstack((points[0],points[1],t)).T)"
   ]
  },
  {
   "cell_type": "code",
   "execution_count": 288,
   "id": "ccc3062f-f54a-4480-a639-44111d44cf52",
   "metadata": {},
   "outputs": [],
   "source": [
    "from matplotlib import cm, ticker"
   ]
  },
  {
   "cell_type": "code",
   "execution_count": 315,
   "id": "d3ad9837-912e-460f-a94a-83ae5f196126",
   "metadata": {},
   "outputs": [
    {
     "data": {
      "text/plain": [
       "0.0001"
      ]
     },
     "execution_count": 315,
     "metadata": {},
     "output_type": "execute_result"
    }
   ],
   "source": [
    "10**-4"
   ]
  },
  {
   "cell_type": "code",
   "execution_count": 337,
   "id": "763b7737-8a19-4b49-9cf9-f6d8b4116a1a",
   "metadata": {},
   "outputs": [],
   "source": [
    "import matplotlib as mpl"
   ]
  },
  {
   "cell_type": "code",
   "execution_count": 402,
   "id": "77fd0455",
   "metadata": {},
   "outputs": [
    {
     "name": "stderr",
     "output_type": "stream",
     "text": [
      "C:\\Users\\charl\\AppData\\Local\\Temp\\ipykernel_15804\\2137739431.py:48: UserWarning: Log scale: values of z <= 0 have been masked\n",
      "  er4 = ax4.contourf(plot_grid[0], plot_grid[1], error_square, cmap='jet', alpha=0.6, locator=ticker.LogLocator(), vmin=10**-14, vmax=10**-4, levels=levels)\n",
      "C:\\Users\\charl\\AppData\\Local\\Temp\\ipykernel_15804\\2137739431.py:59: UserWarning: Log scale: values of z <= 0 have been masked\n",
      "  er5 = ax5.contourf(plot_grid[0], plot_grid[1], error_long, cmap='jet', alpha=0.6, locator=ticker.LogLocator(), vmin=10**-14, vmax=10**-4, levels=levels)\n",
      "C:\\Users\\charl\\AppData\\Local\\Temp\\ipykernel_15804\\2137739431.py:70: UserWarning: Log scale: values of z <= 0 have been masked\n",
      "  er6 = ax6.contourf(plot_grid[0], plot_grid[1], error_oblong, cmap='jet', alpha=0.6, locator=ticker.LogLocator(), vmin=10**-14, vmax=10**-4, levels=levels)\n",
      "C:\\Users\\charl\\AppData\\Local\\Temp\\ipykernel_15804\\2137739431.py:116: UserWarning: Log scale: values of z <= 0 have been masked\n",
      "  er10 = ax10.contourf(plot_grid[0], plot_grid[1], error_square, cmap='jet', alpha=0.6, locator=ticker.LogLocator(), vmin=10**-14, vmax=10**-4, levels=levels)\n",
      "C:\\Users\\charl\\AppData\\Local\\Temp\\ipykernel_15804\\2137739431.py:127: UserWarning: Log scale: values of z <= 0 have been masked\n",
      "  er11 = ax11.contourf(plot_grid[0], plot_grid[1], error_long, cmap='jet', alpha=0.6, locator=ticker.LogLocator(), vmin=10**-14, vmax=10**-4, levels=levels)\n",
      "C:\\Users\\charl\\AppData\\Local\\Temp\\ipykernel_15804\\2137739431.py:138: UserWarning: Log scale: values of z <= 0 have been masked\n",
      "  er12 = ax12.contourf(plot_grid[0], plot_grid[1], error_oblong, cmap='jet', alpha=0.6, locator=ticker.LogLocator(), vmin=10**-14, vmax=10**-4, levels=levels)\n"
     ]
    },
    {
     "data": {
      "image/png": "[encoded data removed]",
      "text/plain": [
       "<Figure size 1700x1900 with 24 Axes>"
      ]
     },
     "metadata": {},
     "output_type": "display_data"
    }
   ],
   "source": [
    "font = {'family': 'sans-serif',\n",
    "        'weight': 'normal',\n",
    "        'size': 12}\n",
    "plt.rc('font', **font)\n",
    "\n",
    "from mpl_toolkits.axes_grid1 import make_axes_locatable\n",
    "fig = plt.figure(figsize=(17,19))\n",
    "\n",
    "levels = np.logspace(np.log10(10**-14), np.log10(10**-4), num=11)\n",
    "\n",
    "#IMAGE 1\n",
    "ax1 = fig.add_subplot(4,3,1)\n",
    "error_square = np.abs(u_square_ss.reshape((Nx,Ny)) - u_exact.reshape((Nx,Ny)))\n",
    "er1 = ax1.contourf(plot_grid[0], plot_grid[1], error_square, cmap='jet', alpha=0.6, locator=ticker.LogLocator(), vmin=10**-14, vmax=10**-4, levels=levels)\n",
    "ax1.set_xticks([])\n",
    "ax1.set_yticks([])\n",
    "ax1.set_title('(a)');\n",
    "ax1.set_xlabel('x')\n",
    "ax1.set_ylabel('y')\n",
    "ax1.set_xticks([0,1])\n",
    "ax1.set_yticks([0,1])\n",
    "#IMAGE 2\n",
    "ax2 = fig.add_subplot(4,3,2)\n",
    "error_long = np.abs(u_long_ss.reshape((Nx,Ny)) - u_exact.reshape((Nx,Ny)))\n",
    "er2 = ax2.contourf(plot_grid[0], plot_grid[1], error_long, cmap='jet', alpha=0.6, locator=ticker.LogLocator(), vmin=10**-14, vmax=10**-4, levels=levels)\n",
    "ax2.set_xticks([])\n",
    "ax2.set_yticks([])\n",
    "ax2.set_title('(b)');\n",
    "ax2.set_xlabel('x')\n",
    "ax2.set_ylabel('y')\n",
    "ax2.set_xticks([0,1])\n",
    "ax2.set_yticks([0,1])\n",
    "#IMAGE 3\n",
    "ax3 = fig.add_subplot(4,3,3)\n",
    "error_oblong = np.abs(u_oblong_ss.reshape((Nx,Ny)) - u_exact.reshape((Nx,Ny)))\n",
    "er3 = ax3.contourf(plot_grid[0], plot_grid[1], error_oblong, cmap='jet', alpha=0.6, locator=ticker.LogLocator(), vmin=10**-14, vmax=10**-4, levels=levels)\n",
    "ax3.set_xticks([])\n",
    "ax3.set_yticks([])\n",
    "ax3.set_title('(c)');\n",
    "ax3.set_xlabel('x')\n",
    "ax3.set_ylabel('y')\n",
    "ax3.set_xticks([0,1])\n",
    "ax3.set_yticks([0,1])\n",
    "\n",
    "#IMAGE 4\n",
    "ax4 = fig.add_subplot(4,3,4)\n",
    "error_square = np.abs(u_square_sh.reshape((Nx,Ny)) - u_exact.reshape((Nx,Ny)))\n",
    "er4 = ax4.contourf(plot_grid[0], plot_grid[1], error_square, cmap='jet', alpha=0.6, locator=ticker.LogLocator(), vmin=10**-14, vmax=10**-4, levels=levels)\n",
    "ax4.set_xticks([])\n",
    "ax4.set_yticks([])\n",
    "ax4.set_title('(d)');\n",
    "ax4.set_xlabel('x')\n",
    "ax4.set_ylabel('y')\n",
    "ax4.set_xticks([0,1])\n",
    "ax4.set_yticks([0,1])\n",
    "#IMAGE 5\n",
    "ax5 = fig.add_subplot(4,3,5)\n",
    "error_long = np.abs(u_long_sh.reshape((Nx,Ny)) - u_exact.reshape((Nx,Ny)))\n",
    "er5 = ax5.contourf(plot_grid[0], plot_grid[1], error_long, cmap='jet', alpha=0.6, locator=ticker.LogLocator(), vmin=10**-14, vmax=10**-4, levels=levels)\n",
    "ax5.set_xticks([])\n",
    "ax5.set_yticks([])\n",
    "ax5.set_title('(e)');\n",
    "ax5.set_xlabel('x')\n",
    "ax5.set_ylabel('y')\n",
    "ax5.set_xticks([0,1])\n",
    "ax5.set_yticks([0,1])\n",
    "#IMAGE 6\n",
    "ax6 = fig.add_subplot(4,3,6)\n",
    "error_oblong = np.abs(u_oblong_sh.reshape((Nx,Ny)) - u_exact.reshape((Nx,Ny)))\n",
    "er6 = ax6.contourf(plot_grid[0], plot_grid[1], error_oblong, cmap='jet', alpha=0.6, locator=ticker.LogLocator(), vmin=10**-14, vmax=10**-4, levels=levels)\n",
    "ax6.set_xticks([])\n",
    "ax6.set_yticks([])\n",
    "ax6.set_title('(f)');\n",
    "ax6.set_xlabel('x')\n",
    "ax6.set_ylabel('y')\n",
    "ax6.set_xticks([0,1])\n",
    "ax6.set_yticks([0,1])\n",
    "\n",
    "#IMAGE 7\n",
    "ax7 = fig.add_subplot(4,3,7)\n",
    "error_square = np.abs(u_square_hs.reshape((Nx,Ny)) - u_exact.reshape((Nx,Ny)))\n",
    "er7 = ax7.contourf(plot_grid[0], plot_grid[1], error_square, cmap='jet', alpha=0.6, locator=ticker.LogLocator(), vmin=10**-14, vmax=10**-4, levels=levels)\n",
    "ax7.set_xticks([])\n",
    "ax7.set_yticks([])\n",
    "ax7.set_title('(g)');\n",
    "ax7.set_xlabel('x')\n",
    "ax7.set_ylabel('y')\n",
    "ax7.set_xticks([0,1])\n",
    "ax7.set_yticks([0,1])\n",
    "#IMAGE 8\n",
    "ax8 = fig.add_subplot(4,3,8)\n",
    "error_long = np.abs(u_long_hs.reshape((Nx,Ny)) - u_exact.reshape((Nx,Ny)))\n",
    "er8 = ax8.contourf(plot_grid[0], plot_grid[1], error_long, cmap='jet', alpha=0.6, locator=ticker.LogLocator(), vmin=10**-14, vmax=10**-4, levels=levels)\n",
    "ax8.set_xticks([])\n",
    "ax8.set_yticks([])\n",
    "ax8.set_title('(h)');\n",
    "ax8.set_xlabel('x')\n",
    "ax8.set_ylabel('y')\n",
    "ax8.set_xticks([0,1])\n",
    "ax8.set_yticks([0,1])\n",
    "#IMAGE 9\n",
    "ax9 = fig.add_subplot(4,3,9)\n",
    "error_oblong = np.abs(u_oblong_hs.reshape((Nx,Ny)) - u_exact.reshape((Nx,Ny)))\n",
    "er9 = ax9.contourf(plot_grid[0], plot_grid[1], error_oblong, cmap='jet', alpha=0.6, locator=ticker.LogLocator(), vmin=10**-14, vmax=10**-4, levels=levels)\n",
    "ax9.set_xticks([])\n",
    "ax9.set_yticks([])\n",
    "ax9.set_title('(i)');\n",
    "ax9.set_xlabel('x')\n",
    "ax9.set_ylabel('y')\n",
    "ax9.set_xticks([0,1])\n",
    "ax9.set_yticks([0,1])\n",
    "\n",
    "#IMAGE 10\n",
    "ax10 = fig.add_subplot(4,3,10)\n",
    "error_square = np.abs(u_square_hh.reshape((Nx,Ny)) - u_exact.reshape((Nx,Ny)))\n",
    "er10 = ax10.contourf(plot_grid[0], plot_grid[1], error_square, cmap='jet', alpha=0.6, locator=ticker.LogLocator(), vmin=10**-14, vmax=10**-4, levels=levels)\n",
    "ax10.set_xticks([])\n",
    "ax10.set_yticks([])\n",
    "ax10.set_title('(j)');\n",
    "ax10.set_xlabel('x')\n",
    "ax10.set_ylabel('y')\n",
    "ax10.set_xticks([0,1])\n",
    "ax10.set_yticks([0,1])\n",
    "#IMAGE 11\n",
    "ax11 = fig.add_subplot(4,3,11)\n",
    "error_long = np.abs(u_long_hh.reshape((Nx,Ny)) - u_exact.reshape((Nx,Ny)))\n",
    "er11 = ax11.contourf(plot_grid[0], plot_grid[1], error_long, cmap='jet', alpha=0.6, locator=ticker.LogLocator(), vmin=10**-14, vmax=10**-4, levels=levels)\n",
    "ax11.set_xticks([])\n",
    "ax11.set_yticks([])\n",
    "ax11.set_title('(k)');\n",
    "ax11.set_xlabel('x')\n",
    "ax11.set_ylabel('y')\n",
    "ax11.set_xticks([0,1])\n",
    "ax11.set_yticks([0,1])\n",
    "#IMAGE 12\n",
    "ax12 = fig.add_subplot(4,3,12)\n",
    "error_oblong = np.abs(u_oblong_hh.reshape((Nx,Ny)) - u_exact.reshape((Nx,Ny)))\n",
    "er12 = ax12.contourf(plot_grid[0], plot_grid[1], error_oblong, cmap='jet', alpha=0.6, locator=ticker.LogLocator(), vmin=10**-14, vmax=10**-4, levels=levels)\n",
    "ax12.set_xticks([])\n",
    "ax12.set_yticks([])\n",
    "ax12.set_title('(l)');\n",
    "ax12.set_xlabel('x')\n",
    "ax12.set_ylabel('y')\n",
    "ax12.set_xticks([0,1])\n",
    "ax12.set_yticks([0,1])\n",
    "\n",
    "fig.colorbar(er1)\n",
    "fig.colorbar(er2)\n",
    "fig.colorbar(er3)\n",
    "fig.colorbar(er4)\n",
    "fig.colorbar(er5)\n",
    "fig.colorbar(er6)\n",
    "fig.colorbar(er7)\n",
    "fig.colorbar(er8)\n",
    "fig.colorbar(er9)\n",
    "fig.colorbar(er10)\n",
    "fig.colorbar(er11)\n",
    "fig.colorbar(er12)\n",
    "\n",
    "plt.subplots_adjust(hspace=0.3, wspace=0.3)\n",
    "#plt.savefig(\"burger_error\", bbox_inches = 'tight')"
   ]
  },
  {
   "cell_type": "code",
   "execution_count": null,
   "id": "13f21a5f-1281-4188-8377-4cb991cb0eb5",
   "metadata": {},
   "outputs": [],
   "source": [
    "divider = make_axes_locatable(ax1)\n",
    "cax = divider.append_axes('right', size='5%', pad=0.05)\n",
    "clb=fig.colorbar(er1, cax=cax, orientation='vertical')\n",
    "\n",
    "divider = make_axes_locatable(ax2)\n",
    "cax = divider.append_axes('right', size='5%', pad=0.05)\n",
    "clb=fig.colorbar(er1, cax=cax, orientation='vertical')\n",
    "\n",
    "divider = make_axes_locatable(ax3)\n",
    "cax = divider.append_axes('right', size='5%', pad=0.05)\n",
    "clb=fig.colorbar(er1, cax=cax, orientation='vertical')\n",
    "\n",
    "divider = make_axes_locatable(ax4)\n",
    "cax = divider.append_axes('right', size='5%', pad=0.05)\n",
    "clb=fig.colorbar(er4, cax=cax, orientation='vertical')\n",
    "\n",
    "divider = make_axes_locatable(ax5)\n",
    "cax = divider.append_axes('right', size='5%', pad=0.05)\n",
    "clb=fig.colorbar(er4, cax=cax, orientation='vertical')\n",
    "\n",
    "divider = make_axes_locatable(ax6)\n",
    "cax = divider.append_axes('right', size='5%', pad=0.05)\n",
    "clb=fig.colorbar(er4, cax=cax, orientation='vertical')\n",
    "\n",
    "divider = make_axes_locatable(ax7)\n",
    "cax = divider.append_axes('right', size='5%', pad=0.05)\n",
    "clb=fig.colorbar(er7, cax=cax, orientation='vertical')\n",
    "\n",
    "divider = make_axes_locatable(ax8)\n",
    "cax = divider.append_axes('right', size='5%', pad=0.05)\n",
    "clb=fig.colorbar(er7, cax=cax, orientation='vertical')\n",
    "\n",
    "divider = make_axes_locatable(ax9)\n",
    "cax = divider.append_axes('right', size='5%', pad=0.05)\n",
    "clb=fig.colorbar(er7, cax=cax, orientation='vertical')\n",
    "\n",
    "divider = make_axes_locatable(ax10)\n",
    "cax = divider.append_axes('right', size='5%', pad=0.05)\n",
    "clb=fig.colorbar(er10, cax=cax, orientation='vertical')\n",
    "\n",
    "divider = make_axes_locatable(ax11)\n",
    "cax = divider.append_axes('right', size='5%', pad=0.05)\n",
    "clb=fig.colorbar(er10, cax=cax, orientation='vertical')\n",
    "\n",
    "divider = make_axes_locatable(ax12)\n",
    "cax = divider.append_axes('right', size='5%', pad=0.05)\n",
    "clb=fig.colorbar(er10, cax=cax, orientation='vertical')"
   ]
  },
  {
   "cell_type": "code",
   "execution_count": null,
   "id": "77d95ce1",
   "metadata": {},
   "outputs": [],
   "source": []
  },
  {
   "cell_type": "code",
   "execution_count": null,
   "id": "ba47a81f",
   "metadata": {},
   "outputs": [],
   "source": [
    "divider = make_axes_locatable(ax2)\n",
    "cax = divider.append_axes('right', size='5%', pad=0.05)\n",
    "clb=fig.colorbar(er, cax=cax, orientation='vertical')\n",
    "clb.ax.set_title('$\\ \\ \\ \\ 10^{-7}$')\n",
    "\n",
    "divider = make_axes_locatable(ax3)\n",
    "cax = divider.append_axes('right', size='5%', pad=0.05)\n",
    "clb=fig.colorbar(er, cax=cax, orientation='vertical')\n",
    "clb.ax.set_title('$\\ \\ \\ \\ 10^{-7}$')\n",
    "\n",
    "divider = make_axes_locatable(ax4)\n",
    "cax = divider.append_axes('right', size='5%', pad=0.05)\n",
    "clb=fig.colorbar(er, cax=cax, orientation='vertical')\n",
    "clb.ax.set_title('$\\ \\ \\ \\ 10^{-7}$')"
   ]
  },
  {
   "cell_type": "code",
   "execution_count": null,
   "id": "3d3c68a5",
   "metadata": {},
   "outputs": [],
   "source": [
    "font = {'family': 'sans-serif',\n",
    "        'weight': 'normal',\n",
    "        'size': 12}\n",
    "plt.rc('font', **font)\n",
    "\n",
    "z = data.train_x_all[:,2]\n",
    "x = data.train_x_all[:,0]\n",
    "y = data.train_x_all[:,1]\n",
    " \n",
    "# Creating figure\n",
    "fig = plt.figure(figsize = (10, 7))\n",
    "ax = plt.axes(projection =\"3d\")\n",
    "ax.set_xlabel('x')\n",
    "ax.set_ylabel('y')\n",
    "ax.set_zlabel('t')\n",
    " \n",
    "# Creating plot\n",
    "ax.scatter3D(x, y, z, color = \"dodgerblue\")\n",
    "#ax.scatter3D(data.train_x_bc[:,0], data.train_x_bc[:,1], data.train_x_bc[:,2], color = \"green\")\n",
    "#ax.scatter3D(data.train_x_all[:100,0], data.train_x_all[:100,1], data.train_x_all[:100,2], color = \"purple\")\n",
    "plt.title(\"Initial, boundary and collocation points\")\n",
    "ax.set_zlim(-0.01,2)\n",
    "# show plot\n",
    "#plt.show()\n",
    "plt.savefig(\"burgers_soft_points_all\", bbox_inches = 'tight')"
   ]
  }
 ],
 "metadata": {
  "kernelspec": {
   "display_name": "Python 3 (ipykernel)",
   "language": "python",
   "name": "python3"
  },
  "language_info": {
   "codemirror_mode": {
    "name": "ipython",
    "version": 3
   },
   "file_extension": ".py",
   "mimetype": "text/x-python",
   "name": "python",
   "nbconvert_exporter": "python",
   "pygments_lexer": "ipython3",
   "version": "3.9.19"
  }
 },
 "nbformat": 4,
 "nbformat_minor": 5
}
