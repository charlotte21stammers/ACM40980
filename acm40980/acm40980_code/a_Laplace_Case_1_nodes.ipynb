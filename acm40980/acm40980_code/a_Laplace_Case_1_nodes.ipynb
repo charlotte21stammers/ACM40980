{
 "cells": [
  {
   "cell_type": "code",
   "execution_count": 1,
   "id": "e47d32ab-f207-4e3a-ad43-53c6c0600c75",
   "metadata": {},
   "outputs": [],
   "source": [
    "import numpy"
   ]
  },
  {
   "cell_type": "code",
   "execution_count": 23,
   "id": "53ddd4af-3d52-4858-bf9d-d382878b9989",
   "metadata": {},
   "outputs": [
    {
     "name": "stdout",
     "output_type": "stream",
     "text": [
      "\n",
      "Note: you may need to restart the kernel to use updated packages.\n"
     ]
    }
   ],
   "source": [
    "conda install -c conda-forge deepxde"
   ]
  },
  {
   "cell_type": "code",
   "execution_count": 1,
   "id": "1e319a0b-946b-49ab-b10e-2263b9680a96",
   "metadata": {},
   "outputs": [
    {
     "name": "stderr",
     "output_type": "stream",
     "text": [
      "Using backend: paddle\n",
      "Other supported backends: tensorflow.compat.v1, tensorflow, pytorch, jax.\n",
      "paddle supports more examples now and is recommended.\n"
     ]
    },
    {
     "ename": "RuntimeError",
     "evalue": "DeepXDE requires PaddlePaddle==0.0.0(develop).",
     "output_type": "error",
     "traceback": [
      "\u001b[1;31m---------------------------------------------------------------------------\u001b[0m",
      "\u001b[1;31mRuntimeError\u001b[0m                              Traceback (most recent call last)",
      "Cell \u001b[1;32mIn[1], line 1\u001b[0m\n\u001b[1;32m----> 1\u001b[0m \u001b[38;5;28;01mimport\u001b[39;00m \u001b[38;5;21;01mdeepxde\u001b[39;00m \u001b[38;5;28;01mas\u001b[39;00m \u001b[38;5;21;01mdde\u001b[39;00m\n\u001b[0;32m      2\u001b[0m \u001b[38;5;28;01mimport\u001b[39;00m \u001b[38;5;21;01mnumpy\u001b[39;00m \u001b[38;5;28;01mas\u001b[39;00m \u001b[38;5;21;01mnp\u001b[39;00m\n\u001b[0;32m      4\u001b[0m \u001b[38;5;28;01mimport\u001b[39;00m \u001b[38;5;21;01mtensorflow\u001b[39;00m \u001b[38;5;28;01mas\u001b[39;00m \u001b[38;5;21;01mtf\u001b[39;00m\n",
      "File \u001b[1;32mC:\\anaconda\\Lib\\site-packages\\deepxde\\__init__.py:20\u001b[0m\n\u001b[0;32m     17\u001b[0m     __version__ \u001b[38;5;241m=\u001b[39m \u001b[38;5;124m\"\u001b[39m\u001b[38;5;124munknown version\u001b[39m\u001b[38;5;124m\"\u001b[39m\n\u001b[0;32m     19\u001b[0m \u001b[38;5;66;03m# Should import backend before importing anything else\u001b[39;00m\n\u001b[1;32m---> 20\u001b[0m \u001b[38;5;28;01mfrom\u001b[39;00m \u001b[38;5;21;01m.\u001b[39;00m \u001b[38;5;28;01mimport\u001b[39;00m backend\n\u001b[0;32m     22\u001b[0m \u001b[38;5;28;01mfrom\u001b[39;00m \u001b[38;5;21;01m.\u001b[39;00m \u001b[38;5;28;01mimport\u001b[39;00m callbacks\n\u001b[0;32m     23\u001b[0m \u001b[38;5;28;01mfrom\u001b[39;00m \u001b[38;5;21;01m.\u001b[39;00m \u001b[38;5;28;01mimport\u001b[39;00m data\n",
      "File \u001b[1;32mC:\\anaconda\\Lib\\site-packages\\deepxde\\backend\\__init__.py:130\u001b[0m\n\u001b[0;32m    126\u001b[0m     set_default_backend(\u001b[38;5;124m\"\u001b[39m\u001b[38;5;124mpaddle\u001b[39m\u001b[38;5;124m\"\u001b[39m)\n\u001b[0;32m    127\u001b[0m     \u001b[38;5;28;01mreturn\u001b[39;00m \u001b[38;5;124m\"\u001b[39m\u001b[38;5;124mpaddle\u001b[39m\u001b[38;5;124m\"\u001b[39m\n\u001b[1;32m--> 130\u001b[0m load_backend(get_preferred_backend())\n",
      "File \u001b[1;32mC:\\anaconda\\Lib\\site-packages\\deepxde\\backend\\__init__.py:61\u001b[0m, in \u001b[0;36mload_backend\u001b[1;34m(mod_name)\u001b[0m\n\u001b[0;32m     59\u001b[0m \u001b[38;5;28;01mdef\u001b[39;00m \u001b[38;5;21mload_backend\u001b[39m(mod_name):\n\u001b[0;32m     60\u001b[0m     backend_message(mod_name)\n\u001b[1;32m---> 61\u001b[0m     mod \u001b[38;5;241m=\u001b[39m importlib\u001b[38;5;241m.\u001b[39mimport_module(\u001b[38;5;124m\"\u001b[39m\u001b[38;5;124m.\u001b[39m\u001b[38;5;132;01m%s\u001b[39;00m\u001b[38;5;124m\"\u001b[39m \u001b[38;5;241m%\u001b[39m mod_name\u001b[38;5;241m.\u001b[39mreplace(\u001b[38;5;124m\"\u001b[39m\u001b[38;5;124m.\u001b[39m\u001b[38;5;124m\"\u001b[39m, \u001b[38;5;124m\"\u001b[39m\u001b[38;5;124m_\u001b[39m\u001b[38;5;124m\"\u001b[39m), \u001b[38;5;18m__name__\u001b[39m)\n\u001b[0;32m     62\u001b[0m     thismod \u001b[38;5;241m=\u001b[39m sys\u001b[38;5;241m.\u001b[39mmodules[\u001b[38;5;18m__name__\u001b[39m]\n\u001b[0;32m     63\u001b[0m     \u001b[38;5;66;03m# log backend name\u001b[39;00m\n",
      "File \u001b[1;32mC:\\anaconda\\Lib\\importlib\\__init__.py:126\u001b[0m, in \u001b[0;36mimport_module\u001b[1;34m(name, package)\u001b[0m\n\u001b[0;32m    124\u001b[0m             \u001b[38;5;28;01mbreak\u001b[39;00m\n\u001b[0;32m    125\u001b[0m         level \u001b[38;5;241m+\u001b[39m\u001b[38;5;241m=\u001b[39m \u001b[38;5;241m1\u001b[39m\n\u001b[1;32m--> 126\u001b[0m \u001b[38;5;28;01mreturn\u001b[39;00m _bootstrap\u001b[38;5;241m.\u001b[39m_gcd_import(name[level:], package, level)\n",
      "File \u001b[1;32mC:\\anaconda\\Lib\\site-packages\\deepxde\\backend\\paddle\\__init__.py:1\u001b[0m\n\u001b[1;32m----> 1\u001b[0m \u001b[38;5;28;01mfrom\u001b[39;00m \u001b[38;5;21;01m.\u001b[39;00m\u001b[38;5;21;01mtensor\u001b[39;00m \u001b[38;5;28;01mimport\u001b[39;00m \u001b[38;5;241m*\u001b[39m\n",
      "File \u001b[1;32mC:\\anaconda\\Lib\\site-packages\\deepxde\\backend\\paddle\\tensor.py:7\u001b[0m\n\u001b[0;32m      4\u001b[0m \u001b[38;5;28;01mimport\u001b[39;00m \u001b[38;5;21;01mpaddle\u001b[39;00m\n\u001b[0;32m      6\u001b[0m \u001b[38;5;28;01mif\u001b[39;00m Version(paddle\u001b[38;5;241m.\u001b[39m__version__) \u001b[38;5;241m!=\u001b[39m Version(\u001b[38;5;124m\"\u001b[39m\u001b[38;5;124m0.0.0\u001b[39m\u001b[38;5;124m\"\u001b[39m):\n\u001b[1;32m----> 7\u001b[0m     \u001b[38;5;28;01mraise\u001b[39;00m \u001b[38;5;167;01mRuntimeError\u001b[39;00m(\u001b[38;5;124m\"\u001b[39m\u001b[38;5;124mDeepXDE requires PaddlePaddle==0.0.0(develop).\u001b[39m\u001b[38;5;124m\"\u001b[39m)\n\u001b[0;32m      9\u001b[0m \u001b[38;5;28;01mif\u001b[39;00m paddle\u001b[38;5;241m.\u001b[39mdevice\u001b[38;5;241m.\u001b[39mis_compiled_with_cuda():\n\u001b[0;32m     10\u001b[0m     paddle\u001b[38;5;241m.\u001b[39mdevice\u001b[38;5;241m.\u001b[39mset_device(\u001b[38;5;124m\"\u001b[39m\u001b[38;5;124mgpu\u001b[39m\u001b[38;5;124m\"\u001b[39m)\n",
      "\u001b[1;31mRuntimeError\u001b[0m: DeepXDE requires PaddlePaddle==0.0.0(develop)."
     ]
    }
   ],
   "source": [
    "import deepxde as dde\n",
    "import numpy as np\n",
    "\n",
    "import tensorflow as tf\n",
    "import matplotlib.pyplot as plt\n",
    "\n",
    "import pandas as pd"
   ]
  },
  {
   "cell_type": "code",
   "execution_count": 2,
   "id": "b9c78107-ea25-4802-be0d-afe03d18029b",
   "metadata": {},
   "outputs": [
    {
     "name": "stdout",
     "output_type": "stream",
     "text": [
      "Set the default float type to float64\n"
     ]
    }
   ],
   "source": [
    "dde.config.set_random_seed(1234)\n",
    "dde.config.set_default_float(\"float64\")"
   ]
  },
  {
   "cell_type": "code",
   "execution_count": 3,
   "id": "a43f50e6-dcae-497a-b570-de650973e509",
   "metadata": {},
   "outputs": [],
   "source": [
    "#computational domain\n",
    "geom = dde.geometry.Rectangle([0, 0], [1, 1])"
   ]
  },
  {
   "cell_type": "code",
   "execution_count": 4,
   "id": "ad510f18-1e8c-413f-b2e3-47cc756e333d",
   "metadata": {},
   "outputs": [],
   "source": [
    "#pde\n",
    "def pde(x, u):\n",
    "    u_xx = dde.grad.hessian(u, x, i=0, j=0)\n",
    "    u_yy = dde.grad.hessian(u, x, i=1, j=1)\n",
    "    return u_xx + u_yy"
   ]
  },
  {
   "cell_type": "markdown",
   "id": "9d4698ac-9b0a-4bd9-9c4a-3b6334ba9fce",
   "metadata": {},
   "source": [
    "## Hard Constraints"
   ]
  },
  {
   "cell_type": "code",
   "execution_count": 5,
   "id": "a973897c-dda1-40ba-99e1-8916b912339d",
   "metadata": {},
   "outputs": [],
   "source": [
    "def output_transform1(x,u):\n",
    "    A = x[:,1:2] * (tf.sin(tf.constant(np.pi, dtype=tf.float64)*x[:,0:1]) - x[:,0:1] * tf.sin(tf.constant(np.pi, dtype=tf.float64)) )\n",
    "    return A + x[:,0:1] * (1-x[:,0:1]) * x[:,1:2] * (1-x[:,1:2]) * u"
   ]
  },
  {
   "cell_type": "code",
   "execution_count": 6,
   "id": "b5d97495-4d64-4601-8269-ea07cfc9cefc",
   "metadata": {},
   "outputs": [
    {
     "name": "stderr",
     "output_type": "stream",
     "text": [
      "C:\\anaconda\\Lib\\site-packages\\skopt\\sampler\\sobol.py:246: UserWarning: The balance properties of Sobol' points require n to be a power of 2. 0 points have been previously generated, then: n=0+501=501. \n",
      "  warnings.warn(\"The balance properties of Sobol' points require \"\n"
     ]
    }
   ],
   "source": [
    "data_500 = dde.data.TimePDE(geom, \n",
    "                        pde, \n",
    "                         [],\n",
    "                        num_domain=500,\n",
    "                        train_distribution='Sobol')"
   ]
  },
  {
   "cell_type": "code",
   "execution_count": 7,
   "id": "e5eba1cc-51fd-4b79-9811-af906debb98a",
   "metadata": {},
   "outputs": [],
   "source": [
    "net_10 = dde.nn.FNN([2] + [10] * 5 + [1], \"tanh\", tf.keras.initializers.GlorotUniform(seed=1234))\n",
    "net_20 = dde.nn.FNN([2] + [20] * 5 + [1], \"tanh\", tf.keras.initializers.GlorotUniform(seed=1234))\n",
    "net_30 = dde.nn.FNN([2] + [30] * 5 + [1], \"tanh\", tf.keras.initializers.GlorotUniform(seed=1234))\n",
    "net_40 = dde.nn.FNN([2] + [40] * 5 + [1], \"tanh\", tf.keras.initializers.GlorotUniform(seed=1234))\n",
    "net_50 = dde.nn.FNN([2] + [50] * 5 + [1], \"tanh\", tf.keras.initializers.GlorotUniform(seed=1234))\n",
    "net_60 = dde.nn.FNN([2] + [60] * 5 + [1], \"tanh\", tf.keras.initializers.GlorotUniform(seed=1234))\n",
    "net_70 = dde.nn.FNN([2] + [70] * 5 + [1], \"tanh\", tf.keras.initializers.GlorotUniform(seed=1234))\n",
    "net_80 = dde.nn.FNN([2] + [80] * 5 + [1], \"tanh\", tf.keras.initializers.GlorotUniform(seed=1234))"
   ]
  },
  {
   "cell_type": "code",
   "execution_count": 8,
   "id": "f9d1d753-baa9-45d5-9c3a-924739720018",
   "metadata": {},
   "outputs": [],
   "source": [
    "net_10.apply_output_transform(output_transform1)\n",
    "net_20.apply_output_transform(output_transform1)\n",
    "net_30.apply_output_transform(output_transform1)\n",
    "net_40.apply_output_transform(output_transform1)\n",
    "net_50.apply_output_transform(output_transform1)\n",
    "net_60.apply_output_transform(output_transform1)\n",
    "net_70.apply_output_transform(output_transform1)\n",
    "net_80.apply_output_transform(output_transform1)"
   ]
  },
  {
   "cell_type": "code",
   "execution_count": 9,
   "id": "b44056c5-0829-4250-a3ad-27009a56b566",
   "metadata": {},
   "outputs": [],
   "source": [
    "model_10 = dde.Model(data_500, net_10)\n",
    "model_20 = dde.Model(data_500, net_20)\n",
    "model_30 = dde.Model(data_500, net_30)\n",
    "model_40 = dde.Model(data_500, net_40)\n",
    "model_50 = dde.Model(data_500, net_50)\n",
    "model_60 = dde.Model(data_500, net_60)\n",
    "model_70 = dde.Model(data_500, net_70)\n",
    "model_80 = dde.Model(data_500, net_80)"
   ]
  },
  {
   "cell_type": "markdown",
   "id": "2a5d148b-e59b-45d0-95f4-648bce4c20a3",
   "metadata": {},
   "source": [
    "## Training"
   ]
  },
  {
   "cell_type": "code",
   "execution_count": 10,
   "id": "ff0c0511-bb6d-454d-9263-18f453a93580",
   "metadata": {},
   "outputs": [],
   "source": [
    "dde.optimizers.config.set_LBFGS_options(maxiter=15000, maxfun=15000)"
   ]
  },
  {
   "cell_type": "code",
   "execution_count": 11,
   "id": "56752df0-58bc-4dc1-8526-94f822d18727",
   "metadata": {
    "scrolled": true
   },
   "outputs": [
    {
     "name": "stdout",
     "output_type": "stream",
     "text": [
      "Compiling model...\n",
      "Building feed-forward neural network...\n"
     ]
    },
    {
     "name": "stderr",
     "output_type": "stream",
     "text": [
      "C:\\anaconda\\Lib\\site-packages\\deepxde\\nn\\tensorflow_compat_v1\\fnn.py:116: UserWarning: `tf.layers.dense` is deprecated and will be removed in a future version. Please use `tf.keras.layers.Dense` instead.\n",
      "  return tf.layers.dense(\n"
     ]
    },
    {
     "name": "stdout",
     "output_type": "stream",
     "text": [
      "WARNING:tensorflow:From C:\\anaconda\\Lib\\site-packages\\keras\\src\\utils\\version_utils.py:76: The name tf.executing_eagerly_outside_functions is deprecated. Please use tf.compat.v1.executing_eagerly_outside_functions instead.\n",
      "\n",
      "'build' took 0.507936 s\n",
      "\n",
      "WARNING:tensorflow:From C:\\anaconda\\Lib\\site-packages\\deepxde\\model.py:168: The name tf.train.Saver is deprecated. Please use tf.compat.v1.train.Saver instead.\n",
      "\n",
      "'compile' took 4.323559 s\n",
      "\n",
      "Training model...\n",
      "\n",
      "Step      Train loss    Test loss     Test metric\n",
      "0         [1.64e+01]    [1.64e+01]    []  \n",
      "1000      [3.79e-02]    [3.79e-02]    []  \n",
      "2000      [2.94e-03]    [2.94e-03]    []  \n",
      "3000      [9.53e-04]    [9.53e-04]    []  \n",
      "4000      [3.23e-04]    [3.23e-04]    []  \n",
      "5000      [1.23e-04]    [1.23e-04]    []  \n",
      "6000      [6.61e-05]    [6.61e-05]    []  \n",
      "7000      [4.12e-05]    [4.12e-05]    []  \n",
      "8000      [2.71e-05]    [2.71e-05]    []  \n",
      "9000      [7.83e-05]    [7.83e-05]    []  \n",
      "10000     [1.84e-05]    [1.84e-05]    []  \n",
      "\n",
      "Best model at step 10000:\n",
      "  train loss: 1.84e-05\n",
      "  test loss: 1.84e-05\n",
      "  test metric: []\n",
      "\n",
      "'train' took 43.122492 s\n",
      "\n",
      "Compiling model...\n",
      "'compile' took 1.304331 s\n",
      "\n",
      "Training model...\n",
      "\n",
      "Step      Train loss    Test loss     Test metric\n",
      "10000     [1.84e-05]    [1.84e-05]    []  \n",
      "11000     [2.06e-07]    [2.06e-07]        \n",
      "12000     [7.57e-08]    [7.57e-08]        \n",
      "13000     [4.55e-08]    [4.55e-08]        \n",
      "14000     [2.71e-08]    [2.71e-08]        \n",
      "15000     [2.14e-08]    [2.14e-08]        \n",
      "16000     [1.94e-08]    [1.94e-08]        \n",
      "17000     [1.14e-08]    [1.14e-08]        \n",
      "18000     [9.95e-09]    [9.95e-09]        \n",
      "19000     [8.45e-09]    [8.45e-09]        \n",
      "20000     [7.72e-09]    [7.72e-09]        \n",
      "21000     [6.52e-09]    [6.52e-09]        \n",
      "22000     [4.92e-09]    [4.92e-09]        \n",
      "23000     [4.35e-09]    [4.35e-09]        \n",
      "24000     [3.94e-09]    [3.94e-09]        \n",
      "25000     [3.20e-09]    [3.20e-09]        \n",
      "WARNING:tensorflow:From C:\\anaconda\\Lib\\site-packages\\deepxde\\optimizers\\tensorflow_compat_v1\\scipy_optimizer.py:398: The name tf.logging.info is deprecated. Please use tf.compat.v1.logging.info instead.\n",
      "\n",
      "INFO:tensorflow:Optimization terminated with:\n",
      "  Message: STOP: TOTAL NO. of f AND g EVALUATIONS EXCEEDS LIMIT\n",
      "  Objective function value: 0.000000\n",
      "  Number of iterations: 13189\n",
      "  Number of functions evaluations: 15001\n",
      "25001     [3.20e-09]    [3.20e-09]    []  \n",
      "\n",
      "Best model at step 25001:\n",
      "  train loss: 3.20e-09\n",
      "  test loss: 3.20e-09\n",
      "  test metric: []\n",
      "\n",
      "'train' took 114.365979 s\n",
      "\n"
     ]
    },
    {
     "data": {
      "text/plain": [
       "(<deepxde.model.LossHistory at 0x1ef0d2b5b50>,\n",
       " <deepxde.model.TrainState at 0x1ef0c0e3790>)"
      ]
     },
     "execution_count": 11,
     "metadata": {},
     "output_type": "execute_result"
    }
   ],
   "source": [
    "model_10.compile(\"adam\", lr=0.001)\n",
    "model_10.train(iterations=10000)\n",
    "model_10.compile(\"L-BFGS-B\")\n",
    "model_10.train(iterations=15000)"
   ]
  },
  {
   "cell_type": "code",
   "execution_count": 12,
   "id": "cfa52aed-91b8-49c4-aa08-32637fdf16ba",
   "metadata": {
    "scrolled": true
   },
   "outputs": [
    {
     "name": "stdout",
     "output_type": "stream",
     "text": [
      "Compiling model...\n",
      "Building feed-forward neural network...\n",
      "'build' took 0.251312 s\n",
      "\n",
      "'compile' took 3.758839 s\n",
      "\n",
      "Training model...\n",
      "\n",
      "Step      Train loss    Test loss     Test metric\n",
      "0         [1.52e+01]    [1.52e+01]    []  \n",
      "1000      [4.50e-03]    [4.50e-03]    []  \n",
      "2000      [6.14e-04]    [6.14e-04]    []  \n",
      "3000      [2.15e-04]    [2.15e-04]    []  \n",
      "4000      [1.06e-04]    [1.06e-04]    []  \n",
      "5000      [6.10e-05]    [6.10e-05]    []  \n",
      "6000      [3.91e-05]    [3.91e-05]    []  \n",
      "7000      [5.14e-03]    [5.14e-03]    []  \n",
      "8000      [2.84e-05]    [2.84e-05]    []  \n",
      "9000      [5.17e-05]    [5.17e-05]    []  \n",
      "10000     [1.29e-05]    [1.29e-05]    []  \n",
      "\n",
      "Best model at step 10000:\n",
      "  train loss: 1.29e-05\n",
      "  test loss: 1.29e-05\n",
      "  test metric: []\n",
      "\n",
      "'train' took 67.108103 s\n",
      "\n",
      "Compiling model...\n",
      "'compile' took 0.729649 s\n",
      "\n",
      "Training model...\n",
      "\n",
      "Step      Train loss    Test loss     Test metric\n",
      "10000     [1.29e-05]    [1.29e-05]    []  \n",
      "11000     [1.71e-07]    [1.71e-07]        \n",
      "12000     [5.34e-08]    [5.34e-08]        \n",
      "13000     [2.59e-08]    [2.59e-08]        \n",
      "14000     [1.08e-08]    [1.08e-08]        \n",
      "15000     [8.45e-09]    [8.45e-09]        \n",
      "16000     [4.62e-09]    [4.62e-09]        \n",
      "17000     [3.22e-09]    [3.22e-09]        \n",
      "18000     [3.05e-09]    [3.05e-09]        \n",
      "19000     [1.95e-09]    [1.95e-09]        \n",
      "20000     [1.78e-09]    [1.78e-09]        \n",
      "21000     [1.59e-09]    [1.59e-09]        \n",
      "22000     [1.42e-09]    [1.42e-09]        \n",
      "23000     [1.36e-09]    [1.36e-09]        \n",
      "24000     [9.51e-10]    [9.51e-10]        \n",
      "25000     [8.68e-10]    [8.68e-10]        \n",
      "INFO:tensorflow:Optimization terminated with:\n",
      "  Message: STOP: TOTAL NO. of f AND g EVALUATIONS EXCEEDS LIMIT\n",
      "  Objective function value: 0.000000\n",
      "  Number of iterations: 13325\n",
      "  Number of functions evaluations: 15001\n",
      "25001     [8.68e-10]    [8.68e-10]    []  \n",
      "\n",
      "Best model at step 25001:\n",
      "  train loss: 8.68e-10\n",
      "  test loss: 8.68e-10\n",
      "  test metric: []\n",
      "\n",
      "'train' took 150.167829 s\n",
      "\n"
     ]
    },
    {
     "data": {
      "text/plain": [
       "(<deepxde.model.LossHistory at 0x1ef0d29f510>,\n",
       " <deepxde.model.TrainState at 0x1ef0d29f210>)"
      ]
     },
     "execution_count": 12,
     "metadata": {},
     "output_type": "execute_result"
    }
   ],
   "source": [
    "model_20.compile(\"adam\", lr=0.001)\n",
    "model_20.train(iterations=10000)\n",
    "model_20.compile(\"L-BFGS-B\")\n",
    "model_20.train(iterations=15000)"
   ]
  },
  {
   "cell_type": "code",
   "execution_count": 13,
   "id": "45db56ed-fcdb-4acb-af9e-f5b215224658",
   "metadata": {
    "scrolled": true
   },
   "outputs": [
    {
     "name": "stdout",
     "output_type": "stream",
     "text": [
      "Compiling model...\n",
      "Building feed-forward neural network...\n",
      "'build' took 0.126610 s\n",
      "\n",
      "'compile' took 1.761891 s\n",
      "\n",
      "Training model...\n",
      "\n",
      "Step      Train loss    Test loss     Test metric\n",
      "0         [1.73e+01]    [1.73e+01]    []  \n",
      "1000      [5.23e-04]    [5.23e-04]    []  \n",
      "2000      [1.30e-04]    [1.30e-04]    []  \n",
      "3000      [5.78e-05]    [5.78e-05]    []  \n",
      "4000      [5.21e-05]    [5.21e-05]    []  \n",
      "5000      [2.23e-05]    [2.23e-05]    []  \n",
      "6000      [1.62e-05]    [1.62e-05]    []  \n",
      "7000      [7.90e-04]    [7.90e-04]    []  \n",
      "8000      [2.66e-05]    [2.66e-05]    []  \n",
      "9000      [9.98e-06]    [9.98e-06]    []  \n",
      "10000     [8.55e-06]    [8.55e-06]    []  \n",
      "\n",
      "Best model at step 10000:\n",
      "  train loss: 8.55e-06\n",
      "  test loss: 8.55e-06\n",
      "  test metric: []\n",
      "\n",
      "'train' took 101.187154 s\n",
      "\n",
      "Compiling model...\n",
      "'compile' took 2.974997 s\n",
      "\n",
      "Training model...\n",
      "\n",
      "Step      Train loss    Test loss     Test metric\n",
      "10000     [8.55e-06]    [8.55e-06]    []  \n",
      "11000     [1.95e-07]    [1.95e-07]        \n",
      "12000     [6.52e-08]    [6.52e-08]        \n",
      "13000     [1.61e-08]    [1.61e-08]        \n",
      "14000     [9.71e-09]    [9.71e-09]        \n",
      "15000     [7.49e-09]    [7.49e-09]        \n",
      "16000     [3.20e-09]    [3.20e-09]        \n",
      "17000     [1.68e-09]    [1.68e-09]        \n",
      "18000     [1.51e-09]    [1.51e-09]        \n",
      "19000     [1.06e-09]    [1.06e-09]        \n",
      "20000     [9.64e-10]    [9.64e-10]        \n",
      "21000     [8.92e-10]    [8.92e-10]        \n",
      "22000     [6.71e-10]    [6.71e-10]        \n",
      "23000     [6.05e-10]    [6.05e-10]        \n",
      "24000     [4.74e-10]    [4.74e-10]        \n",
      "INFO:tensorflow:Optimization terminated with:\n",
      "  Message: CONVERGENCE: NORM_OF_PROJECTED_GRADIENT_<=_PGTOL\n",
      "  Objective function value: 0.000000\n",
      "  Number of iterations: 12432\n",
      "  Number of functions evaluations: 14064\n",
      "24064     [4.74e-10]    [4.74e-10]    []  \n",
      "\n",
      "Best model at step 24064:\n",
      "  train loss: 4.74e-10\n",
      "  test loss: 4.74e-10\n",
      "  test metric: []\n",
      "\n",
      "'train' took 320.446774 s\n",
      "\n"
     ]
    },
    {
     "data": {
      "text/plain": [
       "(<deepxde.model.LossHistory at 0x1ef0d29f190>,\n",
       " <deepxde.model.TrainState at 0x1ef0d29d450>)"
      ]
     },
     "execution_count": 13,
     "metadata": {},
     "output_type": "execute_result"
    }
   ],
   "source": [
    "model_30.compile(\"adam\", lr=0.001)\n",
    "model_30.train(iterations=10000)\n",
    "model_30.compile(\"L-BFGS-B\")\n",
    "model_30.train(iterations=15000)"
   ]
  },
  {
   "cell_type": "code",
   "execution_count": 14,
   "id": "e33557ea-bfe9-4a43-b2af-2ac831a081a8",
   "metadata": {
    "scrolled": true
   },
   "outputs": [
    {
     "name": "stdout",
     "output_type": "stream",
     "text": [
      "Compiling model...\n",
      "Building feed-forward neural network...\n",
      "'build' took 0.278332 s\n",
      "\n",
      "'compile' took 3.821938 s\n",
      "\n",
      "Training model...\n",
      "\n",
      "Step      Train loss    Test loss     Test metric\n",
      "0         [1.60e+01]    [1.60e+01]    []  \n",
      "1000      [4.09e-04]    [4.09e-04]    []  \n",
      "2000      [8.88e-05]    [8.88e-05]    []  \n",
      "3000      [6.81e-05]    [6.81e-05]    []  \n",
      "4000      [1.56e-05]    [1.56e-05]    []  \n",
      "5000      [2.85e-05]    [2.85e-05]    []  \n",
      "6000      [8.94e-06]    [8.94e-06]    []  \n",
      "7000      [6.54e-06]    [6.54e-06]    []  \n",
      "8000      [2.55e-05]    [2.55e-05]    []  \n",
      "9000      [7.59e-04]    [7.59e-04]    []  \n",
      "10000     [5.28e-06]    [5.28e-06]    []  \n",
      "\n",
      "Best model at step 10000:\n",
      "  train loss: 5.28e-06\n",
      "  test loss: 5.28e-06\n",
      "  test metric: []\n",
      "\n",
      "'train' took 137.022522 s\n",
      "\n",
      "Compiling model...\n",
      "'compile' took 2.084176 s\n",
      "\n",
      "Training model...\n",
      "\n",
      "Step      Train loss    Test loss     Test metric\n",
      "10000     [5.28e-06]    [5.28e-06]    []  \n",
      "11000     [8.10e-08]    [8.10e-08]        \n",
      "12000     [1.52e-08]    [1.52e-08]        \n",
      "13000     [7.04e-09]    [7.04e-09]        \n",
      "14000     [3.50e-09]    [3.50e-09]        \n",
      "15000     [2.19e-09]    [2.19e-09]        \n",
      "16000     [1.46e-09]    [1.46e-09]        \n",
      "17000     [1.14e-09]    [1.14e-09]        \n",
      "18000     [8.73e-10]    [8.73e-10]        \n",
      "19000     [6.13e-10]    [6.13e-10]        \n",
      "20000     [5.24e-10]    [5.24e-10]        \n",
      "21000     [4.70e-10]    [4.70e-10]        \n",
      "22000     [3.42e-10]    [3.42e-10]        \n",
      "INFO:tensorflow:Optimization terminated with:\n",
      "  Message: CONVERGENCE: NORM_OF_PROJECTED_GRADIENT_<=_PGTOL\n",
      "  Objective function value: 0.000000\n",
      "  Number of iterations: 11072\n",
      "  Number of functions evaluations: 12049\n",
      "22049     [3.41e-10]    [3.41e-10]    []  \n",
      "\n",
      "Best model at step 22049:\n",
      "  train loss: 3.41e-10\n",
      "  test loss: 3.41e-10\n",
      "  test metric: []\n",
      "\n",
      "'train' took 409.925739 s\n",
      "\n"
     ]
    },
    {
     "data": {
      "text/plain": [
       "(<deepxde.model.LossHistory at 0x1ef0d29f3d0>,\n",
       " <deepxde.model.TrainState at 0x1ef0d29f0d0>)"
      ]
     },
     "execution_count": 14,
     "metadata": {},
     "output_type": "execute_result"
    }
   ],
   "source": [
    "model_40.compile(\"adam\", lr=0.001)\n",
    "model_40.train(iterations=10000)\n",
    "model_40.compile(\"L-BFGS-B\")\n",
    "model_40.train(iterations=15000)"
   ]
  },
  {
   "cell_type": "code",
   "execution_count": 15,
   "id": "2e3b729a-8254-403a-a3dd-de08fac3e944",
   "metadata": {
    "scrolled": true
   },
   "outputs": [
    {
     "name": "stdout",
     "output_type": "stream",
     "text": [
      "Compiling model...\n",
      "Building feed-forward neural network...\n",
      "'build' took 0.321450 s\n",
      "\n",
      "'compile' took 3.212885 s\n",
      "\n",
      "Training model...\n",
      "\n",
      "Step      Train loss    Test loss     Test metric\n",
      "0         [1.63e+01]    [1.63e+01]    []  \n",
      "1000      [2.08e-04]    [2.08e-04]    []  \n",
      "2000      [5.56e-05]    [5.56e-05]    []  \n",
      "3000      [2.88e-05]    [2.88e-05]    []  \n",
      "4000      [1.96e-05]    [1.96e-05]    []  \n",
      "5000      [1.21e-05]    [1.21e-05]    []  \n",
      "6000      [4.53e-03]    [4.53e-03]    []  \n",
      "7000      [6.53e-06]    [6.53e-06]    []  \n",
      "8000      [4.74e-06]    [4.74e-06]    []  \n",
      "9000      [1.89e-05]    [1.89e-05]    []  \n",
      "10000     [5.59e-06]    [5.59e-06]    []  \n",
      "\n",
      "Best model at step 8000:\n",
      "  train loss: 4.74e-06\n",
      "  test loss: 4.74e-06\n",
      "  test metric: []\n",
      "\n",
      "'train' took 167.714921 s\n",
      "\n",
      "Compiling model...\n",
      "'compile' took 1.887618 s\n",
      "\n",
      "Training model...\n",
      "\n",
      "Step      Train loss    Test loss     Test metric\n",
      "10000     [5.59e-06]    [5.59e-06]    []  \n",
      "11000     [4.69e-08]    [4.69e-08]        \n",
      "12000     [1.07e-08]    [1.07e-08]        \n",
      "13000     [4.74e-09]    [4.74e-09]        \n",
      "14000     [2.31e-09]    [2.31e-09]        \n",
      "15000     [1.77e-09]    [1.77e-09]        \n",
      "16000     [1.10e-09]    [1.10e-09]        \n",
      "17000     [9.34e-10]    [9.34e-10]        \n",
      "18000     [7.24e-10]    [7.24e-10]        \n",
      "19000     [6.10e-10]    [6.10e-10]        \n",
      "20000     [4.74e-10]    [4.74e-10]        \n",
      "21000     [3.96e-10]    [3.96e-10]        \n",
      "INFO:tensorflow:Optimization terminated with:\n",
      "  Message: CONVERGENCE: NORM_OF_PROJECTED_GRADIENT_<=_PGTOL\n",
      "  Objective function value: 0.000000\n",
      "  Number of iterations: 10689\n",
      "  Number of functions evaluations: 11656\n",
      "21656     [3.41e-10]    [3.41e-10]    []  \n",
      "\n",
      "Best model at step 21656:\n",
      "  train loss: 3.41e-10\n",
      "  test loss: 3.41e-10\n",
      "  test metric: []\n",
      "\n",
      "'train' took 683.393099 s\n",
      "\n"
     ]
    },
    {
     "data": {
      "text/plain": [
       "(<deepxde.model.LossHistory at 0x1ef0d29f250>,\n",
       " <deepxde.model.TrainState at 0x1ef0d29f290>)"
      ]
     },
     "execution_count": 15,
     "metadata": {},
     "output_type": "execute_result"
    }
   ],
   "source": [
    "model_50.compile(\"adam\", lr=0.001)\n",
    "model_50.train(iterations=10000)\n",
    "model_50.compile(\"L-BFGS-B\")\n",
    "model_50.train(iterations=15000)"
   ]
  },
  {
   "cell_type": "code",
   "execution_count": 16,
   "id": "b7f6c0f0-55e3-4f97-b047-76d61d3e5bef",
   "metadata": {
    "scrolled": true
   },
   "outputs": [
    {
     "name": "stdout",
     "output_type": "stream",
     "text": [
      "Compiling model...\n",
      "Building feed-forward neural network...\n",
      "'build' took 0.277815 s\n",
      "\n",
      "'compile' took 6.312399 s\n",
      "\n",
      "Training model...\n",
      "\n",
      "Step      Train loss    Test loss     Test metric\n",
      "0         [1.69e+01]    [1.69e+01]    []  \n",
      "1000      [2.31e-04]    [2.31e-04]    []  \n",
      "2000      [2.90e-05]    [2.90e-05]    []  \n",
      "3000      [1.43e-05]    [1.43e-05]    []  \n",
      "4000      [9.66e-06]    [9.66e-06]    []  \n",
      "5000      [6.77e-06]    [6.77e-06]    []  \n",
      "6000      [1.05e-04]    [1.05e-04]    []  \n",
      "7000      [4.83e-06]    [4.83e-06]    []  \n",
      "8000      [5.14e-06]    [5.14e-06]    []  \n",
      "9000      [1.23e-03]    [1.23e-03]    []  \n",
      "10000     [1.49e-05]    [1.49e-05]    []  \n",
      "\n",
      "Best model at step 7000:\n",
      "  train loss: 4.83e-06\n",
      "  test loss: 4.83e-06\n",
      "  test metric: []\n",
      "\n",
      "'train' took 235.405912 s\n",
      "\n",
      "Compiling model...\n",
      "'compile' took 2.367446 s\n",
      "\n",
      "Training model...\n",
      "\n",
      "Step      Train loss    Test loss     Test metric\n",
      "10000     [1.49e-05]    [1.49e-05]    []  \n",
      "11000     [2.62e-08]    [2.62e-08]        \n",
      "12000     [5.97e-09]    [5.97e-09]        \n",
      "13000     [2.10e-09]    [2.10e-09]        \n",
      "14000     [1.16e-09]    [1.16e-09]        \n",
      "INFO:tensorflow:Optimization terminated with:\n",
      "  Message: CONVERGENCE: NORM_OF_PROJECTED_GRADIENT_<=_PGTOL\n",
      "  Objective function value: 0.000000\n",
      "  Number of iterations: 4392\n",
      "  Number of functions evaluations: 4874\n",
      "14874     [5.95e-10]    [5.95e-10]    []  \n",
      "\n",
      "Best model at step 14874:\n",
      "  train loss: 5.95e-10\n",
      "  test loss: 5.95e-10\n",
      "  test metric: []\n",
      "\n",
      "'train' took 382.103879 s\n",
      "\n"
     ]
    },
    {
     "data": {
      "text/plain": [
       "(<deepxde.model.LossHistory at 0x1ef0d29f7d0>,\n",
       " <deepxde.model.TrainState at 0x1ef0d29f650>)"
      ]
     },
     "execution_count": 16,
     "metadata": {},
     "output_type": "execute_result"
    }
   ],
   "source": [
    "model_60.compile(\"adam\", lr=0.001)\n",
    "model_60.train(iterations=10000)\n",
    "model_60.compile(\"L-BFGS-B\")\n",
    "model_60.train(iterations=15000)"
   ]
  },
  {
   "cell_type": "code",
   "execution_count": 17,
   "id": "deca661b-52c0-4ce2-a1ca-a8870ec677f6",
   "metadata": {
    "scrolled": true
   },
   "outputs": [
    {
     "name": "stdout",
     "output_type": "stream",
     "text": [
      "Compiling model...\n",
      "Building feed-forward neural network...\n",
      "'build' took 0.290631 s\n",
      "\n",
      "'compile' took 4.297519 s\n",
      "\n",
      "Training model...\n",
      "\n",
      "Step      Train loss    Test loss     Test metric\n",
      "0         [1.54e+01]    [1.54e+01]    []  \n",
      "1000      [6.57e-05]    [6.57e-05]    []  \n",
      "2000      [3.17e-05]    [3.17e-05]    []  \n",
      "3000      [2.65e-05]    [2.65e-05]    []  \n",
      "4000      [2.09e-05]    [2.09e-05]    []  \n",
      "5000      [2.02e-04]    [2.02e-04]    []  \n",
      "6000      [1.76e-05]    [1.76e-05]    []  \n",
      "7000      [1.43e-03]    [1.43e-03]    []  \n",
      "8000      [1.88e-05]    [1.88e-05]    []  \n",
      "9000      [6.28e-06]    [6.28e-06]    []  \n",
      "10000     [9.27e-04]    [9.27e-04]    []  \n",
      "\n",
      "Best model at step 9000:\n",
      "  train loss: 6.28e-06\n",
      "  test loss: 6.28e-06\n",
      "  test metric: []\n",
      "\n",
      "'train' took 250.283123 s\n",
      "\n",
      "Compiling model...\n",
      "'compile' took 3.540205 s\n",
      "\n",
      "Training model...\n",
      "\n",
      "Step      Train loss    Test loss     Test metric\n",
      "10000     [9.27e-04]    [9.27e-04]    []  \n",
      "11000     [3.19e-08]    [3.19e-08]        \n",
      "12000     [1.43e-08]    [1.43e-08]        \n",
      "13000     [7.52e-09]    [7.52e-09]        \n",
      "14000     [3.16e-09]    [3.16e-09]        \n",
      "15000     [1.60e-09]    [1.60e-09]        \n",
      "16000     [1.10e-09]    [1.10e-09]        \n",
      "INFO:tensorflow:Optimization terminated with:\n",
      "  Message: CONVERGENCE: NORM_OF_PROJECTED_GRADIENT_<=_PGTOL\n",
      "  Objective function value: 0.000000\n",
      "  Number of iterations: 5613\n",
      "  Number of functions evaluations: 6099\n",
      "16099     [1.10e-09]    [1.10e-09]    []  \n",
      "\n",
      "Best model at step 16099:\n",
      "  train loss: 1.10e-09\n",
      "  test loss: 1.10e-09\n",
      "  test metric: []\n",
      "\n",
      "'train' took 532.196440 s\n",
      "\n"
     ]
    },
    {
     "data": {
      "text/plain": [
       "(<deepxde.model.LossHistory at 0x1ef0d29fc90>,\n",
       " <deepxde.model.TrainState at 0x1ef0d29fdd0>)"
      ]
     },
     "execution_count": 17,
     "metadata": {},
     "output_type": "execute_result"
    }
   ],
   "source": [
    "model_70.compile(\"adam\", lr=0.001)\n",
    "model_70.train(iterations=10000)\n",
    "model_70.compile(\"L-BFGS-B\")\n",
    "model_70.train(iterations=15000)"
   ]
  },
  {
   "cell_type": "code",
   "execution_count": 18,
   "id": "dc5d8154-438d-428a-a881-8a847b74ecc7",
   "metadata": {
    "scrolled": true
   },
   "outputs": [
    {
     "name": "stdout",
     "output_type": "stream",
     "text": [
      "Compiling model...\n",
      "Building feed-forward neural network...\n",
      "'build' took 0.445569 s\n",
      "\n",
      "'compile' took 4.151926 s\n",
      "\n",
      "Training model...\n",
      "\n",
      "Step      Train loss    Test loss     Test metric\n",
      "0         [1.73e+01]    [1.73e+01]    []  \n",
      "1000      [1.48e-04]    [1.48e-04]    []  \n",
      "2000      [3.85e-05]    [3.85e-05]    []  \n",
      "3000      [2.13e-04]    [2.13e-04]    []  \n",
      "4000      [1.72e-05]    [1.72e-05]    []  \n",
      "5000      [4.25e-04]    [4.25e-04]    []  \n",
      "6000      [1.42e-03]    [1.42e-03]    []  \n",
      "7000      [8.49e-06]    [8.49e-06]    []  \n",
      "8000      [5.89e-04]    [5.89e-04]    []  \n",
      "9000      [7.35e-05]    [7.35e-05]    []  \n",
      "10000     [3.79e-06]    [3.79e-06]    []  \n",
      "\n",
      "Best model at step 10000:\n",
      "  train loss: 3.79e-06\n",
      "  test loss: 3.79e-06\n",
      "  test metric: []\n",
      "\n",
      "'train' took 304.526065 s\n",
      "\n",
      "Compiling model...\n",
      "'compile' took 2.960498 s\n",
      "\n",
      "Training model...\n",
      "\n",
      "Step      Train loss    Test loss     Test metric\n",
      "10000     [3.79e-06]    [3.79e-06]    []  \n",
      "11000     [1.53e-08]    [1.53e-08]        \n",
      "12000     [3.97e-09]    [3.97e-09]        \n",
      "13000     [2.67e-09]    [2.67e-09]        \n",
      "14000     [1.71e-09]    [1.71e-09]        \n",
      "15000     [1.37e-09]    [1.37e-09]        \n",
      "16000     [8.18e-10]    [8.18e-10]        \n",
      "17000     [6.02e-10]    [6.02e-10]        \n",
      "INFO:tensorflow:Optimization terminated with:\n",
      "  Message: CONVERGENCE: NORM_OF_PROJECTED_GRADIENT_<=_PGTOL\n",
      "  Objective function value: 0.000000\n",
      "  Number of iterations: 6892\n",
      "  Number of functions evaluations: 7419\n",
      "17419     [5.55e-10]    [5.55e-10]    []  \n",
      "\n",
      "Best model at step 17419:\n",
      "  train loss: 5.55e-10\n",
      "  test loss: 5.55e-10\n",
      "  test metric: []\n",
      "\n",
      "'train' took 942.164576 s\n",
      "\n"
     ]
    },
    {
     "data": {
      "text/plain": [
       "(<deepxde.model.LossHistory at 0x1ef0d29f150>,\n",
       " <deepxde.model.TrainState at 0x1ef0d29f710>)"
      ]
     },
     "execution_count": 18,
     "metadata": {},
     "output_type": "execute_result"
    }
   ],
   "source": [
    "model_80.compile(\"adam\", lr=0.001)\n",
    "model_80.train(iterations=10000)\n",
    "model_80.compile(\"L-BFGS-B\")\n",
    "model_80.train(iterations=15000)"
   ]
  },
  {
   "cell_type": "markdown",
   "id": "c546e62a-c028-412a-be1d-55d8849d5c8b",
   "metadata": {},
   "source": [
    "## Error"
   ]
  },
  {
   "cell_type": "code",
   "execution_count": 20,
   "id": "bf78338c-7def-41bc-bca5-6c5a529111a3",
   "metadata": {},
   "outputs": [],
   "source": [
    "def u(x, y): \n",
    "    return (np.sinh(np.pi*y)/np.sinh(np.pi))*np.sin(np.pi*x)"
   ]
  },
  {
   "cell_type": "code",
   "execution_count": 21,
   "id": "98a19371-68b9-470a-b302-98e22fe2c8ca",
   "metadata": {},
   "outputs": [],
   "source": [
    "u_exact500 = u(data_500.train_x_all.T[0],\n",
    "                 data_500.train_x_all.T[1])"
   ]
  },
  {
   "cell_type": "code",
   "execution_count": 22,
   "id": "0d4662c5-e811-42ab-9efa-0e317b77360c",
   "metadata": {},
   "outputs": [],
   "source": [
    "u_10 = model_10.predict(data_500.train_x_all)\n",
    "u_20 = model_20.predict(data_500.train_x_all)\n",
    "u_30 = model_30.predict(data_500.train_x_all)\n",
    "u_40 = model_40.predict(data_500.train_x_all)\n",
    "u_50 = model_50.predict(data_500.train_x_all)\n",
    "u_60 = model_60.predict(data_500.train_x_all)\n",
    "u_70 = model_70.predict(data_500.train_x_all)\n",
    "u_80 = model_80.predict(data_500.train_x_all)"
   ]
  },
  {
   "cell_type": "code",
   "execution_count": 26,
   "id": "3e9c1d9b-ea18-4772-a035-bfd9890408cd",
   "metadata": {},
   "outputs": [
    {
     "data": {
      "text/plain": [
       "[<matplotlib.lines.Line2D at 0x1ef7627ed50>]"
      ]
     },
     "execution_count": 26,
     "metadata": {},
     "output_type": "execute_result"
    },
    {
     "data": {
      "image/png": "[encoded data removed]",
      "text/plain": [
       "<Figure size 640x480 with 1 Axes>"
      ]
     },
     "metadata": {},
     "output_type": "display_data"
    }
   ],
   "source": [
    "l2_10 = dde.metrics.l2_relative_error(u_exact500, u_10.T)\n",
    "l2_20 = dde.metrics.l2_relative_error(u_exact500, u_20.T)\n",
    "l2_30 = dde.metrics.l2_relative_error(u_exact500, u_30.T)\n",
    "l2_40 = dde.metrics.l2_relative_error(u_exact500, u_40.T)\n",
    "l2_50 = dde.metrics.l2_relative_error(u_exact500, u_50.T)\n",
    "l2_60 = dde.metrics.l2_relative_error(u_exact500, u_60.T)\n",
    "l2_70 = dde.metrics.l2_relative_error(u_exact500, u_70.T)\n",
    "l2_80 = dde.metrics.l2_relative_error(u_exact500, u_80.T)\n",
    "\n",
    "plt.scatter([20,30,40,50,60,70],[l2_20,l2_30,l2_40,l2_50,l2_60,l2_70])\n",
    "plt.plot([20,30,40,50,60,70],[l2_20,l2_30,l2_40,l2_50,l2_60,l2_70])"
   ]
  },
  {
   "cell_type": "code",
   "execution_count": null,
   "id": "afe729c3-2319-4a2b-a22e-fceacf6e0dd9",
   "metadata": {},
   "outputs": [],
   "source": []
  }
 ],
 "metadata": {
  "kernelspec": {
   "display_name": "Python 3 (ipykernel)",
   "language": "python",
   "name": "python3"
  },
  "language_info": {
   "codemirror_mode": {
    "name": "ipython",
    "version": 3
   },
   "file_extension": ".py",
   "mimetype": "text/x-python",
   "name": "python",
   "nbconvert_exporter": "python",
   "pygments_lexer": "ipython3",
   "version": "3.11.5"
  }
 },
 "nbformat": 4,
 "nbformat_minor": 5
}
