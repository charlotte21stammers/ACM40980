{
 "cells": [
  {
   "cell_type": "code",
   "execution_count": 1,
   "id": "1e319a0b-946b-49ab-b10e-2263b9680a96",
   "metadata": {},
   "outputs": [
    {
     "name": "stdout",
     "output_type": "stream",
     "text": [
      "WARNING:tensorflow:From C:\\anaconda\\Lib\\site-packages\\keras\\src\\losses.py:2976: The name tf.losses.sparse_softmax_cross_entropy is deprecated. Please use tf.compat.v1.losses.sparse_softmax_cross_entropy instead.\n",
      "\n"
     ]
    },
    {
     "name": "stderr",
     "output_type": "stream",
     "text": [
      "Using backend: tensorflow.compat.v1\n",
      "Other supported backends: tensorflow, pytorch, jax, paddle.\n",
      "paddle supports more examples now and is recommended.\n"
     ]
    },
    {
     "name": "stdout",
     "output_type": "stream",
     "text": [
      "WARNING:tensorflow:From C:\\anaconda\\Lib\\site-packages\\deepxde\\backend\\tensorflow_compat_v1\\tensor.py:25: The name tf.disable_v2_behavior is deprecated. Please use tf.compat.v1.disable_v2_behavior instead.\n",
      "\n",
      "WARNING:tensorflow:From C:\\anaconda\\Lib\\site-packages\\tensorflow\\python\\compat\\v2_compat.py:108: disable_resource_variables (from tensorflow.python.ops.variable_scope) is deprecated and will be removed in a future version.\n",
      "Instructions for updating:\n",
      "non-resource variables are not supported in the long term\n"
     ]
    }
   ],
   "source": [
    "import deepxde as dde\n",
    "import numpy as np\n",
    "\n",
    "import tensorflow as tf\n",
    "import matplotlib.pyplot as plt\n",
    "\n",
    "import pandas as pd"
   ]
  },
  {
   "cell_type": "code",
   "execution_count": 2,
   "id": "b9c78107-ea25-4802-be0d-afe03d18029b",
   "metadata": {},
   "outputs": [
    {
     "name": "stdout",
     "output_type": "stream",
     "text": [
      "Set the default float type to float64\n"
     ]
    }
   ],
   "source": [
    "dde.config.set_random_seed(1234)\n",
    "dde.config.set_default_float(\"float64\")"
   ]
  },
  {
   "cell_type": "code",
   "execution_count": 3,
   "id": "a43f50e6-dcae-497a-b570-de650973e509",
   "metadata": {},
   "outputs": [],
   "source": [
    "#computational domain\n",
    "geom = dde.geometry.Rectangle([0, 0], [1, 1])"
   ]
  },
  {
   "cell_type": "code",
   "execution_count": 4,
   "id": "ad510f18-1e8c-413f-b2e3-47cc756e333d",
   "metadata": {},
   "outputs": [],
   "source": [
    "#pde\n",
    "def pde(x, u):\n",
    "    u_xx = dde.grad.hessian(u, x, i=0, j=0)\n",
    "    u_yy = dde.grad.hessian(u, x, i=1, j=1)\n",
    "    return u_xx + u_yy"
   ]
  },
  {
   "cell_type": "markdown",
   "id": "9d4698ac-9b0a-4bd9-9c4a-3b6334ba9fce",
   "metadata": {},
   "source": [
    "## Hard Constraints"
   ]
  },
  {
   "cell_type": "code",
   "execution_count": 5,
   "id": "a973897c-dda1-40ba-99e1-8916b912339d",
   "metadata": {},
   "outputs": [],
   "source": [
    "def output_transform2(x,u):\n",
    "    return (1-x[:,0:1]) * (-x[:,1:2]**2 + x[:,1:2]) + x[:,0:1] * (-x[:,1:2]**2 + x[:,1:2]) + (1-x[:,1:2]) * (-x[:,0:1]**2 + x[:,0:1]) + x[:,1:2] * (-x[:,0:1]**2 + x[:,0:1]) + x[:,0:1] * (1-x[:,0:1]) * x[:,1:2] * (1-x[:,1:2]) * u"
   ]
  },
  {
   "cell_type": "code",
   "execution_count": 6,
   "id": "b5d97495-4d64-4601-8269-ea07cfc9cefc",
   "metadata": {},
   "outputs": [
    {
     "name": "stderr",
     "output_type": "stream",
     "text": [
      "C:\\anaconda\\Lib\\site-packages\\skopt\\sampler\\sobol.py:246: UserWarning: The balance properties of Sobol' points require n to be a power of 2. 0 points have been previously generated, then: n=0+501=501. \n",
      "  warnings.warn(\"The balance properties of Sobol' points require \"\n"
     ]
    }
   ],
   "source": [
    "data_500 = dde.data.TimePDE(geom, \n",
    "                        pde, \n",
    "                         [],\n",
    "                        num_domain=500,\n",
    "                        train_distribution='Sobol')"
   ]
  },
  {
   "cell_type": "code",
   "execution_count": 7,
   "id": "e5eba1cc-51fd-4b79-9811-af906debb98a",
   "metadata": {},
   "outputs": [],
   "source": [
    "net_10 = dde.nn.FNN([2] + [10] * 5 + [1], \"tanh\", tf.keras.initializers.GlorotUniform(seed=1234))\n",
    "net_20 = dde.nn.FNN([2] + [20] * 5 + [1], \"tanh\", tf.keras.initializers.GlorotUniform(seed=1234))\n",
    "net_30 = dde.nn.FNN([2] + [30] * 5 + [1], \"tanh\", tf.keras.initializers.GlorotUniform(seed=1234))\n",
    "net_40 = dde.nn.FNN([2] + [40] * 5 + [1], \"tanh\", tf.keras.initializers.GlorotUniform(seed=1234))\n",
    "net_50 = dde.nn.FNN([2] + [50] * 5 + [1], \"tanh\", tf.keras.initializers.GlorotUniform(seed=1234))\n",
    "net_60 = dde.nn.FNN([2] + [60] * 5 + [1], \"tanh\", tf.keras.initializers.GlorotUniform(seed=1234))\n",
    "net_70 = dde.nn.FNN([2] + [70] * 5 + [1], \"tanh\", tf.keras.initializers.GlorotUniform(seed=1234))\n",
    "net_80 = dde.nn.FNN([2] + [80] * 5 + [1], \"tanh\", tf.keras.initializers.GlorotUniform(seed=1234))"
   ]
  },
  {
   "cell_type": "code",
   "execution_count": 8,
   "id": "f9d1d753-baa9-45d5-9c3a-924739720018",
   "metadata": {},
   "outputs": [],
   "source": [
    "net_10.apply_output_transform(output_transform2)\n",
    "net_20.apply_output_transform(output_transform2)\n",
    "net_30.apply_output_transform(output_transform2)\n",
    "net_40.apply_output_transform(output_transform2)\n",
    "net_50.apply_output_transform(output_transform2)\n",
    "net_60.apply_output_transform(output_transform2)\n",
    "net_70.apply_output_transform(output_transform2)\n",
    "net_80.apply_output_transform(output_transform2)"
   ]
  },
  {
   "cell_type": "code",
   "execution_count": 9,
   "id": "b44056c5-0829-4250-a3ad-27009a56b566",
   "metadata": {},
   "outputs": [],
   "source": [
    "model_10 = dde.Model(data_500, net_10)\n",
    "model_20 = dde.Model(data_500, net_20)\n",
    "model_30 = dde.Model(data_500, net_30)\n",
    "model_40 = dde.Model(data_500, net_40)\n",
    "model_50 = dde.Model(data_500, net_50)\n",
    "model_60 = dde.Model(data_500, net_60)\n",
    "model_70 = dde.Model(data_500, net_70)\n",
    "model_80 = dde.Model(data_500, net_80)"
   ]
  },
  {
   "cell_type": "markdown",
   "id": "2a5d148b-e59b-45d0-95f4-648bce4c20a3",
   "metadata": {},
   "source": [
    "## Training"
   ]
  },
  {
   "cell_type": "code",
   "execution_count": 10,
   "id": "ff0c0511-bb6d-454d-9263-18f453a93580",
   "metadata": {},
   "outputs": [],
   "source": [
    "dde.optimizers.config.set_LBFGS_options(maxiter=15000, maxfun=15000)"
   ]
  },
  {
   "cell_type": "code",
   "execution_count": 11,
   "id": "56752df0-58bc-4dc1-8526-94f822d18727",
   "metadata": {
    "scrolled": true
   },
   "outputs": [
    {
     "name": "stdout",
     "output_type": "stream",
     "text": [
      "Compiling model...\n",
      "Building feed-forward neural network...\n"
     ]
    },
    {
     "name": "stderr",
     "output_type": "stream",
     "text": [
      "C:\\anaconda\\Lib\\site-packages\\deepxde\\nn\\tensorflow_compat_v1\\fnn.py:116: UserWarning: `tf.layers.dense` is deprecated and will be removed in a future version. Please use `tf.keras.layers.Dense` instead.\n",
      "  return tf.layers.dense(\n"
     ]
    },
    {
     "name": "stdout",
     "output_type": "stream",
     "text": [
      "WARNING:tensorflow:From C:\\anaconda\\Lib\\site-packages\\keras\\src\\utils\\version_utils.py:76: The name tf.executing_eagerly_outside_functions is deprecated. Please use tf.compat.v1.executing_eagerly_outside_functions instead.\n",
      "\n",
      "'build' took 0.589004 s\n",
      "\n",
      "WARNING:tensorflow:From C:\\anaconda\\Lib\\site-packages\\deepxde\\model.py:168: The name tf.train.Saver is deprecated. Please use tf.compat.v1.train.Saver instead.\n",
      "\n",
      "'compile' took 2.745984 s\n",
      "\n",
      "Training model...\n",
      "\n",
      "Step      Train loss    Test loss     Test metric\n",
      "0         [1.60e+01]    [1.60e+01]    []  \n",
      "1000      [1.45e+00]    [1.45e+00]    []  \n",
      "2000      [5.92e-01]    [5.92e-01]    []  \n",
      "3000      [9.96e-02]    [9.96e-02]    []  \n",
      "4000      [7.89e-02]    [7.89e-02]    []  \n",
      "5000      [6.87e-02]    [6.87e-02]    []  \n",
      "6000      [3.02e-02]    [3.02e-02]    []  \n",
      "7000      [6.40e-03]    [6.40e-03]    []  \n",
      "8000      [2.10e-03]    [2.10e-03]    []  \n",
      "9000      [1.11e-03]    [1.11e-03]    []  \n",
      "10000     [7.61e-04]    [7.61e-04]    []  \n",
      "\n",
      "Best model at step 10000:\n",
      "  train loss: 7.61e-04\n",
      "  test loss: 7.61e-04\n",
      "  test metric: []\n",
      "\n",
      "'train' took 31.480873 s\n",
      "\n",
      "Compiling model...\n",
      "'compile' took 1.009499 s\n",
      "\n",
      "Training model...\n",
      "\n",
      "Step      Train loss    Test loss     Test metric\n",
      "10000     [7.61e-04]    [7.61e-04]    []  \n",
      "11000     [9.80e-05]    [9.80e-05]        \n",
      "12000     [6.64e-05]    [6.64e-05]        \n",
      "13000     [4.65e-05]    [4.65e-05]        \n",
      "14000     [3.43e-05]    [3.43e-05]        \n",
      "15000     [2.47e-05]    [2.47e-05]        \n",
      "16000     [2.20e-05]    [2.20e-05]        \n",
      "17000     [1.94e-05]    [1.94e-05]        \n",
      "18000     [1.77e-05]    [1.77e-05]        \n",
      "19000     [1.61e-05]    [1.61e-05]        \n",
      "20000     [1.38e-05]    [1.38e-05]        \n",
      "21000     [1.27e-05]    [1.27e-05]        \n",
      "22000     [1.20e-05]    [1.20e-05]        \n",
      "23000     [9.35e-06]    [9.35e-06]        \n",
      "24000     [9.08e-06]    [9.08e-06]        \n",
      "25000     [7.78e-06]    [7.78e-06]        \n",
      "WARNING:tensorflow:From C:\\anaconda\\Lib\\site-packages\\deepxde\\optimizers\\tensorflow_compat_v1\\scipy_optimizer.py:398: The name tf.logging.info is deprecated. Please use tf.compat.v1.logging.info instead.\n",
      "\n",
      "INFO:tensorflow:Optimization terminated with:\n",
      "  Message: STOP: TOTAL NO. of f AND g EVALUATIONS EXCEEDS LIMIT\n",
      "  Objective function value: 0.000008\n",
      "  Number of iterations: 12883\n",
      "  Number of functions evaluations: 15001\n",
      "25001     [7.78e-06]    [7.78e-06]    []  \n",
      "\n",
      "Best model at step 25001:\n",
      "  train loss: 7.78e-06\n",
      "  test loss: 7.78e-06\n",
      "  test metric: []\n",
      "\n",
      "'train' took 100.779718 s\n",
      "\n"
     ]
    },
    {
     "data": {
      "text/plain": [
       "(<deepxde.model.LossHistory at 0x2420a00dcd0>,\n",
       " <deepxde.model.TrainState at 0x2420a00dfd0>)"
      ]
     },
     "execution_count": 11,
     "metadata": {},
     "output_type": "execute_result"
    }
   ],
   "source": [
    "model_10.compile(\"adam\", lr=0.001)\n",
    "model_10.train(iterations=10000)\n",
    "model_10.compile(\"L-BFGS-B\")\n",
    "model_10.train(iterations=15000)"
   ]
  },
  {
   "cell_type": "code",
   "execution_count": 12,
   "id": "cfa52aed-91b8-49c4-aa08-32637fdf16ba",
   "metadata": {
    "scrolled": true
   },
   "outputs": [
    {
     "name": "stdout",
     "output_type": "stream",
     "text": [
      "Compiling model...\n",
      "Building feed-forward neural network...\n",
      "'build' took 0.193324 s\n",
      "\n",
      "'compile' took 2.346133 s\n",
      "\n",
      "Training model...\n",
      "\n",
      "Step      Train loss    Test loss     Test metric\n",
      "0         [1.49e+01]    [1.49e+01]    []  \n",
      "1000      [2.97e-01]    [2.97e-01]    []  \n",
      "2000      [8.30e-02]    [8.30e-02]    []  \n",
      "3000      [4.94e-02]    [4.94e-02]    []  \n",
      "4000      [7.78e-03]    [7.78e-03]    []  \n",
      "5000      [1.56e-03]    [1.56e-03]    []  \n",
      "6000      [8.16e-04]    [8.16e-04]    []  \n",
      "7000      [5.43e-04]    [5.43e-04]    []  \n",
      "8000      [2.77e-04]    [2.77e-04]    []  \n",
      "9000      [2.76e-04]    [2.76e-04]    []  \n",
      "10000     [1.93e-04]    [1.93e-04]    []  \n",
      "\n",
      "Best model at step 10000:\n",
      "  train loss: 1.93e-04\n",
      "  test loss: 1.93e-04\n",
      "  test metric: []\n",
      "\n",
      "'train' took 61.806155 s\n",
      "\n",
      "Compiling model...\n",
      "'compile' took 1.525878 s\n",
      "\n",
      "Training model...\n",
      "\n",
      "Step      Train loss    Test loss     Test metric\n",
      "10000     [1.93e-04]    [1.93e-04]    []  \n",
      "11000     [2.09e-05]    [2.09e-05]        \n",
      "12000     [1.25e-05]    [1.25e-05]        \n",
      "13000     [5.73e-06]    [5.73e-06]        \n",
      "14000     [3.65e-06]    [3.65e-06]        \n",
      "15000     [2.44e-06]    [2.44e-06]        \n",
      "16000     [1.74e-06]    [1.74e-06]        \n",
      "17000     [1.33e-06]    [1.33e-06]        \n",
      "18000     [1.06e-06]    [1.06e-06]        \n",
      "19000     [8.40e-07]    [8.40e-07]        \n",
      "20000     [6.99e-07]    [6.99e-07]        \n",
      "21000     [6.10e-07]    [6.10e-07]        \n",
      "22000     [5.21e-07]    [5.21e-07]        \n",
      "23000     [4.73e-07]    [4.73e-07]        \n",
      "24000     [4.35e-07]    [4.35e-07]        \n",
      "25000     [4.06e-07]    [4.06e-07]        \n",
      "INFO:tensorflow:Optimization terminated with:\n",
      "  Message: STOP: TOTAL NO. of f AND g EVALUATIONS EXCEEDS LIMIT\n",
      "  Objective function value: 0.000000\n",
      "  Number of iterations: 13161\n",
      "  Number of functions evaluations: 15002\n",
      "25002     [4.06e-07]    [4.06e-07]    []  \n",
      "\n",
      "Best model at step 25002:\n",
      "  train loss: 4.06e-07\n",
      "  test loss: 4.06e-07\n",
      "  test metric: []\n",
      "\n",
      "'train' took 156.539646 s\n",
      "\n"
     ]
    },
    {
     "data": {
      "text/plain": [
       "(<deepxde.model.LossHistory at 0x2420a5b8d10>,\n",
       " <deepxde.model.TrainState at 0x2420a5b8a90>)"
      ]
     },
     "execution_count": 12,
     "metadata": {},
     "output_type": "execute_result"
    }
   ],
   "source": [
    "model_20.compile(\"adam\", lr=0.001)\n",
    "model_20.train(iterations=10000)\n",
    "model_20.compile(\"L-BFGS-B\")\n",
    "model_20.train(iterations=15000)"
   ]
  },
  {
   "cell_type": "code",
   "execution_count": 13,
   "id": "45db56ed-fcdb-4acb-af9e-f5b215224658",
   "metadata": {
    "scrolled": true
   },
   "outputs": [
    {
     "name": "stdout",
     "output_type": "stream",
     "text": [
      "Compiling model...\n",
      "Building feed-forward neural network...\n",
      "'build' took 0.157763 s\n",
      "\n",
      "'compile' took 2.439771 s\n",
      "\n",
      "Training model...\n",
      "\n",
      "Step      Train loss    Test loss     Test metric\n",
      "0         [1.63e+01]    [1.63e+01]    []  \n",
      "1000      [1.08e-01]    [1.08e-01]    []  \n",
      "2000      [6.47e-02]    [6.47e-02]    []  \n",
      "3000      [1.66e-02]    [1.66e-02]    []  \n",
      "4000      [5.48e-03]    [5.48e-03]    []  \n",
      "5000      [2.89e-01]    [2.89e-01]    []  \n",
      "6000      [9.97e-02]    [9.97e-02]    []  \n",
      "7000      [7.69e-02]    [7.69e-02]    []  \n",
      "8000      [6.10e-02]    [6.10e-02]    []  \n",
      "9000      [3.71e-02]    [3.71e-02]    []  \n",
      "10000     [1.18e-02]    [1.18e-02]    []  \n",
      "\n",
      "Best model at step 4000:\n",
      "  train loss: 5.48e-03\n",
      "  test loss: 5.48e-03\n",
      "  test metric: []\n",
      "\n",
      "'train' took 104.194641 s\n",
      "\n",
      "Compiling model...\n",
      "'compile' took 1.002893 s\n",
      "\n",
      "Training model...\n",
      "\n",
      "Step      Train loss    Test loss     Test metric\n",
      "10000     [1.18e-02]    [1.18e-02]    []  \n",
      "11000     [4.91e-05]    [4.91e-05]        \n",
      "12000     [2.19e-05]    [2.19e-05]        \n",
      "13000     [9.87e-06]    [9.87e-06]        \n",
      "14000     [5.33e-06]    [5.33e-06]        \n",
      "15000     [2.96e-06]    [2.96e-06]        \n",
      "16000     [1.94e-06]    [1.94e-06]        \n",
      "17000     [1.38e-06]    [1.38e-06]        \n",
      "18000     [1.02e-06]    [1.02e-06]        \n",
      "19000     [8.06e-07]    [8.06e-07]        \n",
      "20000     [6.03e-07]    [6.03e-07]        \n",
      "21000     [5.29e-07]    [5.29e-07]        \n",
      "22000     [4.30e-07]    [4.30e-07]        \n",
      "23000     [3.67e-07]    [3.67e-07]        \n",
      "24000     [3.36e-07]    [3.36e-07]        \n",
      "25000     [3.15e-07]    [3.15e-07]        \n",
      "INFO:tensorflow:Optimization terminated with:\n",
      "  Message: STOP: TOTAL NO. of f AND g EVALUATIONS EXCEEDS LIMIT\n",
      "  Objective function value: 0.000000\n",
      "  Number of iterations: 13957\n",
      "  Number of functions evaluations: 15002\n",
      "25002     [3.15e-07]    [3.15e-07]    []  \n",
      "\n",
      "Best model at step 25002:\n",
      "  train loss: 3.15e-07\n",
      "  test loss: 3.15e-07\n",
      "  test metric: []\n",
      "\n",
      "'train' took 274.817868 s\n",
      "\n"
     ]
    },
    {
     "data": {
      "text/plain": [
       "(<deepxde.model.LossHistory at 0x2420a5b8e90>,\n",
       " <deepxde.model.TrainState at 0x2420a5b8ad0>)"
      ]
     },
     "execution_count": 13,
     "metadata": {},
     "output_type": "execute_result"
    }
   ],
   "source": [
    "model_30.compile(\"adam\", lr=0.001)\n",
    "model_30.train(iterations=10000)\n",
    "model_30.compile(\"L-BFGS-B\")\n",
    "model_30.train(iterations=15000)"
   ]
  },
  {
   "cell_type": "code",
   "execution_count": 14,
   "id": "e33557ea-bfe9-4a43-b2af-2ac831a081a8",
   "metadata": {
    "scrolled": true
   },
   "outputs": [
    {
     "name": "stdout",
     "output_type": "stream",
     "text": [
      "Compiling model...\n",
      "Building feed-forward neural network...\n",
      "'build' took 0.168939 s\n",
      "\n",
      "'compile' took 2.516913 s\n",
      "\n",
      "Training model...\n",
      "\n",
      "Step      Train loss    Test loss     Test metric\n",
      "0         [1.64e+01]    [1.64e+01]    []  \n",
      "1000      [8.76e-02]    [8.76e-02]    []  \n",
      "2000      [5.19e-02]    [5.19e-02]    []  \n",
      "3000      [4.17e-03]    [4.17e-03]    []  \n",
      "4000      [2.38e-04]    [2.38e-04]    []  \n",
      "5000      [1.38e-04]    [1.38e-04]    []  \n",
      "6000      [1.72e-01]    [1.72e-01]    []  \n",
      "7000      [1.46e-02]    [1.46e-02]    []  \n",
      "8000      [3.33e-04]    [3.33e-04]    []  \n",
      "9000      [1.50e-04]    [1.50e-04]    []  \n",
      "10000     [1.24e-04]    [1.24e-04]    []  \n",
      "\n",
      "Best model at step 10000:\n",
      "  train loss: 1.24e-04\n",
      "  test loss: 1.24e-04\n",
      "  test metric: []\n",
      "\n",
      "'train' took 131.250669 s\n",
      "\n",
      "Compiling model...\n",
      "'compile' took 1.369375 s\n",
      "\n",
      "Training model...\n",
      "\n",
      "Step      Train loss    Test loss     Test metric\n",
      "10000     [1.24e-04]    [1.24e-04]    []  \n",
      "11000     [5.20e-06]    [5.20e-06]        \n",
      "12000     [1.80e-06]    [1.80e-06]        \n",
      "13000     [9.31e-07]    [9.31e-07]        \n",
      "14000     [5.04e-07]    [5.04e-07]        \n",
      "15000     [3.44e-07]    [3.44e-07]        \n",
      "16000     [2.65e-07]    [2.65e-07]        \n",
      "17000     [2.00e-07]    [2.00e-07]        \n",
      "18000     [1.45e-07]    [1.45e-07]        \n",
      "19000     [1.11e-07]    [1.11e-07]        \n",
      "20000     [8.62e-08]    [8.62e-08]        \n",
      "21000     [7.33e-08]    [7.33e-08]        \n",
      "22000     [6.51e-08]    [6.51e-08]        \n",
      "23000     [5.74e-08]    [5.74e-08]        \n",
      "24000     [5.10e-08]    [5.10e-08]        \n",
      "25000     [4.70e-08]    [4.70e-08]        \n",
      "INFO:tensorflow:Optimization terminated with:\n",
      "  Message: STOP: TOTAL NO. of f AND g EVALUATIONS EXCEEDS LIMIT\n",
      "  Objective function value: 0.000000\n",
      "  Number of iterations: 13655\n",
      "  Number of functions evaluations: 15001\n",
      "25001     [4.70e-08]    [4.70e-08]    []  \n",
      "\n",
      "Best model at step 25001:\n",
      "  train loss: 4.70e-08\n",
      "  test loss: 4.70e-08\n",
      "  test metric: []\n",
      "\n",
      "'train' took 430.533547 s\n",
      "\n"
     ]
    },
    {
     "data": {
      "text/plain": [
       "(<deepxde.model.LossHistory at 0x2420a5b8dd0>,\n",
       " <deepxde.model.TrainState at 0x2420a5b8410>)"
      ]
     },
     "execution_count": 14,
     "metadata": {},
     "output_type": "execute_result"
    }
   ],
   "source": [
    "model_40.compile(\"adam\", lr=0.001)\n",
    "model_40.train(iterations=10000)\n",
    "model_40.compile(\"L-BFGS-B\")\n",
    "model_40.train(iterations=15000)"
   ]
  },
  {
   "cell_type": "code",
   "execution_count": 15,
   "id": "2e3b729a-8254-403a-a3dd-de08fac3e944",
   "metadata": {
    "scrolled": true
   },
   "outputs": [
    {
     "name": "stdout",
     "output_type": "stream",
     "text": [
      "Compiling model...\n",
      "Building feed-forward neural network...\n",
      "'build' took 0.257215 s\n",
      "\n",
      "'compile' took 2.722077 s\n",
      "\n",
      "Training model...\n",
      "\n",
      "Step      Train loss    Test loss     Test metric\n",
      "0         [1.58e+01]    [1.58e+01]    []  \n",
      "1000      [7.35e-02]    [7.35e-02]    []  \n",
      "2000      [2.26e-02]    [2.26e-02]    []  \n",
      "3000      [2.22e-03]    [2.22e-03]    []  \n",
      "4000      [8.70e-04]    [8.70e-04]    []  \n",
      "5000      [5.29e-04]    [5.29e-04]    []  \n",
      "6000      [2.51e-02]    [2.51e-02]    []  \n",
      "7000      [3.66e-04]    [3.66e-04]    []  \n",
      "8000      [1.70e-04]    [1.70e-04]    []  \n",
      "9000      [1.18e-04]    [1.18e-04]    []  \n",
      "10000     [5.30e-02]    [5.30e-02]    []  \n",
      "\n",
      "Best model at step 9000:\n",
      "  train loss: 1.18e-04\n",
      "  test loss: 1.18e-04\n",
      "  test metric: []\n",
      "\n",
      "'train' took 181.067867 s\n",
      "\n",
      "Compiling model...\n",
      "'compile' took 1.865094 s\n",
      "\n",
      "Training model...\n",
      "\n",
      "Step      Train loss    Test loss     Test metric\n",
      "10000     [5.30e-02]    [5.30e-02]    []  \n",
      "11000     [8.84e-06]    [8.84e-06]        \n",
      "12000     [2.17e-06]    [2.17e-06]        \n",
      "13000     [7.39e-07]    [7.39e-07]        \n",
      "14000     [4.45e-07]    [4.45e-07]        \n",
      "15000     [3.11e-07]    [3.11e-07]        \n",
      "16000     [2.25e-07]    [2.25e-07]        \n",
      "17000     [1.67e-07]    [1.67e-07]        \n",
      "18000     [1.29e-07]    [1.29e-07]        \n",
      "19000     [1.01e-07]    [1.01e-07]        \n",
      "20000     [7.99e-08]    [7.99e-08]        \n",
      "21000     [6.29e-08]    [6.29e-08]        \n",
      "22000     [5.37e-08]    [5.37e-08]        \n",
      "23000     [4.53e-08]    [4.53e-08]        \n",
      "24000     [3.80e-08]    [3.80e-08]        \n",
      "25000     [3.32e-08]    [3.32e-08]        \n",
      "INFO:tensorflow:Optimization terminated with:\n",
      "  Message: STOP: TOTAL NO. of f AND g EVALUATIONS EXCEEDS LIMIT\n",
      "  Objective function value: 0.000000\n",
      "  Number of iterations: 14325\n",
      "  Number of functions evaluations: 15001\n",
      "25001     [3.32e-08]    [3.32e-08]    []  \n",
      "\n",
      "Best model at step 25001:\n",
      "  train loss: 3.32e-08\n",
      "  test loss: 3.32e-08\n",
      "  test metric: []\n",
      "\n",
      "'train' took 673.897638 s\n",
      "\n"
     ]
    },
    {
     "data": {
      "text/plain": [
       "(<deepxde.model.LossHistory at 0x2420a5b8d90>,\n",
       " <deepxde.model.TrainState at 0x2420a5b8ed0>)"
      ]
     },
     "execution_count": 15,
     "metadata": {},
     "output_type": "execute_result"
    }
   ],
   "source": [
    "model_50.compile(\"adam\", lr=0.001)\n",
    "model_50.train(iterations=10000)\n",
    "model_50.compile(\"L-BFGS-B\")\n",
    "model_50.train(iterations=15000)"
   ]
  },
  {
   "cell_type": "code",
   "execution_count": 16,
   "id": "b7f6c0f0-55e3-4f97-b047-76d61d3e5bef",
   "metadata": {
    "scrolled": true
   },
   "outputs": [
    {
     "name": "stdout",
     "output_type": "stream",
     "text": [
      "Compiling model...\n",
      "Building feed-forward neural network...\n",
      "'build' took 0.247972 s\n",
      "\n",
      "'compile' took 3.112282 s\n",
      "\n",
      "Training model...\n",
      "\n",
      "Step      Train loss    Test loss     Test metric\n",
      "0         [1.67e+01]    [1.67e+01]    []  \n",
      "1000      [7.56e-02]    [7.56e-02]    []  \n",
      "2000      [1.41e-02]    [1.41e-02]    []  \n",
      "3000      [8.88e-01]    [8.88e-01]    []  \n",
      "4000      [3.03e-01]    [3.03e-01]    []  \n",
      "5000      [1.33e-01]    [1.33e-01]    []  \n",
      "6000      [9.75e-02]    [9.75e-02]    []  \n",
      "7000      [8.32e-02]    [8.32e-02]    []  \n",
      "8000      [7.19e-02]    [7.19e-02]    []  \n",
      "9000      [5.41e-02]    [5.41e-02]    []  \n",
      "10000     [3.19e-02]    [3.19e-02]    []  \n",
      "\n",
      "Best model at step 2000:\n",
      "  train loss: 1.41e-02\n",
      "  test loss: 1.41e-02\n",
      "  test metric: []\n",
      "\n",
      "'train' took 238.057536 s\n",
      "\n",
      "Compiling model...\n",
      "'compile' took 1.185334 s\n",
      "\n",
      "Training model...\n",
      "\n",
      "Step      Train loss    Test loss     Test metric\n",
      "10000     [3.19e-02]    [3.19e-02]    []  \n",
      "11000     [8.41e-05]    [8.41e-05]        \n",
      "12000     [3.47e-05]    [3.47e-05]        \n",
      "13000     [1.86e-05]    [1.86e-05]        \n",
      "14000     [9.21e-06]    [9.21e-06]        \n",
      "15000     [5.12e-06]    [5.12e-06]        \n",
      "16000     [3.32e-06]    [3.32e-06]        \n",
      "17000     [2.31e-06]    [2.31e-06]        \n",
      "18000     [1.78e-06]    [1.78e-06]        \n",
      "19000     [1.44e-06]    [1.44e-06]        \n",
      "20000     [1.22e-06]    [1.22e-06]        \n",
      "21000     [1.06e-06]    [1.06e-06]        \n",
      "22000     [9.23e-07]    [9.23e-07]        \n",
      "23000     [7.86e-07]    [7.86e-07]        \n",
      "24000     [6.62e-07]    [6.62e-07]        \n",
      "25000     [5.66e-07]    [5.66e-07]        \n",
      "INFO:tensorflow:Optimization terminated with:\n",
      "  Message: STOP: TOTAL NO. of f AND g EVALUATIONS EXCEEDS LIMIT\n",
      "  Objective function value: 0.000001\n",
      "  Number of iterations: 14007\n",
      "  Number of functions evaluations: 15001\n",
      "25001     [5.66e-07]    [5.66e-07]    []  \n",
      "\n",
      "Best model at step 25001:\n",
      "  train loss: 5.66e-07\n",
      "  test loss: 5.66e-07\n",
      "  test metric: []\n",
      "\n",
      "'train' took 920.661534 s\n",
      "\n"
     ]
    },
    {
     "data": {
      "text/plain": [
       "(<deepxde.model.LossHistory at 0x2420a5b8990>,\n",
       " <deepxde.model.TrainState at 0x2420a5b8d50>)"
      ]
     },
     "execution_count": 16,
     "metadata": {},
     "output_type": "execute_result"
    }
   ],
   "source": [
    "model_60.compile(\"adam\", lr=0.001)\n",
    "model_60.train(iterations=10000)\n",
    "model_60.compile(\"L-BFGS-B\")\n",
    "model_60.train(iterations=15000)"
   ]
  },
  {
   "cell_type": "code",
   "execution_count": 17,
   "id": "deca661b-52c0-4ce2-a1ca-a8870ec677f6",
   "metadata": {
    "scrolled": true
   },
   "outputs": [
    {
     "name": "stdout",
     "output_type": "stream",
     "text": [
      "Compiling model...\n",
      "Building feed-forward neural network...\n",
      "'build' took 0.218205 s\n",
      "\n",
      "'compile' took 2.663529 s\n",
      "\n",
      "Training model...\n",
      "\n",
      "Step      Train loss    Test loss     Test metric\n",
      "0         [1.53e+01]    [1.53e+01]    []  \n",
      "1000      [6.61e-02]    [6.61e-02]    []  \n",
      "2000      [1.97e-03]    [1.97e-03]    []  \n",
      "3000      [3.42e-04]    [3.42e-04]    []  \n",
      "4000      [5.45e-01]    [5.45e-01]    []  \n",
      "5000      [1.50e-01]    [1.50e-01]    []  \n",
      "6000      [9.66e-02]    [9.66e-02]    []  \n",
      "7000      [7.81e-02]    [7.81e-02]    []  \n",
      "8000      [6.46e-02]    [6.46e-02]    []  \n",
      "9000      [4.48e-02]    [4.48e-02]    []  \n",
      "10000     [1.57e-02]    [1.57e-02]    []  \n",
      "\n",
      "Best model at step 3000:\n",
      "  train loss: 3.42e-04\n",
      "  test loss: 3.42e-04\n",
      "  test metric: []\n",
      "\n",
      "'train' took 223.874993 s\n",
      "\n",
      "Compiling model...\n",
      "'compile' took 1.683469 s\n",
      "\n",
      "Training model...\n",
      "\n",
      "Step      Train loss    Test loss     Test metric\n",
      "10000     [1.57e-02]    [1.57e-02]    []  \n",
      "11000     [5.56e-06]    [5.56e-06]        \n",
      "12000     [1.49e-06]    [1.49e-06]        \n",
      "13000     [5.54e-07]    [5.54e-07]        \n",
      "14000     [3.26e-07]    [3.26e-07]        \n",
      "15000     [2.20e-07]    [2.20e-07]        \n",
      "16000     [1.78e-07]    [1.78e-07]        \n",
      "17000     [1.40e-07]    [1.40e-07]        \n",
      "18000     [1.07e-07]    [1.07e-07]        \n",
      "19000     [8.59e-08]    [8.59e-08]        \n",
      "20000     [6.86e-08]    [6.86e-08]        \n",
      "21000     [5.91e-08]    [5.91e-08]        \n",
      "22000     [5.07e-08]    [5.07e-08]        \n",
      "23000     [4.28e-08]    [4.28e-08]        \n",
      "24000     [3.73e-08]    [3.73e-08]        \n",
      "25000     [3.32e-08]    [3.32e-08]        \n",
      "INFO:tensorflow:Optimization terminated with:\n",
      "  Message: STOP: TOTAL NO. of f AND g EVALUATIONS EXCEEDS LIMIT\n",
      "  Objective function value: 0.000000\n",
      "  Number of iterations: 13570\n",
      "  Number of functions evaluations: 15001\n",
      "25001     [3.32e-08]    [3.32e-08]    []  \n",
      "\n",
      "Best model at step 25001:\n",
      "  train loss: 3.32e-08\n",
      "  test loss: 3.32e-08\n",
      "  test metric: []\n",
      "\n",
      "'train' took 1180.017994 s\n",
      "\n"
     ]
    },
    {
     "data": {
      "text/plain": [
       "(<deepxde.model.LossHistory at 0x2420a5b9050>,\n",
       " <deepxde.model.TrainState at 0x2420a5b89d0>)"
      ]
     },
     "execution_count": 17,
     "metadata": {},
     "output_type": "execute_result"
    }
   ],
   "source": [
    "model_70.compile(\"adam\", lr=0.001)\n",
    "model_70.train(iterations=10000)\n",
    "model_70.compile(\"L-BFGS-B\")\n",
    "model_70.train(iterations=15000)"
   ]
  },
  {
   "cell_type": "code",
   "execution_count": 18,
   "id": "dc5d8154-438d-428a-a881-8a847b74ecc7",
   "metadata": {
    "scrolled": true
   },
   "outputs": [
    {
     "name": "stdout",
     "output_type": "stream",
     "text": [
      "Compiling model...\n",
      "Building feed-forward neural network...\n",
      "'build' took 0.201054 s\n",
      "\n",
      "'compile' took 2.716558 s\n",
      "\n",
      "Training model...\n",
      "\n",
      "Step      Train loss    Test loss     Test metric\n",
      "0         [1.65e+01]    [1.65e+01]    []  \n",
      "1000      [6.23e-02]    [6.23e-02]    []  \n",
      "2000      [5.62e-02]    [5.62e-02]    []  \n",
      "3000      [7.84e-04]    [7.84e-04]    []  \n",
      "4000      [2.57e-04]    [2.57e-04]    []  \n",
      "5000      [6.31e-03]    [6.31e-03]    []  \n",
      "6000      [1.73e-04]    [1.73e-04]    []  \n",
      "7000      [1.73e-04]    [1.73e-04]    []  \n",
      "8000      [2.47e-02]    [2.47e-02]    []  \n",
      "9000      [6.22e-04]    [6.22e-04]    []  \n",
      "10000     [2.41e-04]    [2.41e-04]    []  \n",
      "\n",
      "Best model at step 7000:\n",
      "  train loss: 1.73e-04\n",
      "  test loss: 1.73e-04\n",
      "  test metric: []\n",
      "\n",
      "'train' took 253.782592 s\n",
      "\n",
      "Compiling model...\n",
      "'compile' took 1.728978 s\n",
      "\n",
      "Training model...\n",
      "\n",
      "Step      Train loss    Test loss     Test metric\n",
      "10000     [2.41e-04]    [2.41e-04]    []  \n",
      "11000     [2.96e-06]    [2.96e-06]        \n",
      "12000     [8.85e-07]    [8.85e-07]        \n",
      "13000     [3.80e-07]    [3.80e-07]        \n",
      "14000     [2.19e-07]    [2.19e-07]        \n",
      "15000     [1.50e-07]    [1.50e-07]        \n",
      "16000     [1.05e-07]    [1.05e-07]        \n",
      "17000     [8.19e-08]    [8.19e-08]        \n",
      "18000     [6.41e-08]    [6.41e-08]        \n",
      "19000     [5.15e-08]    [5.15e-08]        \n",
      "20000     [4.21e-08]    [4.21e-08]        \n",
      "21000     [3.60e-08]    [3.60e-08]        \n",
      "22000     [3.22e-08]    [3.22e-08]        \n",
      "23000     [2.63e-08]    [2.63e-08]        \n",
      "24000     [2.25e-08]    [2.25e-08]        \n",
      "25000     [2.01e-08]    [2.01e-08]        \n",
      "INFO:tensorflow:Optimization terminated with:\n",
      "  Message: STOP: TOTAL NO. of f AND g EVALUATIONS EXCEEDS LIMIT\n",
      "  Objective function value: 0.000000\n",
      "  Number of iterations: 13924\n",
      "  Number of functions evaluations: 15002\n",
      "25002     [2.01e-08]    [2.01e-08]    []  \n",
      "\n",
      "Best model at step 25002:\n",
      "  train loss: 2.01e-08\n",
      "  test loss: 2.01e-08\n",
      "  test metric: []\n",
      "\n",
      "'train' took 1496.571784 s\n",
      "\n"
     ]
    },
    {
     "data": {
      "text/plain": [
       "(<deepxde.model.LossHistory at 0x2420a5b9110>,\n",
       " <deepxde.model.TrainState at 0x2420a5b8950>)"
      ]
     },
     "execution_count": 18,
     "metadata": {},
     "output_type": "execute_result"
    }
   ],
   "source": [
    "model_80.compile(\"adam\", lr=0.001)\n",
    "model_80.train(iterations=10000)\n",
    "model_80.compile(\"L-BFGS-B\")\n",
    "model_80.train(iterations=15000)"
   ]
  },
  {
   "cell_type": "markdown",
   "id": "c546e62a-c028-412a-be1d-55d8849d5c8b",
   "metadata": {},
   "source": [
    "## Error"
   ]
  },
  {
   "cell_type": "code",
   "execution_count": 19,
   "id": "bf78338c-7def-41bc-bca5-6c5a529111a3",
   "metadata": {},
   "outputs": [],
   "source": [
    "def u(x, y): \n",
    "    sum = 0\n",
    "    for k in range(1,200):\n",
    "        sum = sum + -(4 * (-1 + (-1)**k) * (1/np.sinh(np.pi*k)) * np.sin(np.pi*y*k) * np.sinh(np.pi*(1-x)*k))/(np.pi**3 * k**3) -(4 * (-1 + (-1)**k) * (1/np.sinh(np.pi*k)) * np.sin(np.pi*y*k) * np.sinh(np.pi*x*k))/(np.pi**3 * k**3) -(4 * (-1 + (-1)**k) * (1/np.sinh(np.pi*k)) * np.sin(np.pi*x*k) * np.sinh(np.pi*(1-y)*k))/(np.pi**3 * k**3) -(4 * (-1 + (-1)**k) * (1/np.sinh(np.pi*k)) * np.sin(np.pi*x*k) * np.sinh(np.pi*y*k))/(np.pi**3 * k**3)\n",
    "    return sum"
   ]
  },
  {
   "cell_type": "code",
   "execution_count": 20,
   "id": "98a19371-68b9-470a-b302-98e22fe2c8ca",
   "metadata": {},
   "outputs": [],
   "source": [
    "u_exact500 = u(data_500.train_x_all.T[0],\n",
    "                 data_500.train_x_all.T[1])"
   ]
  },
  {
   "cell_type": "code",
   "execution_count": 21,
   "id": "0d4662c5-e811-42ab-9efa-0e317b77360c",
   "metadata": {},
   "outputs": [],
   "source": [
    "u_10 = model_10.predict(data_500.train_x_all)\n",
    "u_20 = model_20.predict(data_500.train_x_all)\n",
    "u_30 = model_30.predict(data_500.train_x_all)\n",
    "u_40 = model_40.predict(data_500.train_x_all)\n",
    "u_50 = model_50.predict(data_500.train_x_all)\n",
    "u_60 = model_60.predict(data_500.train_x_all)\n",
    "u_70 = model_70.predict(data_500.train_x_all)\n",
    "u_80 = model_80.predict(data_500.train_x_all)"
   ]
  },
  {
   "cell_type": "code",
   "execution_count": 22,
   "id": "3e9c1d9b-ea18-4772-a035-bfd9890408cd",
   "metadata": {},
   "outputs": [
    {
     "data": {
      "text/plain": [
       "[<matplotlib.lines.Line2D at 0x24244d2a110>]"
      ]
     },
     "execution_count": 22,
     "metadata": {},
     "output_type": "execute_result"
    },
    {
     "data": {
      "image/png": "[encoded data removed]",
      "text/plain": [
       "<Figure size 640x480 with 1 Axes>"
      ]
     },
     "metadata": {},
     "output_type": "display_data"
    }
   ],
   "source": [
    "l2_10 = dde.metrics.l2_relative_error(u_exact500, u_10.T)\n",
    "l2_20 = dde.metrics.l2_relative_error(u_exact500, u_20.T)\n",
    "l2_30 = dde.metrics.l2_relative_error(u_exact500, u_30.T)\n",
    "l2_40 = dde.metrics.l2_relative_error(u_exact500, u_40.T)\n",
    "l2_50 = dde.metrics.l2_relative_error(u_exact500, u_50.T)\n",
    "l2_60 = dde.metrics.l2_relative_error(u_exact500, u_60.T)\n",
    "l2_70 = dde.metrics.l2_relative_error(u_exact500, u_70.T)\n",
    "l2_80 = dde.metrics.l2_relative_error(u_exact500, u_80.T)\n",
    "\n",
    "plt.scatter([20,30,40,50,60,70],[l2_20,l2_30,l2_40,l2_50,l2_60,l2_70])\n",
    "plt.plot([20,30,40,50,60,70],[l2_20,l2_30,l2_40,l2_50,l2_60,l2_70])"
   ]
  },
  {
   "cell_type": "code",
   "execution_count": null,
   "id": "afe729c3-2319-4a2b-a22e-fceacf6e0dd9",
   "metadata": {},
   "outputs": [],
   "source": []
  }
 ],
 "metadata": {
  "kernelspec": {
   "display_name": "Python 3 (ipykernel)",
   "language": "python",
   "name": "python3"
  },
  "language_info": {
   "codemirror_mode": {
    "name": "ipython",
    "version": 3
   },
   "file_extension": ".py",
   "mimetype": "text/x-python",
   "name": "python",
   "nbconvert_exporter": "python",
   "pygments_lexer": "ipython3",
   "version": "3.11.5"
  }
 },
 "nbformat": 4,
 "nbformat_minor": 5
}
