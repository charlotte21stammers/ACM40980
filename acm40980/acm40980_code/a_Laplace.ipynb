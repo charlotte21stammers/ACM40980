{
 "cells": [
  {
   "cell_type": "markdown",
   "id": "707b1e40-c809-4b7f-a1aa-5c6053a48fe3",
   "metadata": {},
   "source": [
    "# Set-Up"
   ]
  },
  {
   "cell_type": "code",
   "execution_count": 1,
   "id": "1e319a0b-946b-49ab-b10e-2263b9680a96",
   "metadata": {},
   "outputs": [
    {
     "name": "stderr",
     "output_type": "stream",
     "text": [
      "Using backend: tensorflow.compat.v1\n",
      "Other supported backends: tensorflow, pytorch, jax, paddle.\n",
      "paddle supports more examples now and is recommended.\n"
     ]
    },
    {
     "name": "stdout",
     "output_type": "stream",
     "text": [
      "WARNING:tensorflow:From C:\\anaconda\\envs\\new\\lib\\site-packages\\deepxde\\backend\\tensorflow_compat_v1\\tensor.py:25: The name tf.disable_v2_behavior is deprecated. Please use tf.compat.v1.disable_v2_behavior instead.\n",
      "\n",
      "WARNING:tensorflow:From C:\\anaconda\\envs\\new\\lib\\site-packages\\tensorflow\\python\\compat\\v2_compat.py:98: disable_resource_variables (from tensorflow.python.ops.resource_variables_toggle) is deprecated and will be removed in a future version.\n",
      "Instructions for updating:\n",
      "non-resource variables are not supported in the long term\n"
     ]
    }
   ],
   "source": [
    "import deepxde as dde\n",
    "import numpy as np\n",
    "\n",
    "import tensorflow.compat.v1 as tf\n",
    "import matplotlib.pyplot as plt\n",
    "\n",
    "import pandas as pd"
   ]
  },
  {
   "cell_type": "code",
   "execution_count": 2,
   "id": "837daf87-0cc2-426b-aa24-9e0be5847169",
   "metadata": {},
   "outputs": [],
   "source": [
    "import os;os.environ[\"TF_USE_LEGACY_KERAS\"]=\"1\""
   ]
  },
  {
   "cell_type": "code",
   "execution_count": 3,
   "id": "b9c78107-ea25-4802-be0d-afe03d18029b",
   "metadata": {},
   "outputs": [
    {
     "name": "stdout",
     "output_type": "stream",
     "text": [
      "Set the default float type to float64\n"
     ]
    }
   ],
   "source": [
    "dde.config.set_random_seed(1234)\n",
    "dde.config.set_default_float(\"float64\")"
   ]
  },
  {
   "cell_type": "markdown",
   "id": "df9d0884-efa7-475f-aafa-bbd4efeb0803",
   "metadata": {},
   "source": [
    "# PDE"
   ]
  },
  {
   "cell_type": "code",
   "execution_count": 4,
   "id": "a43f50e6-dcae-497a-b570-de650973e509",
   "metadata": {},
   "outputs": [],
   "source": [
    "#computational domain\n",
    "geom = dde.geometry.Rectangle([0, 0], [1, 1])"
   ]
  },
  {
   "cell_type": "code",
   "execution_count": 5,
   "id": "ad510f18-1e8c-413f-b2e3-47cc756e333d",
   "metadata": {},
   "outputs": [],
   "source": [
    "#pde\n",
    "def pde(x, u):\n",
    "    u_xx = dde.grad.hessian(u, x, i=0, j=0)\n",
    "    u_yy = dde.grad.hessian(u, x, i=1, j=1)\n",
    "    return u_xx + u_yy"
   ]
  },
  {
   "cell_type": "markdown",
   "id": "0e021d8c-d16e-4e57-ab27-26b8277b6449",
   "metadata": {},
   "source": [
    "# Soft Constraints"
   ]
  },
  {
   "cell_type": "code",
   "execution_count": 6,
   "id": "f006a122-566e-419d-9ecc-6ccf162625d4",
   "metadata": {},
   "outputs": [],
   "source": [
    "#bcs problem 1\n",
    "bc_top_1 = dde.icbc.DirichletBC(geom, \n",
    "                              lambda x: np.sin(np.pi * x[:, 0:1]), \n",
    "                              lambda x, on_boundary: on_boundary and dde.utils.isclose(x[1], 1.0),)\n",
    "\n",
    "bc_bottom_1 = dde.icbc.DirichletBC(geom,\n",
    "                                 lambda x: 0, \n",
    "                                 lambda x, on_boundary: on_boundary and dde.utils.isclose(x[1], 0.0),)\n",
    "\n",
    "bc_left_1 = dde.icbc.DirichletBC(geom,\n",
    "                               lambda x: 0, \n",
    "                               lambda x, on_boundary: on_boundary and dde.utils.isclose(x[0], 0.0),)\n",
    "\n",
    "bc_right_1 = dde.icbc.DirichletBC(geom,\n",
    "                                lambda x: 0, \n",
    "                                lambda x, on_boundary: on_boundary and dde.utils.isclose(x[0], 1.0),)"
   ]
  },
  {
   "cell_type": "code",
   "execution_count": 7,
   "id": "96c021da-5a05-43fa-965b-f3f18b8890f6",
   "metadata": {},
   "outputs": [],
   "source": [
    "#bcs problem 2\n",
    "bc_top_2 = dde.icbc.DirichletBC(geom, \n",
    "                              lambda x: -x[:, 0:1]**2 + x[:, 0:1], \n",
    "                              lambda x, on_boundary: on_boundary and dde.utils.isclose(x[1], 1.0),)\n",
    "\n",
    "bc_bottom_2 = dde.icbc.DirichletBC(geom,\n",
    "                                 lambda x: -x[:, 0:1]**2 + x[:, 0:1], \n",
    "                                 lambda x, on_boundary: on_boundary and dde.utils.isclose(x[1], 0.0),)\n",
    "\n",
    "bc_left_2 = dde.icbc.DirichletBC(geom,\n",
    "                               lambda x: -x[:, 1:2]**2 + x[:, 1:2], \n",
    "                               lambda x, on_boundary: on_boundary and dde.utils.isclose(x[0], 0.0),)\n",
    "\n",
    "bc_right_2 = dde.icbc.DirichletBC(geom,\n",
    "                                lambda x: -x[:, 1:2]**2 + x[:, 1:2], \n",
    "                                lambda x, on_boundary: on_boundary and dde.utils.isclose(x[0], 1.0),)"
   ]
  },
  {
   "cell_type": "code",
   "execution_count": 8,
   "id": "c0747e5c-1188-4367-8aa2-457a07404c97",
   "metadata": {},
   "outputs": [
    {
     "name": "stderr",
     "output_type": "stream",
     "text": [
      "C:\\anaconda\\envs\\new\\lib\\site-packages\\skopt\\sampler\\sobol.py:521: UserWarning: The balance properties of Sobol' points require n to be a power of 2. 0 points have been previously generated, then: n=0+501=501. \n",
      "  warnings.warn(\n",
      "C:\\anaconda\\envs\\new\\lib\\site-packages\\skopt\\sampler\\sobol.py:521: UserWarning: The balance properties of Sobol' points require n to be a power of 2. 0 points have been previously generated, then: n=0+103=103. \n",
      "  warnings.warn(\n",
      "C:\\anaconda\\envs\\new\\lib\\site-packages\\skopt\\sampler\\sobol.py:521: UserWarning: The balance properties of Sobol' points require n to be a power of 2. 0 points have been previously generated, then: n=0+501=501. \n",
      "  warnings.warn(\n",
      "C:\\anaconda\\envs\\new\\lib\\site-packages\\skopt\\sampler\\sobol.py:521: UserWarning: The balance properties of Sobol' points require n to be a power of 2. 0 points have been previously generated, then: n=0+103=103. \n",
      "  warnings.warn(\n"
     ]
    }
   ],
   "source": [
    "#combine geometry, pde and bcs \n",
    "data_1_s = dde.data.PDE(\n",
    "    geom,\n",
    "    pde,\n",
    "    [\n",
    "        bc_top_1,\n",
    "        bc_bottom_1,\n",
    "        bc_left_1,\n",
    "        bc_right_1\n",
    "    ],\n",
    "    num_domain=500,\n",
    "    num_boundary=100,\n",
    "    train_distribution='Sobol'\n",
    "    )\n",
    "\n",
    "data_2_s = dde.data.PDE(\n",
    "    geom,\n",
    "    pde,\n",
    "    [\n",
    "        bc_top_2,\n",
    "        bc_bottom_2,\n",
    "        bc_left_2,\n",
    "        bc_right_2\n",
    "    ],\n",
    "    num_domain=500,\n",
    "    num_boundary=100,\n",
    "    train_distribution='Sobol'\n",
    "    )"
   ]
  },
  {
   "cell_type": "code",
   "execution_count": 9,
   "id": "2a46ab27-1561-43b1-af8d-175d04da0b7e",
   "metadata": {},
   "outputs": [],
   "source": [
    "initializer = tf.keras.initializers.GlorotUniform(1234)"
   ]
  },
  {
   "cell_type": "code",
   "execution_count": 10,
   "id": "15f33acf-76e0-42a1-b402-9fdd3ae3fa42",
   "metadata": {},
   "outputs": [],
   "source": [
    "net_square_1_s = dde.nn.FNN([2] + [20] * 20 + [1], \"tanh\", initializer)\n",
    "net_long_1_s = dde.nn.FNN([2] + [20] * 5 + [1], \"tanh\", initializer)\n",
    "net_oblong_1_s = dde.nn.FNN([2] + [5] * 20 + [1], \"tanh\", initializer)\n",
    "\n",
    "net_square_2_s = dde.nn.FNN([2] + [20] * 20 + [1], \"tanh\", initializer)\n",
    "net_long_2_s = dde.nn.FNN([2] + [20] * 5 + [1], \"tanh\", initializer)\n",
    "net_oblong_2_s = dde.nn.FNN([2] + [5] * 20 + [1], \"tanh\", initializer)"
   ]
  },
  {
   "cell_type": "code",
   "execution_count": 11,
   "id": "4b6670e4-0539-4ef3-a951-7a17f4f9b42e",
   "metadata": {},
   "outputs": [],
   "source": [
    "model_square_1_s = dde.Model(data_1_s, net_square_1_s)\n",
    "model_long_1_s = dde.Model(data_1_s, net_long_1_s)\n",
    "model_oblong_1_s = dde.Model(data_1_s, net_oblong_1_s)\n",
    "\n",
    "model_square_2_s = dde.Model(data_2_s, net_square_2_s)\n",
    "model_long_2_s = dde.Model(data_2_s, net_long_2_s)\n",
    "model_oblong_2_s = dde.Model(data_2_s, net_oblong_2_s)"
   ]
  },
  {
   "cell_type": "markdown",
   "id": "592c2ca5-f4ee-40a4-a261-028e8331865e",
   "metadata": {},
   "source": [
    "### Soft Constraints - Square"
   ]
  },
  {
   "cell_type": "code",
   "execution_count": 12,
   "id": "f65a219e-9242-4729-82f6-1bbb6ae638df",
   "metadata": {
    "scrolled": true
   },
   "outputs": [
    {
     "name": "stdout",
     "output_type": "stream",
     "text": [
      "Compiling model...\n",
      "Building feed-forward neural network...\n",
      "WARNING:tensorflow:From C:\\anaconda\\envs\\new\\lib\\site-packages\\tf_keras\\src\\losses.py:2976: The name tf.losses.sparse_softmax_cross_entropy is deprecated. Please use tf.compat.v1.losses.sparse_softmax_cross_entropy instead.\n",
      "\n",
      "WARNING:tensorflow:From C:\\anaconda\\envs\\new\\lib\\site-packages\\tf_keras\\src\\utils\\version_utils.py:78: The name tf.executing_eagerly_outside_functions is deprecated. Please use tf.compat.v1.executing_eagerly_outside_functions instead.\n",
      "\n"
     ]
    },
    {
     "name": "stderr",
     "output_type": "stream",
     "text": [
      "C:\\anaconda\\envs\\new\\lib\\site-packages\\deepxde\\nn\\tensorflow_compat_v1\\fnn.py:116: UserWarning: `tf.layers.dense` is deprecated and will be removed in a future version. Please use `tf.keras.layers.Dense` instead.\n",
      "  return tf.layers.dense(\n"
     ]
    },
    {
     "name": "stdout",
     "output_type": "stream",
     "text": [
      "'build' took 4.351571 s\n",
      "\n",
      "WARNING:tensorflow:From C:\\anaconda\\envs\\new\\lib\\site-packages\\deepxde\\model.py:168: The name tf.train.Saver is deprecated. Please use tf.compat.v1.train.Saver instead.\n",
      "\n",
      "'compile' took 6.494388 s\n",
      "\n",
      "Training model...\n",
      "\n",
      "Step      Train loss                                            Test loss                                             Test metric\n",
      "0         [1.79e-02, 4.15e-01, 4.74e-05, 3.32e-03, 1.83e-03]    [1.79e-02, 4.15e-01, 4.74e-05, 3.32e-03, 1.83e-03]    []  \n",
      "1000      [3.04e-02, 3.56e-03, 2.25e-03, 3.73e-04, 2.06e-03]    [3.04e-02, 3.56e-03, 2.25e-03, 3.73e-04, 2.06e-03]    []  \n",
      "2000      [3.03e-03, 2.46e-03, 4.44e-04, 5.81e-04, 1.44e-03]    [3.03e-03, 2.46e-03, 4.44e-04, 5.81e-04, 1.44e-03]    []  \n",
      "3000      [6.23e-03, 6.06e-04, 3.39e-04, 2.33e-04, 5.73e-04]    [6.23e-03, 6.06e-04, 3.39e-04, 2.33e-04, 5.73e-04]    []  \n",
      "4000      [9.64e-03, 2.08e-03, 6.48e-04, 3.22e-05, 2.10e-04]    [9.64e-03, 2.08e-03, 6.48e-04, 3.22e-05, 2.10e-04]    []  \n",
      "5000      [4.54e-03, 1.67e-04, 1.59e-04, 4.07e-04, 4.30e-04]    [4.54e-03, 1.67e-04, 1.59e-04, 4.07e-04, 4.30e-04]    []  \n",
      "6000      [8.72e-04, 6.83e-05, 1.53e-04, 1.97e-04, 3.62e-04]    [8.72e-04, 6.83e-05, 1.53e-04, 1.97e-04, 3.62e-04]    []  \n",
      "7000      [6.39e-03, 4.27e-03, 2.15e-04, 3.04e-04, 5.68e-04]    [6.39e-03, 4.27e-03, 2.15e-04, 3.04e-04, 5.68e-04]    []  \n",
      "8000      [1.80e-03, 1.23e-04, 1.55e-04, 4.51e-05, 1.92e-04]    [1.80e-03, 1.23e-04, 1.55e-04, 4.51e-05, 1.92e-04]    []  \n",
      "9000      [2.79e-03, 6.91e-05, 1.45e-04, 3.91e-05, 1.36e-04]    [2.79e-03, 6.91e-05, 1.45e-04, 3.91e-05, 1.36e-04]    []  \n",
      "10000     [2.34e-03, 1.65e-04, 1.45e-04, 3.65e-05, 1.60e-04]    [2.34e-03, 1.65e-04, 1.45e-04, 3.65e-05, 1.60e-04]    []  \n",
      "\n",
      "Best model at step 6000:\n",
      "  train loss: 1.65e-03\n",
      "  test loss: 1.65e-03\n",
      "  test metric: []\n",
      "\n",
      "'train' took 319.058343 s\n",
      "\n",
      "Compiling model...\n",
      "'compile' took 1.131030 s\n",
      "\n",
      "Training model...\n",
      "\n",
      "Step      Train loss                                            Test loss                                             Test metric\n",
      "10000     [2.34e-03, 1.65e-04, 1.45e-04, 3.65e-05, 1.60e-04]    [2.34e-03, 1.65e-04, 1.45e-04, 3.65e-05, 1.60e-04]    []  \n",
      "11000     [1.68e-06, 6.29e-07, 7.01e-06, 2.80e-06, 2.51e-06]    [1.68e-06, 6.29e-07, 7.01e-06, 2.80e-06, 2.51e-06]        \n",
      "12000     [1.79e-06, 1.10e-06, 3.23e-06, 2.27e-06, 1.48e-06]    [1.79e-06, 1.10e-06, 3.23e-06, 2.27e-06, 1.48e-06]        \n",
      "13000     [1.03e-06, 7.45e-07, 2.61e-06, 1.51e-06, 1.45e-06]    [1.03e-06, 7.45e-07, 2.61e-06, 1.51e-06, 1.45e-06]        \n",
      "14000     [9.54e-07, 5.81e-07, 2.08e-06, 1.00e-06, 1.45e-06]    [9.54e-07, 5.81e-07, 2.08e-06, 1.00e-06, 1.45e-06]        \n",
      "15000     [1.42e-06, 4.50e-07, 1.79e-06, 6.78e-07, 1.31e-06]    [1.42e-06, 4.50e-07, 1.79e-06, 6.78e-07, 1.31e-06]        \n",
      "16000     [7.08e-07, 3.49e-07, 1.82e-06, 8.61e-07, 1.01e-06]    [7.08e-07, 3.49e-07, 1.82e-06, 8.61e-07, 1.01e-06]        \n",
      "17000     [9.96e-07, 2.75e-07, 1.32e-06, 4.56e-07, 7.95e-07]    [9.96e-07, 2.75e-07, 1.32e-06, 4.56e-07, 7.95e-07]        \n",
      "18000     [1.69e-06, 3.17e-07, 5.58e-07, 4.50e-07, 2.67e-07]    [1.69e-06, 3.17e-07, 5.58e-07, 4.50e-07, 2.67e-07]        \n",
      "19000     [1.33e-06, 3.50e-07, 5.11e-07, 2.97e-07, 3.08e-07]    [1.33e-06, 3.50e-07, 5.11e-07, 2.97e-07, 3.08e-07]        \n",
      "20000     [1.31e-06, 3.57e-07, 3.76e-07, 2.75e-07, 2.25e-07]    [1.31e-06, 3.57e-07, 3.76e-07, 2.75e-07, 2.25e-07]        \n",
      "21000     [1.38e-06, 2.92e-07, 3.46e-07, 2.56e-07, 1.81e-07]    [1.38e-06, 2.92e-07, 3.46e-07, 2.56e-07, 1.81e-07]        \n",
      "22000     [9.91e-07, 1.63e-07, 4.55e-07, 3.12e-07, 1.06e-07]    [9.91e-07, 1.63e-07, 4.55e-07, 3.12e-07, 1.06e-07]        \n",
      "23000     [8.12e-07, 1.83e-07, 3.75e-07, 3.61e-07, 1.21e-07]    [8.12e-07, 1.83e-07, 3.75e-07, 3.61e-07, 1.21e-07]        \n",
      "24000     [7.50e-07, 2.15e-07, 3.78e-07, 3.37e-07, 1.10e-07]    [7.50e-07, 2.15e-07, 3.78e-07, 3.37e-07, 1.10e-07]        \n",
      "25000     [6.59e-07, 1.69e-07, 4.27e-07, 3.82e-07, 9.35e-08]    [6.59e-07, 1.69e-07, 4.27e-07, 3.82e-07, 9.35e-08]        \n",
      "WARNING:tensorflow:From C:\\anaconda\\envs\\new\\lib\\site-packages\\deepxde\\optimizers\\tensorflow_compat_v1\\scipy_optimizer.py:398: The name tf.logging.info is deprecated. Please use tf.compat.v1.logging.info instead.\n",
      "\n",
      "INFO:tensorflow:Optimization terminated with:\n",
      "  Message: STOP: TOTAL NO. of f AND g EVALUATIONS EXCEEDS LIMIT\n",
      "  Objective function value: 0.000002\n",
      "  Number of iterations: 13176\n",
      "  Number of functions evaluations: 15001\n",
      "25001     [6.60e-07, 1.70e-07, 4.29e-07, 3.78e-07, 9.35e-08]    [6.60e-07, 1.70e-07, 4.29e-07, 3.78e-07, 9.35e-08]    []  \n",
      "\n",
      "Best model at step 25001:\n",
      "  train loss: 1.73e-06\n",
      "  test loss: 1.73e-06\n",
      "  test metric: []\n",
      "\n",
      "'train' took 569.134851 s\n",
      "\n"
     ]
    }
   ],
   "source": [
    "dde.optimizers.config.set_LBFGS_options(ftol=0, gtol=0, maxiter=15000, maxfun=15000)\n",
    "\n",
    "model_square_1_s.compile(\"adam\", lr=0.001)\n",
    "model_square_1_s.train(iterations=10000, display_every=1000)\n",
    "model_square_1_s.compile(\"L-BFGS-B\")\n",
    "loss_history_square_1_s, train_state_square_1_s = model_square_1_s.train(iterations=15000, display_every=1000)"
   ]
  },
  {
   "cell_type": "code",
   "execution_count": 13,
   "id": "e89ca062-3e7a-46db-8ae0-00ed5dfd34ca",
   "metadata": {},
   "outputs": [
    {
     "name": "stdout",
     "output_type": "stream",
     "text": [
      "Saving loss history to laplace1_soft_square_loss ...\n"
     ]
    }
   ],
   "source": [
    "dde.utils.external.save_loss_history(loss_history_square_1_s, 'laplace1_soft_square_loss')"
   ]
  },
  {
   "cell_type": "code",
   "execution_count": 14,
   "id": "5c500c8d-c015-4af5-9943-f5165d34d21a",
   "metadata": {
    "scrolled": true
   },
   "outputs": [
    {
     "name": "stdout",
     "output_type": "stream",
     "text": [
      "Compiling model...\n",
      "Building feed-forward neural network...\n",
      "'build' took 0.334802 s\n",
      "\n",
      "'compile' took 2.462593 s\n",
      "\n",
      "Training model...\n",
      "\n",
      "Step      Train loss                                            Test loss                                             Test metric\n",
      "0         [1.79e-02, 1.47e-02, 3.63e-02, 1.86e-02, 2.24e-02]    [1.79e-02, 1.47e-02, 3.63e-02, 1.86e-02, 2.24e-02]    []  \n",
      "1000      [6.15e-06, 5.49e-03, 4.54e-03, 4.48e-03, 5.49e-03]    [6.15e-06, 5.49e-03, 4.54e-03, 4.48e-03, 5.49e-03]    []  \n",
      "2000      [5.95e-05, 5.33e-03, 4.47e-03, 4.43e-03, 5.32e-03]    [5.95e-05, 5.33e-03, 4.47e-03, 4.43e-03, 5.32e-03]    []  \n",
      "3000      [3.19e-05, 5.32e-03, 4.48e-03, 4.46e-03, 5.39e-03]    [3.19e-05, 5.32e-03, 4.48e-03, 4.46e-03, 5.39e-03]    []  \n",
      "4000      [6.73e-05, 5.31e-03, 4.47e-03, 4.44e-03, 5.32e-03]    [6.73e-05, 5.31e-03, 4.47e-03, 4.44e-03, 5.32e-03]    []  \n",
      "5000      [8.82e-05, 5.28e-03, 4.52e-03, 4.44e-03, 5.25e-03]    [8.82e-05, 5.28e-03, 4.52e-03, 4.44e-03, 5.25e-03]    []  \n",
      "6000      [1.02e-07, 5.63e-03, 4.64e-03, 4.52e-03, 5.63e-03]    [1.02e-07, 5.63e-03, 4.64e-03, 4.52e-03, 5.63e-03]    []  \n",
      "7000      [3.06e-05, 5.38e-03, 4.49e-03, 4.46e-03, 5.39e-03]    [3.06e-05, 5.38e-03, 4.49e-03, 4.46e-03, 5.39e-03]    []  \n",
      "8000      [8.57e-06, 5.41e-03, 4.53e-03, 4.47e-03, 5.40e-03]    [8.57e-06, 5.41e-03, 4.53e-03, 4.47e-03, 5.40e-03]    []  \n",
      "9000      [5.47e-06, 5.40e-03, 4.52e-03, 4.46e-03, 5.40e-03]    [5.47e-06, 5.40e-03, 4.52e-03, 4.46e-03, 5.40e-03]    []  \n",
      "10000     [1.13e-06, 5.41e-03, 4.53e-03, 4.47e-03, 5.42e-03]    [1.13e-06, 5.41e-03, 4.53e-03, 4.47e-03, 5.42e-03]    []  \n",
      "\n",
      "Best model at step 5000:\n",
      "  train loss: 1.96e-02\n",
      "  test loss: 1.96e-02\n",
      "  test metric: []\n",
      "\n",
      "'train' took 310.648457 s\n",
      "\n",
      "Compiling model...\n",
      "'compile' took 1.102395 s\n",
      "\n",
      "Training model...\n",
      "\n",
      "Step      Train loss                                            Test loss                                             Test metric\n",
      "10000     [1.13e-06, 5.41e-03, 4.53e-03, 4.47e-03, 5.42e-03]    [1.13e-06, 5.41e-03, 4.53e-03, 4.47e-03, 5.42e-03]    []  \n",
      "11000     [4.08e-03, 1.03e-03, 9.72e-04, 7.29e-04, 1.09e-03]    [4.08e-03, 1.03e-03, 9.72e-04, 7.29e-04, 1.09e-03]        \n",
      "12000     [2.90e-03, 1.62e-04, 2.53e-04, 2.19e-04, 1.76e-04]    [2.90e-03, 1.62e-04, 2.53e-04, 2.19e-04, 1.76e-04]        \n",
      "13000     [2.10e-03, 6.14e-05, 1.45e-04, 8.87e-05, 8.38e-05]    [2.10e-03, 6.14e-05, 1.45e-04, 8.87e-05, 8.38e-05]        \n",
      "14000     [1.11e-03, 8.48e-05, 9.56e-05, 4.45e-05, 7.48e-05]    [1.11e-03, 8.48e-05, 9.56e-05, 4.45e-05, 7.48e-05]        \n",
      "15000     [4.41e-04, 2.47e-05, 1.58e-05, 1.28e-05, 1.76e-05]    [4.41e-04, 2.47e-05, 1.58e-05, 1.28e-05, 1.76e-05]        \n",
      "16000     [2.34e-04, 3.62e-05, 9.98e-06, 1.92e-05, 1.94e-05]    [2.34e-04, 3.62e-05, 9.98e-06, 1.92e-05, 1.94e-05]        \n",
      "17000     [8.41e-05, 3.32e-05, 1.86e-05, 2.52e-05, 2.99e-05]    [8.41e-05, 3.32e-05, 1.86e-05, 2.52e-05, 2.99e-05]        \n",
      "18000     [4.89e-05, 3.70e-05, 2.51e-05, 2.82e-05, 3.84e-05]    [4.89e-05, 3.70e-05, 2.51e-05, 2.82e-05, 3.84e-05]        \n",
      "19000     [3.15e-05, 2.13e-05, 1.55e-05, 1.98e-05, 2.34e-05]    [3.15e-05, 2.13e-05, 1.55e-05, 1.98e-05, 2.34e-05]        \n",
      "20000     [2.32e-05, 2.01e-05, 1.27e-05, 1.91e-05, 1.54e-05]    [2.32e-05, 2.01e-05, 1.27e-05, 1.91e-05, 1.54e-05]        \n",
      "21000     [2.49e-05, 2.09e-05, 1.30e-05, 2.15e-05, 1.31e-05]    [2.49e-05, 2.09e-05, 1.30e-05, 2.15e-05, 1.31e-05]        \n",
      "22000     [1.53e-05, 1.23e-05, 7.72e-06, 1.02e-05, 1.38e-05]    [1.53e-05, 1.23e-05, 7.72e-06, 1.02e-05, 1.38e-05]        \n",
      "23000     [1.36e-05, 1.21e-05, 7.41e-06, 9.94e-06, 1.38e-05]    [1.36e-05, 1.21e-05, 7.41e-06, 9.94e-06, 1.38e-05]        \n",
      "24000     [7.69e-06, 1.23e-05, 7.48e-06, 9.66e-06, 1.44e-05]    [7.69e-06, 1.23e-05, 7.48e-06, 9.66e-06, 1.44e-05]        \n",
      "25000     [3.57e-06, 1.21e-05, 7.21e-06, 9.51e-06, 1.45e-05]    [3.57e-06, 1.21e-05, 7.21e-06, 9.51e-06, 1.45e-05]        \n",
      "INFO:tensorflow:Optimization terminated with:\n",
      "  Message: STOP: TOTAL NO. of f AND g EVALUATIONS EXCEEDS LIMIT\n",
      "  Objective function value: 0.000047\n",
      "  Number of iterations: 12100\n",
      "  Number of functions evaluations: 15001\n",
      "25001     [3.57e-06, 1.21e-05, 7.21e-06, 9.50e-06, 1.45e-05]    [3.57e-06, 1.21e-05, 7.21e-06, 9.50e-06, 1.45e-05]    []  \n",
      "\n",
      "Best model at step 25001:\n",
      "  train loss: 4.69e-05\n",
      "  test loss: 4.69e-05\n",
      "  test metric: []\n",
      "\n",
      "'train' took 824.031250 s\n",
      "\n"
     ]
    }
   ],
   "source": [
    "dde.optimizers.config.set_LBFGS_options(ftol=0, gtol=0, maxiter=15000, maxfun=15000)\n",
    "\n",
    "model_square_2_s.compile(\"adam\", lr=0.001)\n",
    "model_square_2_s.train(iterations=10000, display_every=1000)\n",
    "model_square_2_s.compile(\"L-BFGS-B\")\n",
    "loss_history_square_2_s, train_state_square_2_s = model_square_2_s.train(iterations=15000, display_every=1000)"
   ]
  },
  {
   "cell_type": "code",
   "execution_count": 15,
   "id": "83ca5fa3-98c9-4851-9af3-2c8279a4dbb4",
   "metadata": {},
   "outputs": [
    {
     "name": "stdout",
     "output_type": "stream",
     "text": [
      "Saving loss history to laplace2_soft_square_loss ...\n"
     ]
    }
   ],
   "source": [
    "dde.utils.external.save_loss_history(loss_history_square_2_s, 'laplace2_soft_square_loss')"
   ]
  },
  {
   "cell_type": "markdown",
   "id": "de8dfd35-7fe4-479c-ac49-935b3df1394a",
   "metadata": {},
   "source": [
    "### Soft Constraints - Long"
   ]
  },
  {
   "cell_type": "code",
   "execution_count": 23,
   "id": "6c72accf-6e7e-4231-9b98-2aacbe50a40a",
   "metadata": {
    "scrolled": true
   },
   "outputs": [
    {
     "name": "stdout",
     "output_type": "stream",
     "text": [
      "Compiling model...\n",
      "Building feed-forward neural network...\n",
      "'build' took 0.445195 s\n",
      "\n",
      "'compile' took 2.949138 s\n",
      "\n",
      "Training model...\n",
      "\n",
      "Step      Train loss                                            Test loss                                             Test metric\n",
      "0         [6.85e-02, 8.79e-01, 4.04e-02, 5.94e-03, 1.13e-01]    [6.85e-02, 8.79e-01, 4.04e-02, 5.94e-03, 1.13e-01]    []  \n",
      "1000      [1.56e-02, 3.91e-02, 3.59e-03, 1.29e-02, 1.17e-02]    [1.56e-02, 3.91e-02, 3.59e-03, 1.29e-02, 1.17e-02]    []  \n",
      "2000      [5.44e-03, 2.65e-02, 1.39e-03, 5.86e-03, 1.48e-02]    [5.44e-03, 2.65e-02, 1.39e-03, 5.86e-03, 1.48e-02]    []  \n",
      "3000      [4.04e-03, 1.57e-02, 1.31e-03, 2.60e-03, 9.20e-03]    [4.04e-03, 1.57e-02, 1.31e-03, 2.60e-03, 9.20e-03]    []  \n",
      "4000      [3.76e-03, 1.15e-02, 8.87e-04, 2.18e-03, 6.48e-03]    [3.76e-03, 1.15e-02, 8.87e-04, 2.18e-03, 6.48e-03]    []  \n",
      "5000      [2.59e-03, 8.29e-03, 7.48e-04, 1.94e-03, 4.55e-03]    [2.59e-03, 8.29e-03, 7.48e-04, 1.94e-03, 4.55e-03]    []  \n",
      "6000      [1.82e-03, 7.00e-03, 5.22e-04, 1.54e-03, 2.80e-03]    [1.82e-03, 7.00e-03, 5.22e-04, 1.54e-03, 2.80e-03]    []  \n",
      "7000      [1.25e-03, 3.47e-03, 3.72e-04, 1.08e-03, 1.70e-03]    [1.25e-03, 3.47e-03, 3.72e-04, 1.08e-03, 1.70e-03]    []  \n",
      "8000      [7.77e-04, 2.08e-03, 2.30e-04, 6.48e-04, 1.00e-03]    [7.77e-04, 2.08e-03, 2.30e-04, 6.48e-04, 1.00e-03]    []  \n",
      "9000      [6.86e-04, 1.11e-03, 1.26e-04, 4.53e-04, 5.31e-04]    [6.86e-04, 1.11e-03, 1.26e-04, 4.53e-04, 5.31e-04]    []  \n",
      "10000     [1.76e-03, 1.90e-03, 8.43e-05, 3.37e-04, 5.93e-04]    [1.76e-03, 1.90e-03, 8.43e-05, 3.37e-04, 5.93e-04]    []  \n",
      "\n",
      "Best model at step 9000:\n",
      "  train loss: 2.91e-03\n",
      "  test loss: 2.91e-03\n",
      "  test metric: []\n",
      "\n",
      "'train' took 135.719441 s\n",
      "\n",
      "Compiling model...\n",
      "'compile' took 1.658486 s\n",
      "\n",
      "Training model...\n",
      "\n",
      "Step      Train loss                                            Test loss                                             Test metric\n",
      "10000     [1.76e-03, 1.90e-03, 8.43e-05, 3.37e-04, 5.93e-04]    [1.76e-03, 1.90e-03, 8.43e-05, 3.37e-04, 5.93e-04]    []  \n",
      "11000     [2.05e-05, 4.91e-06, 1.08e-05, 5.88e-06, 5.25e-06]    [2.05e-05, 4.91e-06, 1.08e-05, 5.88e-06, 5.25e-06]        \n",
      "12000     [5.90e-06, 3.07e-06, 5.37e-06, 1.64e-06, 5.36e-06]    [5.90e-06, 3.07e-06, 5.37e-06, 1.64e-06, 5.36e-06]        \n",
      "13000     [4.60e-06, 1.55e-06, 4.53e-06, 1.94e-06, 2.39e-06]    [4.60e-06, 1.55e-06, 4.53e-06, 1.94e-06, 2.39e-06]        \n",
      "14000     [4.25e-06, 8.44e-07, 4.06e-06, 1.31e-06, 1.96e-06]    [4.25e-06, 8.44e-07, 4.06e-06, 1.31e-06, 1.96e-06]        \n",
      "15000     [3.67e-06, 8.05e-07, 3.03e-06, 1.08e-06, 1.81e-06]    [3.67e-06, 8.05e-07, 3.03e-06, 1.08e-06, 1.81e-06]        \n",
      "16000     [3.16e-06, 1.03e-06, 1.80e-06, 3.44e-07, 2.34e-06]    [3.16e-06, 1.03e-06, 1.80e-06, 3.44e-07, 2.34e-06]        \n",
      "17000     [2.40e-06, 8.78e-07, 1.20e-06, 3.67e-07, 1.18e-06]    [2.40e-06, 8.78e-07, 1.20e-06, 3.67e-07, 1.18e-06]        \n",
      "18000     [2.71e-06, 2.30e-07, 8.59e-07, 5.50e-08, 6.98e-07]    [2.71e-06, 2.30e-07, 8.59e-07, 5.50e-08, 6.98e-07]        \n",
      "19000     [1.36e-06, 2.88e-07, 3.74e-07, 1.10e-07, 4.43e-07]    [1.36e-06, 2.88e-07, 3.74e-07, 1.10e-07, 4.43e-07]        \n",
      "20000     [7.59e-07, 1.20e-07, 4.08e-07, 1.61e-07, 2.72e-07]    [7.59e-07, 1.20e-07, 4.08e-07, 1.61e-07, 2.72e-07]        \n",
      "21000     [7.15e-07, 8.09e-08, 3.70e-07, 1.72e-07, 1.97e-07]    [7.15e-07, 8.09e-08, 3.70e-07, 1.72e-07, 1.97e-07]        \n",
      "22000     [5.63e-07, 5.52e-08, 3.61e-07, 1.03e-07, 2.09e-07]    [5.63e-07, 5.52e-08, 3.61e-07, 1.03e-07, 2.09e-07]        \n",
      "23000     [5.33e-07, 5.01e-08, 2.91e-07, 8.50e-08, 1.11e-07]    [5.33e-07, 5.01e-08, 2.91e-07, 8.50e-08, 1.11e-07]        \n",
      "24000     [4.54e-07, 5.99e-08, 1.10e-07, 5.63e-08, 1.25e-07]    [4.54e-07, 5.99e-08, 1.10e-07, 5.63e-08, 1.25e-07]        \n",
      "25000     [3.67e-07, 2.73e-08, 9.55e-08, 4.35e-08, 5.51e-08]    [3.67e-07, 2.73e-08, 9.55e-08, 4.35e-08, 5.51e-08]        \n",
      "INFO:tensorflow:Optimization terminated with:\n",
      "  Message: STOP: TOTAL NO. of f AND g EVALUATIONS EXCEEDS LIMIT\n",
      "  Objective function value: 0.000001\n",
      "  Number of iterations: 12846\n",
      "  Number of functions evaluations: 15001\n",
      "25001     [3.67e-07, 2.73e-08, 9.52e-08, 4.36e-08, 5.52e-08]    [3.67e-07, 2.73e-08, 9.52e-08, 4.36e-08, 5.52e-08]    []  \n",
      "\n",
      "Best model at step 25001:\n",
      "  train loss: 5.88e-07\n",
      "  test loss: 5.88e-07\n",
      "  test metric: []\n",
      "\n",
      "'train' took 893.089772 s\n",
      "\n"
     ]
    }
   ],
   "source": [
    "dde.optimizers.config.set_LBFGS_options(ftol=0, gtol=0, maxiter=15000, maxfun=15000)\n",
    "\n",
    "model_long_1_s.compile(\"adam\", lr=0.001)\n",
    "model_long_1_s.train(iterations=10000, display_every=1000)\n",
    "model_long_1_s.compile(\"L-BFGS-B\")\n",
    "loss_history_long_1_s, train_state_long_1_s = model_long_1_s.train(iterations=15000, display_every=1000)"
   ]
  },
  {
   "cell_type": "code",
   "execution_count": 24,
   "id": "66b39242-744e-435e-95c5-efb886ca1696",
   "metadata": {},
   "outputs": [
    {
     "name": "stdout",
     "output_type": "stream",
     "text": [
      "Saving loss history to laplace1_soft_long_loss ...\n"
     ]
    }
   ],
   "source": [
    "dde.utils.external.save_loss_history(loss_history_long_1_s, 'laplace1_soft_long_loss')"
   ]
  },
  {
   "cell_type": "code",
   "execution_count": 25,
   "id": "895e427d-85b4-4f03-9a60-fb9c6caadbdc",
   "metadata": {
    "scrolled": true
   },
   "outputs": [
    {
     "name": "stdout",
     "output_type": "stream",
     "text": [
      "Compiling model...\n",
      "Building feed-forward neural network...\n",
      "'build' took 0.165448 s\n",
      "\n",
      "'compile' took 1.638849 s\n",
      "\n",
      "Training model...\n",
      "\n",
      "Step      Train loss                                            Test loss                                             Test metric\n",
      "0         [6.85e-02, 1.80e-01, 1.36e-01, 6.48e-02, 2.59e-01]    [6.85e-02, 1.80e-01, 1.36e-01, 6.48e-02, 2.59e-01]    []  \n",
      "1000      [4.60e-05, 5.41e-03, 4.47e-03, 4.43e-03, 5.27e-03]    [4.60e-05, 5.41e-03, 4.47e-03, 4.43e-03, 5.27e-03]    []  \n",
      "2000      [7.23e-05, 5.35e-03, 4.39e-03, 4.26e-03, 5.16e-03]    [7.23e-05, 5.35e-03, 4.39e-03, 4.26e-03, 5.16e-03]    []  \n",
      "3000      [7.71e-04, 5.30e-03, 3.46e-03, 3.26e-03, 4.94e-03]    [7.71e-04, 5.30e-03, 3.46e-03, 3.26e-03, 4.94e-03]    []  \n",
      "4000      [1.35e-03, 4.79e-03, 1.33e-03, 1.31e-03, 4.54e-03]    [1.35e-03, 4.79e-03, 1.33e-03, 1.31e-03, 4.54e-03]    []  \n",
      "5000      [7.72e-03, 7.21e-03, 1.27e-03, 1.64e-03, 6.07e-03]    [7.72e-03, 7.21e-03, 1.27e-03, 1.64e-03, 6.07e-03]    []  \n",
      "6000      [6.32e-04, 6.83e-04, 4.34e-05, 5.81e-05, 5.24e-04]    [6.32e-04, 6.83e-04, 4.34e-05, 5.81e-05, 5.24e-04]    []  \n",
      "7000      [3.94e-04, 4.51e-04, 2.93e-05, 4.10e-05, 3.52e-04]    [3.94e-04, 4.51e-04, 2.93e-05, 4.10e-05, 3.52e-04]    []  \n",
      "8000      [3.08e-04, 2.17e-04, 2.00e-05, 3.39e-05, 1.62e-04]    [3.08e-04, 2.17e-04, 2.00e-05, 3.39e-05, 1.62e-04]    []  \n",
      "9000      [2.13e-04, 1.57e-04, 1.82e-05, 3.13e-05, 1.27e-04]    [2.13e-04, 1.57e-04, 1.82e-05, 3.13e-05, 1.27e-04]    []  \n",
      "10000     [6.83e-03, 9.12e-04, 1.16e-04, 1.10e-04, 6.75e-04]    [6.83e-03, 9.12e-04, 1.16e-04, 1.10e-04, 6.75e-04]    []  \n",
      "\n",
      "Best model at step 9000:\n",
      "  train loss: 5.47e-04\n",
      "  test loss: 5.47e-04\n",
      "  test metric: []\n",
      "\n",
      "'train' took 114.279923 s\n",
      "\n",
      "Compiling model...\n",
      "'compile' took 2.665132 s\n",
      "\n",
      "Training model...\n",
      "\n",
      "Step      Train loss                                            Test loss                                             Test metric\n",
      "10000     [6.83e-03, 9.12e-04, 1.16e-04, 1.10e-04, 6.75e-04]    [6.83e-03, 9.12e-04, 1.16e-04, 1.10e-04, 6.75e-04]    []  \n",
      "11000     [3.16e-06, 1.15e-05, 1.29e-05, 6.18e-06, 1.53e-05]    [3.16e-06, 1.15e-05, 1.29e-05, 6.18e-06, 1.53e-05]        \n",
      "12000     [1.93e-06, 1.18e-05, 1.02e-05, 5.24e-06, 1.09e-05]    [1.93e-06, 1.18e-05, 1.02e-05, 5.24e-06, 1.09e-05]        \n",
      "13000     [2.55e-06, 1.13e-05, 8.40e-06, 5.03e-06, 9.78e-06]    [2.55e-06, 1.13e-05, 8.40e-06, 5.03e-06, 9.78e-06]        \n",
      "14000     [1.72e-06, 1.12e-05, 7.88e-06, 4.74e-06, 1.03e-05]    [1.72e-06, 1.12e-05, 7.88e-06, 4.74e-06, 1.03e-05]        \n",
      "15000     [2.32e-06, 1.03e-05, 6.87e-06, 4.62e-06, 9.83e-06]    [2.32e-06, 1.03e-05, 6.87e-06, 4.62e-06, 9.83e-06]        \n",
      "16000     [2.16e-06, 9.15e-06, 6.22e-06, 4.08e-06, 1.00e-05]    [2.16e-06, 9.15e-06, 6.22e-06, 4.08e-06, 1.00e-05]        \n",
      "17000     [3.73e-06, 6.64e-06, 5.80e-06, 3.32e-06, 9.30e-06]    [3.73e-06, 6.64e-06, 5.80e-06, 3.32e-06, 9.30e-06]        \n",
      "18000     [5.67e-06, 5.60e-06, 4.81e-06, 2.15e-06, 7.38e-06]    [5.67e-06, 5.60e-06, 4.81e-06, 2.15e-06, 7.38e-06]        \n",
      "19000     [4.46e-06, 4.42e-06, 3.69e-06, 2.03e-06, 5.59e-06]    [4.46e-06, 4.42e-06, 3.69e-06, 2.03e-06, 5.59e-06]        \n",
      "20000     [4.09e-06, 4.69e-06, 1.97e-06, 1.23e-06, 3.31e-06]    [4.09e-06, 4.69e-06, 1.97e-06, 1.23e-06, 3.31e-06]        \n",
      "21000     [4.50e-06, 1.78e-06, 7.94e-07, 4.90e-07, 1.38e-06]    [4.50e-06, 1.78e-06, 7.94e-07, 4.90e-07, 1.38e-06]        \n",
      "22000     [2.84e-06, 1.49e-06, 5.82e-07, 2.92e-07, 6.60e-07]    [2.84e-06, 1.49e-06, 5.82e-07, 2.92e-07, 6.60e-07]        \n",
      "23000     [1.84e-06, 9.75e-07, 4.45e-07, 1.90e-07, 5.58e-07]    [1.84e-06, 9.75e-07, 4.45e-07, 1.90e-07, 5.58e-07]        \n",
      "24000     [1.29e-06, 6.48e-07, 3.51e-07, 1.94e-07, 3.64e-07]    [1.29e-06, 6.48e-07, 3.51e-07, 1.94e-07, 3.64e-07]        \n",
      "25000     [7.97e-07, 4.47e-07, 3.11e-07, 1.38e-07, 3.62e-07]    [7.97e-07, 4.47e-07, 3.11e-07, 1.38e-07, 3.62e-07]        \n",
      "INFO:tensorflow:Optimization terminated with:\n",
      "  Message: STOP: TOTAL NO. of f AND g EVALUATIONS EXCEEDS LIMIT\n",
      "  Objective function value: 0.000002\n",
      "  Number of iterations: 13811\n",
      "  Number of functions evaluations: 15001\n",
      "25001     [7.98e-07, 4.48e-07, 3.11e-07, 1.37e-07, 3.62e-07]    [7.98e-07, 4.48e-07, 3.11e-07, 1.37e-07, 3.62e-07]    []  \n",
      "\n",
      "Best model at step 25001:\n",
      "  train loss: 2.06e-06\n",
      "  test loss: 2.06e-06\n",
      "  test metric: []\n",
      "\n",
      "'train' took 892.238604 s\n",
      "\n"
     ]
    }
   ],
   "source": [
    "dde.optimizers.config.set_LBFGS_options(ftol=0, gtol=0, maxiter=15000, maxfun=15000)\n",
    "\n",
    "model_long_2_s.compile(\"adam\", lr=0.001)\n",
    "model_long_2_s.train(iterations=10000, display_every=1000)\n",
    "model_long_2_s.compile(\"L-BFGS-B\")\n",
    "loss_history_long_2_s, train_state_long_2_s = model_long_2_s.train(iterations=15000, display_every=1000)"
   ]
  },
  {
   "cell_type": "code",
   "execution_count": 26,
   "id": "46479bbe-b6ae-4cc6-b40a-608a12ccea8c",
   "metadata": {},
   "outputs": [
    {
     "name": "stdout",
     "output_type": "stream",
     "text": [
      "Saving loss history to laplace2_soft_long_loss ...\n"
     ]
    }
   ],
   "source": [
    "dde.utils.external.save_loss_history(loss_history_long_2_s, 'laplace2_soft_long_loss')"
   ]
  },
  {
   "cell_type": "markdown",
   "id": "aedf5f32-b157-406a-a770-77a022d4b7cb",
   "metadata": {},
   "source": [
    "### Soft Constraints - Oblong"
   ]
  },
  {
   "cell_type": "code",
   "execution_count": 27,
   "id": "b4de3fac-e4a1-474c-8fcf-47a957b79e0d",
   "metadata": {
    "scrolled": true
   },
   "outputs": [
    {
     "name": "stdout",
     "output_type": "stream",
     "text": [
      "Compiling model...\n",
      "Building feed-forward neural network...\n",
      "'build' took 0.302347 s\n",
      "\n",
      "'compile' took 3.106424 s\n",
      "\n",
      "Training model...\n",
      "\n",
      "Step      Train loss                                            Test loss                                             Test metric\n",
      "0         [1.80e-03, 4.65e-01, 4.34e-04, 1.23e-04, 1.05e-03]    [1.80e-03, 4.65e-01, 4.34e-04, 1.23e-04, 1.05e-03]    []  \n",
      "1000      [2.31e-02, 4.77e-02, 3.19e-03, 1.70e-02, 1.37e-02]    [2.31e-02, 4.77e-02, 3.19e-03, 1.70e-02, 1.37e-02]    []  \n",
      "2000      [1.27e-02, 3.72e-02, 3.38e-03, 1.19e-02, 1.52e-02]    [1.27e-02, 3.72e-02, 3.38e-03, 1.19e-02, 1.52e-02]    []  \n",
      "3000      [1.07e-02, 3.28e-02, 3.27e-03, 9.10e-03, 1.61e-02]    [1.07e-02, 3.28e-02, 3.27e-03, 9.10e-03, 1.61e-02]    []  \n",
      "4000      [6.91e-03, 3.15e-02, 1.62e-03, 6.93e-03, 1.46e-02]    [6.91e-03, 3.15e-02, 1.62e-03, 6.93e-03, 1.46e-02]    []  \n",
      "5000      [6.85e-03, 2.35e-02, 2.48e-03, 5.87e-03, 1.29e-02]    [6.85e-03, 2.35e-02, 2.48e-03, 5.87e-03, 1.29e-02]    []  \n",
      "6000      [5.83e-03, 2.24e-02, 1.26e-03, 4.52e-03, 1.21e-02]    [5.83e-03, 2.24e-02, 1.26e-03, 4.52e-03, 1.21e-02]    []  \n",
      "7000      [5.35e-03, 2.27e-02, 4.77e-04, 3.68e-03, 1.12e-02]    [5.35e-03, 2.27e-02, 4.77e-04, 3.68e-03, 1.12e-02]    []  \n",
      "8000      [5.82e-03, 1.81e-02, 1.05e-03, 3.03e-03, 1.02e-02]    [5.82e-03, 1.81e-02, 1.05e-03, 3.03e-03, 1.02e-02]    []  \n",
      "9000      [6.42e-03, 1.60e-02, 9.39e-04, 3.04e-03, 9.82e-03]    [6.42e-03, 1.60e-02, 9.39e-04, 3.04e-03, 9.82e-03]    []  \n",
      "10000     [6.39e-03, 1.51e-02, 1.25e-03, 2.79e-03, 8.84e-03]    [6.39e-03, 1.51e-02, 1.25e-03, 2.79e-03, 8.84e-03]    []  \n",
      "\n",
      "Best model at step 10000:\n",
      "  train loss: 3.44e-02\n",
      "  test loss: 3.44e-02\n",
      "  test metric: []\n",
      "\n",
      "'train' took 81.575397 s\n",
      "\n",
      "Compiling model...\n",
      "'compile' took 1.772503 s\n",
      "\n",
      "Training model...\n",
      "\n",
      "Step      Train loss                                            Test loss                                             Test metric\n",
      "10000     [6.39e-03, 1.51e-02, 1.25e-03, 2.79e-03, 8.84e-03]    [6.39e-03, 1.51e-02, 1.25e-03, 2.79e-03, 8.84e-03]    []  \n",
      "11000     [3.44e-03, 2.60e-03, 3.22e-04, 1.09e-03, 1.03e-03]    [3.44e-03, 2.60e-03, 3.22e-04, 1.09e-03, 1.03e-03]        \n",
      "12000     [1.86e-03, 8.04e-04, 1.85e-05, 2.73e-04, 3.13e-04]    [1.86e-03, 8.04e-04, 1.85e-05, 2.73e-04, 3.13e-04]        \n",
      "13000     [5.22e-04, 2.12e-04, 5.19e-05, 7.76e-05, 1.14e-04]    [5.22e-04, 2.12e-04, 5.19e-05, 7.76e-05, 1.14e-04]        \n",
      "14000     [5.05e-04, 9.36e-05, 4.15e-05, 3.59e-05, 6.13e-05]    [5.05e-04, 9.36e-05, 4.15e-05, 3.59e-05, 6.13e-05]        \n",
      "15000     [2.62e-04, 3.22e-05, 1.45e-05, 3.72e-05, 2.65e-05]    [2.62e-04, 3.22e-05, 1.45e-05, 3.72e-05, 2.65e-05]        \n",
      "16000     [1.55e-04, 2.87e-05, 3.81e-06, 2.85e-05, 9.68e-06]    [1.55e-04, 2.87e-05, 3.81e-06, 2.85e-05, 9.68e-06]        \n",
      "17000     [9.07e-05, 2.74e-05, 3.83e-06, 2.34e-05, 1.84e-05]    [9.07e-05, 2.74e-05, 3.83e-06, 2.34e-05, 1.84e-05]        \n",
      "18000     [6.93e-05, 2.43e-05, 3.83e-06, 2.00e-05, 1.55e-05]    [6.93e-05, 2.43e-05, 3.83e-06, 2.00e-05, 1.55e-05]        \n",
      "19000     [7.06e-05, 2.20e-05, 4.02e-06, 1.69e-05, 1.68e-05]    [7.06e-05, 2.20e-05, 4.02e-06, 1.69e-05, 1.68e-05]        \n",
      "20000     [5.68e-05, 2.43e-05, 3.56e-06, 1.76e-05, 1.79e-05]    [5.68e-05, 2.43e-05, 3.56e-06, 1.76e-05, 1.79e-05]        \n",
      "21000     [5.19e-05, 2.67e-05, 3.04e-06, 1.79e-05, 1.79e-05]    [5.19e-05, 2.67e-05, 3.04e-06, 1.79e-05, 1.79e-05]        \n",
      "22000     [4.70e-05, 2.25e-05, 3.61e-06, 1.71e-05, 2.06e-05]    [4.70e-05, 2.25e-05, 3.61e-06, 1.71e-05, 2.06e-05]        \n",
      "23000     [4.13e-05, 1.65e-05, 5.45e-06, 1.26e-05, 1.96e-05]    [4.13e-05, 1.65e-05, 5.45e-06, 1.26e-05, 1.96e-05]        \n",
      "24000     [4.10e-05, 1.51e-05, 7.71e-06, 9.78e-06, 1.71e-05]    [4.10e-05, 1.51e-05, 7.71e-06, 9.78e-06, 1.71e-05]        \n",
      "25000     [3.93e-05, 1.30e-05, 9.61e-06, 8.62e-06, 1.73e-05]    [3.93e-05, 1.30e-05, 9.61e-06, 8.62e-06, 1.73e-05]        \n",
      "INFO:tensorflow:Optimization terminated with:\n",
      "  Message: STOP: TOTAL NO. of f AND g EVALUATIONS EXCEEDS LIMIT\n",
      "  Objective function value: 0.000088\n",
      "  Number of iterations: 12160\n",
      "  Number of functions evaluations: 15001\n",
      "25001     [3.93e-05, 1.29e-05, 9.64e-06, 8.62e-06, 1.73e-05]    [3.93e-05, 1.29e-05, 9.64e-06, 8.62e-06, 1.73e-05]    []  \n",
      "\n",
      "Best model at step 25001:\n",
      "  train loss: 8.78e-05\n",
      "  test loss: 8.78e-05\n",
      "  test metric: []\n",
      "\n",
      "'train' took 765.929984 s\n",
      "\n"
     ]
    }
   ],
   "source": [
    "dde.optimizers.config.set_LBFGS_options(ftol=0, gtol=0, maxiter=15000, maxfun=15000)\n",
    "\n",
    "model_oblong_1_s.compile(\"adam\", lr=0.001)\n",
    "model_oblong_1_s.train(iterations=10000, display_every=1000)\n",
    "model_oblong_1_s.compile(\"L-BFGS-B\")\n",
    "loss_history_oblong_1_s, train_state_oblong_1_s = model_oblong_1_s.train(iterations=15000, display_every=1000)"
   ]
  },
  {
   "cell_type": "code",
   "execution_count": 28,
   "id": "235552f8-fbaa-4afd-849a-f3e895fa823c",
   "metadata": {},
   "outputs": [
    {
     "name": "stdout",
     "output_type": "stream",
     "text": [
      "Saving loss history to laplace1_soft_oblong_loss ...\n"
     ]
    }
   ],
   "source": [
    "dde.utils.external.save_loss_history(loss_history_oblong_1_s, 'laplace1_soft_oblong_loss')"
   ]
  },
  {
   "cell_type": "code",
   "execution_count": 29,
   "id": "8546db2d-b1a7-4731-8bae-a02d03e74f3a",
   "metadata": {
    "scrolled": true
   },
   "outputs": [
    {
     "name": "stdout",
     "output_type": "stream",
     "text": [
      "Compiling model...\n",
      "Building feed-forward neural network...\n",
      "'build' took 0.330713 s\n",
      "\n",
      "'compile' took 3.012545 s\n",
      "\n",
      "Training model...\n",
      "\n",
      "Step      Train loss                                            Test loss                                             Test metric\n",
      "0         [1.80e-03, 2.48e-02, 2.79e-02, 3.13e-02, 2.36e-02]    [1.80e-03, 2.48e-02, 2.79e-02, 3.13e-02, 2.36e-02]    []  \n",
      "1000      [7.18e-06, 5.42e-03, 4.54e-03, 4.44e-03, 5.41e-03]    [7.18e-06, 5.42e-03, 4.54e-03, 4.44e-03, 5.41e-03]    []  \n",
      "2000      [3.38e-05, 5.39e-03, 4.54e-03, 4.43e-03, 5.32e-03]    [3.38e-05, 5.39e-03, 4.54e-03, 4.43e-03, 5.32e-03]    []  \n",
      "3000      [4.55e-05, 5.36e-03, 4.52e-03, 4.44e-03, 5.30e-03]    [4.55e-05, 5.36e-03, 4.52e-03, 4.44e-03, 5.30e-03]    []  \n",
      "4000      [3.41e-04, 5.30e-03, 4.29e-03, 3.88e-03, 5.18e-03]    [3.41e-04, 5.30e-03, 4.29e-03, 3.88e-03, 5.18e-03]    []  \n",
      "5000      [1.85e-03, 6.68e-03, 5.43e-03, 4.75e-03, 6.84e-03]    [1.85e-03, 6.68e-03, 5.43e-03, 4.75e-03, 6.84e-03]    []  \n",
      "6000      [8.96e-04, 4.73e-03, 3.33e-03, 2.70e-03, 5.33e-03]    [8.96e-04, 4.73e-03, 3.33e-03, 2.70e-03, 5.33e-03]    []  \n",
      "7000      [1.82e-04, 5.10e-03, 3.88e-03, 3.49e-03, 5.31e-03]    [1.82e-04, 5.10e-03, 3.88e-03, 3.49e-03, 5.31e-03]    []  \n",
      "8000      [1.26e-04, 5.16e-03, 3.90e-03, 3.55e-03, 5.34e-03]    [1.26e-04, 5.16e-03, 3.90e-03, 3.55e-03, 5.34e-03]    []  \n",
      "9000      [1.81e-04, 5.01e-03, 3.38e-03, 2.92e-03, 5.35e-03]    [1.81e-04, 5.01e-03, 3.38e-03, 2.92e-03, 5.35e-03]    []  \n",
      "10000     [1.11e-03, 4.42e-03, 1.82e-03, 9.27e-04, 5.55e-03]    [1.11e-03, 4.42e-03, 1.82e-03, 9.27e-04, 5.55e-03]    []  \n",
      "\n",
      "Best model at step 10000:\n",
      "  train loss: 1.38e-02\n",
      "  test loss: 1.38e-02\n",
      "  test metric: []\n",
      "\n",
      "'train' took 105.833647 s\n",
      "\n",
      "Compiling model...\n",
      "'compile' took 2.018481 s\n",
      "\n",
      "Training model...\n",
      "\n",
      "Step      Train loss                                            Test loss                                             Test metric\n",
      "10000     [1.11e-03, 4.42e-03, 1.82e-03, 9.27e-04, 5.55e-03]    [1.11e-03, 4.42e-03, 1.82e-03, 9.27e-04, 5.55e-03]    []  \n",
      "11000     [3.76e-04, 2.51e-04, 1.64e-04, 1.86e-04, 2.97e-04]    [3.76e-04, 2.51e-04, 1.64e-04, 1.86e-04, 2.97e-04]        \n",
      "12000     [1.76e-04, 5.28e-05, 6.11e-05, 2.93e-05, 1.03e-04]    [1.76e-04, 5.28e-05, 6.11e-05, 2.93e-05, 1.03e-04]        \n",
      "13000     [9.46e-05, 5.39e-05, 4.00e-05, 3.63e-05, 4.93e-05]    [9.46e-05, 5.39e-05, 4.00e-05, 3.63e-05, 4.93e-05]        \n",
      "14000     [1.28e-04, 3.60e-05, 1.97e-05, 1.50e-05, 2.76e-05]    [1.28e-04, 3.60e-05, 1.97e-05, 1.50e-05, 2.76e-05]        \n",
      "15000     [4.14e-05, 2.54e-05, 1.55e-05, 1.57e-05, 1.50e-05]    [4.14e-05, 2.54e-05, 1.55e-05, 1.57e-05, 1.50e-05]        \n",
      "16000     [3.31e-05, 2.25e-05, 1.78e-05, 1.60e-05, 1.38e-05]    [3.31e-05, 2.25e-05, 1.78e-05, 1.60e-05, 1.38e-05]        \n",
      "17000     [2.49e-05, 2.19e-05, 1.58e-05, 1.52e-05, 1.37e-05]    [2.49e-05, 2.19e-05, 1.58e-05, 1.52e-05, 1.37e-05]        \n",
      "18000     [2.56e-05, 1.69e-05, 9.52e-06, 9.30e-06, 1.09e-05]    [2.56e-05, 1.69e-05, 9.52e-06, 9.30e-06, 1.09e-05]        \n",
      "19000     [1.95e-05, 1.61e-05, 9.15e-06, 8.95e-06, 1.10e-05]    [1.95e-05, 1.61e-05, 9.15e-06, 8.95e-06, 1.10e-05]        \n",
      "20000     [1.50e-05, 1.56e-05, 8.49e-06, 8.57e-06, 1.08e-05]    [1.50e-05, 1.56e-05, 8.49e-06, 8.57e-06, 1.08e-05]        \n",
      "21000     [1.22e-05, 1.53e-05, 8.38e-06, 8.79e-06, 1.08e-05]    [1.22e-05, 1.53e-05, 8.38e-06, 8.79e-06, 1.08e-05]        \n",
      "22000     [1.04e-05, 1.55e-05, 8.32e-06, 8.95e-06, 1.08e-05]    [1.04e-05, 1.55e-05, 8.32e-06, 8.95e-06, 1.08e-05]        \n",
      "23000     [9.24e-06, 1.56e-05, 8.35e-06, 9.13e-06, 1.07e-05]    [9.24e-06, 1.56e-05, 8.35e-06, 9.13e-06, 1.07e-05]        \n",
      "24000     [7.93e-06, 1.55e-05, 8.29e-06, 9.47e-06, 1.06e-05]    [7.93e-06, 1.55e-05, 8.29e-06, 9.47e-06, 1.06e-05]        \n",
      "25000     [7.74e-06, 1.48e-05, 7.98e-06, 8.87e-06, 1.11e-05]    [7.74e-06, 1.48e-05, 7.98e-06, 8.87e-06, 1.11e-05]        \n",
      "INFO:tensorflow:Optimization terminated with:\n",
      "  Message: STOP: TOTAL NO. of f AND g EVALUATIONS EXCEEDS LIMIT\n",
      "  Objective function value: 0.000050\n",
      "  Number of iterations: 12476\n",
      "  Number of functions evaluations: 15001\n",
      "25001     [7.74e-06, 1.48e-05, 7.97e-06, 8.87e-06, 1.11e-05]    [7.74e-06, 1.48e-05, 7.97e-06, 8.87e-06, 1.11e-05]    []  \n",
      "\n",
      "Best model at step 25001:\n",
      "  train loss: 5.05e-05\n",
      "  test loss: 5.05e-05\n",
      "  test metric: []\n",
      "\n",
      "'train' took 793.068635 s\n",
      "\n"
     ]
    }
   ],
   "source": [
    "dde.optimizers.config.set_LBFGS_options(ftol=0, gtol=0, maxiter=15000, maxfun=15000)\n",
    "\n",
    "model_oblong_2_s.compile(\"adam\", lr=0.001)\n",
    "model_oblong_2_s.train(iterations=10000, display_every=1000)\n",
    "model_oblong_2_s.compile(\"L-BFGS-B\")\n",
    "loss_history_oblong_2_s, train_state_oblong_2_s = model_oblong_2_s.train(iterations=15000, display_every=1000)"
   ]
  },
  {
   "cell_type": "code",
   "execution_count": 30,
   "id": "4eff6def-2ab5-4000-837f-2313a1ba2870",
   "metadata": {},
   "outputs": [
    {
     "name": "stdout",
     "output_type": "stream",
     "text": [
      "Saving loss history to laplace2_soft_oblong_loss ...\n"
     ]
    }
   ],
   "source": [
    "dde.utils.external.save_loss_history(loss_history_oblong_2_s, 'laplace2_soft_oblong_loss')"
   ]
  },
  {
   "cell_type": "markdown",
   "id": "9d4698ac-9b0a-4bd9-9c4a-3b6334ba9fce",
   "metadata": {},
   "source": [
    "# Hard Constraints"
   ]
  },
  {
   "cell_type": "code",
   "execution_count": 16,
   "id": "97edec70-b811-4c56-86f9-a956b79ff748",
   "metadata": {},
   "outputs": [
    {
     "name": "stderr",
     "output_type": "stream",
     "text": [
      "C:\\anaconda\\envs\\new\\lib\\site-packages\\skopt\\sampler\\sobol.py:521: UserWarning: The balance properties of Sobol' points require n to be a power of 2. 0 points have been previously generated, then: n=0+501=501. \n",
      "  warnings.warn(\n",
      "C:\\anaconda\\envs\\new\\lib\\site-packages\\skopt\\sampler\\sobol.py:521: UserWarning: The balance properties of Sobol' points require n to be a power of 2. 0 points have been previously generated, then: n=0+501=501. \n",
      "  warnings.warn(\n"
     ]
    }
   ],
   "source": [
    "data_1_h = dde.data.PDE(geom, \n",
    "                     pde, \n",
    "                     [],\n",
    "                     num_domain=500,\n",
    "                     train_distribution='Sobol')\n",
    "\n",
    "data_2_h = dde.data.PDE(geom, \n",
    "                     pde, \n",
    "                     [],\n",
    "                     num_domain=500,\n",
    "                     train_distribution='Sobol')"
   ]
  },
  {
   "cell_type": "code",
   "execution_count": 17,
   "id": "a973897c-dda1-40ba-99e1-8916b912339d",
   "metadata": {},
   "outputs": [],
   "source": [
    "def output_transform_1(x,u):\n",
    "    A = x[:,1:2] * (tf.sin(tf.constant(np.pi, dtype=tf.float64)*x[:,0:1]) - x[:,0:1] * tf.sin(tf.constant(np.pi, dtype=tf.float64)) )\n",
    "    return A + x[:,0:1] * (1-x[:,0:1]) * x[:,1:2] * (1-x[:,1:2]) * u\n",
    "\n",
    "def output_transform_2(x,u):\n",
    "    return (1-x[:,0:1]) * (-x[:,1:2]**2 + x[:,1:2]) + x[:,0:1] * (-x[:,1:2]**2 + x[:,1:2]) + (1-x[:,1:2]) * (-x[:,0:1]**2 + x[:,0:1]) + x[:,1:2] * (-x[:,0:1]**2 + x[:,0:1]) + x[:,0:1] * (1-x[:,0:1]) * x[:,1:2] * (1-x[:,1:2]) * u"
   ]
  },
  {
   "cell_type": "code",
   "execution_count": 18,
   "id": "128e328b-966a-4c10-9dbd-4488e4109c5d",
   "metadata": {},
   "outputs": [],
   "source": [
    "net_square_1_h = dde.nn.FNN([2] + [20] * 20 + [1], \"tanh\", initializer)\n",
    "net_long_1_h = dde.nn.FNN([2] + [20] * 5 + [1], \"tanh\", initializer)\n",
    "net_oblong_1_h = dde.nn.FNN([2] + [5] * 20 + [1], \"tanh\", initializer)\n",
    "\n",
    "net_square_2_h = dde.nn.FNN([2] + [20] * 20 + [1], \"tanh\", initializer)\n",
    "net_long_2_h = dde.nn.FNN([2] + [20] * 5 + [1], \"tanh\", initializer)\n",
    "net_oblong_2_h = dde.nn.FNN([2] + [5] * 20 + [1], \"tanh\", initializer)"
   ]
  },
  {
   "cell_type": "code",
   "execution_count": 19,
   "id": "35c729b3-35bd-415b-a416-6420fadc5383",
   "metadata": {},
   "outputs": [],
   "source": [
    "net_square_1_h.apply_output_transform(output_transform_1)\n",
    "model_square_1_h = dde.Model(data_1_h, net_square_1_h)\n",
    "\n",
    "net_long_1_h.apply_output_transform(output_transform_1)\n",
    "model_long_1_h = dde.Model(data_1_h, net_long_1_h)\n",
    "\n",
    "net_oblong_1_h.apply_output_transform(output_transform_1)\n",
    "model_oblong_1_h = dde.Model(data_1_h, net_oblong_1_h)\n",
    "\n",
    "net_square_2_h.apply_output_transform(output_transform_2)\n",
    "model_square_2_h = dde.Model(data_2_h, net_square_2_h)\n",
    "\n",
    "net_long_2_h.apply_output_transform(output_transform_2)\n",
    "model_long_2_h = dde.Model(data_2_h, net_long_2_h)\n",
    "\n",
    "net_oblong_2_h.apply_output_transform(output_transform_2)\n",
    "model_oblong_2_h = dde.Model(data_2_h, net_oblong_2_h)"
   ]
  },
  {
   "cell_type": "markdown",
   "id": "4debfe28-d0c6-46aa-b687-9b4c5977ccf9",
   "metadata": {},
   "source": [
    "### Hard Constraints - Square"
   ]
  },
  {
   "cell_type": "code",
   "execution_count": 20,
   "id": "3d3e189e-b077-4cdf-9d0a-61d067d67280",
   "metadata": {
    "scrolled": true
   },
   "outputs": [
    {
     "name": "stdout",
     "output_type": "stream",
     "text": [
      "Compiling model...\n",
      "Building feed-forward neural network...\n"
     ]
    },
    {
     "name": "stderr",
     "output_type": "stream",
     "text": [
      "C:\\anaconda\\envs\\new\\lib\\site-packages\\deepxde\\nn\\tensorflow_compat_v1\\fnn.py:116: UserWarning: `tf.layers.dense` is deprecated and will be removed in a future version. Please use `tf.keras.layers.Dense` instead.\n",
      "  return tf.layers.dense(\n"
     ]
    },
    {
     "name": "stdout",
     "output_type": "stream",
     "text": [
      "'build' took 0.462022 s\n",
      "\n",
      "'compile' took 2.887367 s\n",
      "\n",
      "Training model...\n",
      "\n",
      "Step      Train loss    Test loss     Test metric\n",
      "0         [1.66e+01]    [1.66e+01]    []  \n",
      "1000      [2.21e-02]    [2.21e-02]    []  \n",
      "2000      [8.23e-03]    [8.23e-03]    []  \n",
      "3000      [3.87e-03]    [3.87e-03]    []  \n",
      "4000      [2.98e-02]    [2.98e-02]    []  \n",
      "5000      [5.53e-03]    [5.53e-03]    []  \n",
      "6000      [8.85e-03]    [8.85e-03]    []  \n",
      "7000      [3.96e-03]    [3.96e-03]    []  \n",
      "8000      [9.11e-04]    [9.11e-04]    []  \n",
      "9000      [4.00e-04]    [4.00e-04]    []  \n",
      "10000     [1.86e-04]    [1.86e-04]    []  \n",
      "\n",
      "Best model at step 10000:\n",
      "  train loss: 1.86e-04\n",
      "  test loss: 1.86e-04\n",
      "  test metric: []\n",
      "\n",
      "'train' took 326.345584 s\n",
      "\n",
      "Compiling model...\n",
      "'compile' took 1.855722 s\n",
      "\n",
      "Training model...\n",
      "\n",
      "Step      Train loss    Test loss     Test metric\n",
      "10000     [1.86e-04]    [1.86e-04]    []  \n",
      "11000     [3.50e-07]    [3.50e-07]        \n",
      "12000     [1.19e-07]    [1.19e-07]        \n",
      "13000     [6.78e-08]    [6.78e-08]        \n",
      "14000     [4.95e-08]    [4.95e-08]        \n",
      "15000     [2.73e-08]    [2.73e-08]        \n",
      "16000     [1.47e-08]    [1.47e-08]        \n",
      "17000     [8.38e-09]    [8.38e-09]        \n",
      "18000     [6.60e-09]    [6.60e-09]        \n",
      "19000     [5.71e-09]    [5.71e-09]        \n",
      "20000     [4.09e-09]    [4.09e-09]        \n",
      "21000     [3.29e-09]    [3.29e-09]        \n",
      "22000     [3.03e-09]    [3.03e-09]        \n",
      "23000     [2.72e-09]    [2.72e-09]        \n",
      "24000     [1.88e-09]    [1.88e-09]        \n",
      "25000     [1.83e-09]    [1.83e-09]        \n",
      "INFO:tensorflow:Optimization terminated with:\n",
      "  Message: STOP: TOTAL NO. of f AND g EVALUATIONS EXCEEDS LIMIT\n",
      "  Objective function value: 0.000000\n",
      "  Number of iterations: 12732\n",
      "  Number of functions evaluations: 15002\n",
      "25002     [1.83e-09]    [1.83e-09]    []  \n",
      "\n",
      "Best model at step 25002:\n",
      "  train loss: 1.83e-09\n",
      "  test loss: 1.83e-09\n",
      "  test metric: []\n",
      "\n",
      "'train' took 1629.006898 s\n",
      "\n"
     ]
    }
   ],
   "source": [
    "dde.optimizers.config.set_LBFGS_options(ftol=0, gtol=0, maxiter=15000, maxfun=15000)\n",
    "\n",
    "model_square_1_h.compile(\"adam\", lr=0.001)\n",
    "model_square_1_h.train(iterations=10000, display_every=1000)\n",
    "model_square_1_h.compile(\"L-BFGS-B\")\n",
    "loss_history_square_1_h, train_state_square_1_h = model_square_1_h.train(iterations=15000, display_every=1000)"
   ]
  },
  {
   "cell_type": "code",
   "execution_count": 21,
   "id": "c24297f1-76cc-4f36-9a5a-fed8134d9e36",
   "metadata": {},
   "outputs": [
    {
     "name": "stdout",
     "output_type": "stream",
     "text": [
      "Saving loss history to laplace1_hard_square_loss ...\n"
     ]
    }
   ],
   "source": [
    "dde.utils.external.save_loss_history(loss_history_square_1_h, 'laplace1_hard_square_loss')"
   ]
  },
  {
   "cell_type": "code",
   "execution_count": 22,
   "id": "932c486c-bd2d-4f46-a5c8-40dabde257aa",
   "metadata": {
    "scrolled": true
   },
   "outputs": [
    {
     "name": "stdout",
     "output_type": "stream",
     "text": [
      "Compiling model...\n",
      "Building feed-forward neural network...\n",
      "'build' took 0.848980 s\n",
      "\n",
      "'compile' took 8.979462 s\n",
      "\n",
      "Training model...\n",
      "\n",
      "Step      Train loss    Test loss     Test metric\n",
      "0         [1.62e+01]    [1.62e+01]    []  \n",
      "1000      [1.45e+00]    [1.45e+00]    []  \n",
      "2000      [1.45e+00]    [1.45e+00]    []  \n",
      "3000      [1.06e-01]    [1.06e-01]    []  \n",
      "4000      [2.16e-01]    [2.16e-01]    []  \n",
      "5000      [8.33e-01]    [8.33e-01]    []  \n",
      "6000      [7.87e-02]    [7.87e-02]    []  \n",
      "7000      [2.90e-02]    [2.90e-02]    []  \n",
      "8000      [8.88e-02]    [8.88e-02]    []  \n",
      "9000      [2.67e-01]    [2.67e-01]    []  \n",
      "10000     [9.26e-02]    [9.26e-02]    []  \n",
      "\n",
      "Best model at step 7000:\n",
      "  train loss: 2.90e-02\n",
      "  test loss: 2.90e-02\n",
      "  test metric: []\n",
      "\n",
      "'train' took 795.866848 s\n",
      "\n",
      "Compiling model...\n",
      "'compile' took 4.477291 s\n",
      "\n",
      "Training model...\n",
      "\n",
      "Step      Train loss    Test loss     Test metric\n",
      "10000     [9.26e-02]    [9.26e-02]    []  \n",
      "11000     [2.83e-03]    [2.83e-03]        \n",
      "12000     [1.63e-03]    [1.63e-03]        \n",
      "13000     [1.02e-03]    [1.02e-03]        \n",
      "14000     [9.06e-04]    [9.06e-04]        \n",
      "15000     [8.04e-04]    [8.04e-04]        \n",
      "16000     [7.55e-04]    [7.55e-04]        \n",
      "17000     [5.13e-04]    [5.13e-04]        \n",
      "18000     [4.72e-04]    [4.72e-04]        \n",
      "19000     [3.93e-04]    [3.93e-04]        \n",
      "20000     [3.55e-04]    [3.55e-04]        \n",
      "21000     [3.07e-04]    [3.07e-04]        \n",
      "22000     [2.75e-04]    [2.75e-04]        \n",
      "23000     [2.61e-04]    [2.61e-04]        \n",
      "24000     [2.39e-04]    [2.39e-04]        \n",
      "25000     [2.06e-04]    [2.06e-04]        \n",
      "INFO:tensorflow:Optimization terminated with:\n",
      "  Message: STOP: TOTAL NO. of f AND g EVALUATIONS EXCEEDS LIMIT\n",
      "  Objective function value: 0.000206\n",
      "  Number of iterations: 12552\n",
      "  Number of functions evaluations: 15001\n",
      "25001     [2.06e-04]    [2.06e-04]    []  \n",
      "\n",
      "Best model at step 25001:\n",
      "  train loss: 2.06e-04\n",
      "  test loss: 2.06e-04\n",
      "  test metric: []\n",
      "\n",
      "'train' took 3359.878609 s\n",
      "\n"
     ]
    }
   ],
   "source": [
    "dde.optimizers.config.set_LBFGS_options(ftol=0, gtol=0, maxiter=15000, maxfun=15000)\n",
    "\n",
    "model_square_2_h.compile(\"adam\", lr=0.001)\n",
    "model_square_2_h.train(iterations=10000, display_every=1000)\n",
    "model_square_2_h.compile(\"L-BFGS-B\")\n",
    "loss_history_square_2_h, train_state_square_2_h = model_square_2_h.train(iterations=15000, display_every=1000)"
   ]
  },
  {
   "cell_type": "code",
   "execution_count": 30,
   "id": "cd3183b4-4d45-4859-a0e4-96197ea1486b",
   "metadata": {},
   "outputs": [
    {
     "name": "stdout",
     "output_type": "stream",
     "text": [
      "Saving loss history to laplace2_hard_square_loss ...\n"
     ]
    }
   ],
   "source": [
    "dde.utils.external.save_loss_history(loss_history_square_2_h, 'laplace2_hard_square_loss')"
   ]
  },
  {
   "cell_type": "markdown",
   "id": "aec83cf5-be7f-46eb-bbc1-f1382a86eeb1",
   "metadata": {},
   "source": [
    "### Hard Constraints - Long"
   ]
  },
  {
   "cell_type": "code",
   "execution_count": 31,
   "id": "28394276-feb4-4521-b076-dff331567c14",
   "metadata": {
    "scrolled": true
   },
   "outputs": [
    {
     "name": "stdout",
     "output_type": "stream",
     "text": [
      "Compiling model...\n",
      "Building feed-forward neural network...\n",
      "'build' took 0.128383 s\n",
      "\n",
      "'compile' took 2.854619 s\n",
      "\n",
      "Training model...\n",
      "\n",
      "Step      Train loss    Test loss     Test metric\n",
      "0         [1.52e+01]    [1.52e+01]    []  \n",
      "1000      [4.50e-03]    [4.50e-03]    []  \n",
      "2000      [6.14e-04]    [6.14e-04]    []  \n",
      "3000      [2.16e-04]    [2.16e-04]    []  \n",
      "4000      [2.13e-04]    [2.13e-04]    []  \n",
      "5000      [6.12e-05]    [6.12e-05]    []  \n",
      "6000      [3.93e-05]    [3.93e-05]    []  \n",
      "7000      [2.74e-05]    [2.74e-05]    []  \n",
      "8000      [2.02e-05]    [2.02e-05]    []  \n",
      "9000      [1.57e-05]    [1.57e-05]    []  \n",
      "10000     [1.28e-05]    [1.28e-05]    []  \n",
      "\n",
      "Best model at step 10000:\n",
      "  train loss: 1.28e-05\n",
      "  test loss: 1.28e-05\n",
      "  test metric: []\n",
      "\n",
      "'train' took 85.453568 s\n",
      "\n",
      "Compiling model...\n",
      "'compile' took 1.569078 s\n",
      "\n",
      "Training model...\n",
      "\n",
      "Step      Train loss    Test loss     Test metric\n",
      "10000     [1.28e-05]    [1.28e-05]    []  \n",
      "11000     [1.28e-07]    [1.28e-07]        \n",
      "12000     [4.22e-08]    [4.22e-08]        \n",
      "13000     [2.01e-08]    [2.01e-08]        \n",
      "14000     [9.95e-09]    [9.95e-09]        \n",
      "15000     [8.03e-09]    [8.03e-09]        \n",
      "16000     [5.20e-09]    [5.20e-09]        \n",
      "17000     [3.76e-09]    [3.76e-09]        \n",
      "18000     [3.43e-09]    [3.43e-09]        \n",
      "19000     [2.98e-09]    [2.98e-09]        \n",
      "20000     [2.35e-09]    [2.35e-09]        \n",
      "21000     [1.73e-09]    [1.73e-09]        \n",
      "22000     [1.33e-09]    [1.33e-09]        \n",
      "23000     [1.27e-09]    [1.27e-09]        \n",
      "24000     [1.22e-09]    [1.22e-09]        \n",
      "25000     [9.71e-10]    [9.71e-10]        \n",
      "INFO:tensorflow:Optimization terminated with:\n",
      "  Message: STOP: TOTAL NO. of f AND g EVALUATIONS EXCEEDS LIMIT\n",
      "  Objective function value: 0.000000\n",
      "  Number of iterations: 13436\n",
      "  Number of functions evaluations: 15001\n",
      "25001     [9.71e-10]    [9.71e-10]    []  \n",
      "\n",
      "Best model at step 25001:\n",
      "  train loss: 9.71e-10\n",
      "  test loss: 9.71e-10\n",
      "  test metric: []\n",
      "\n",
      "'train' took 866.378441 s\n",
      "\n"
     ]
    }
   ],
   "source": [
    "dde.optimizers.config.set_LBFGS_options(ftol=0, gtol=0, maxiter=15000, maxfun=15000)\n",
    "\n",
    "model_long_1_h.compile(\"adam\", lr=0.001)\n",
    "model_long_1_h.train(iterations=10000, display_every=1000)\n",
    "model_long_1_h.compile(\"L-BFGS-B\")\n",
    "loss_history_long_1_h, train_state_long_1_h = model_long_1_h.train(iterations=15000, display_every=1000)"
   ]
  },
  {
   "cell_type": "code",
   "execution_count": 32,
   "id": "c5e96514-4e0d-42d4-bf1f-c394b2a050fa",
   "metadata": {},
   "outputs": [
    {
     "name": "stdout",
     "output_type": "stream",
     "text": [
      "Saving loss history to laplace1_hard_long_loss ...\n"
     ]
    }
   ],
   "source": [
    "dde.utils.external.save_loss_history(loss_history_long_1_h, 'laplace1_hard_long_loss')"
   ]
  },
  {
   "cell_type": "code",
   "execution_count": 33,
   "id": "5259b83e-5c48-4cad-89b7-727aea9a6b4d",
   "metadata": {
    "scrolled": true
   },
   "outputs": [
    {
     "name": "stdout",
     "output_type": "stream",
     "text": [
      "Compiling model...\n",
      "Building feed-forward neural network...\n",
      "'build' took 0.137941 s\n",
      "\n",
      "'compile' took 2.881358 s\n",
      "\n",
      "Training model...\n",
      "\n",
      "Step      Train loss    Test loss     Test metric\n",
      "0         [1.49e+01]    [1.49e+01]    []  \n",
      "1000      [2.97e-01]    [2.97e-01]    []  \n",
      "2000      [8.21e-02]    [8.21e-02]    []  \n",
      "3000      [4.99e-02]    [4.99e-02]    []  \n",
      "4000      [7.56e-03]    [7.56e-03]    []  \n",
      "5000      [1.47e-03]    [1.47e-03]    []  \n",
      "6000      [7.76e-04]    [7.76e-04]    []  \n",
      "7000      [5.24e-04]    [5.24e-04]    []  \n",
      "8000      [3.77e-04]    [3.77e-04]    []  \n",
      "9000      [2.82e-04]    [2.82e-04]    []  \n",
      "10000     [2.06e-04]    [2.06e-04]    []  \n",
      "\n",
      "Best model at step 10000:\n",
      "  train loss: 2.06e-04\n",
      "  test loss: 2.06e-04\n",
      "  test metric: []\n",
      "\n",
      "'train' took 73.626916 s\n",
      "\n",
      "Compiling model...\n",
      "'compile' took 1.998493 s\n",
      "\n",
      "Training model...\n",
      "\n",
      "Step      Train loss    Test loss     Test metric\n",
      "10000     [2.06e-04]    [2.06e-04]    []  \n",
      "11000     [2.32e-05]    [2.32e-05]        \n",
      "12000     [1.13e-05]    [1.13e-05]        \n",
      "13000     [6.61e-06]    [6.61e-06]        \n",
      "14000     [4.40e-06]    [4.40e-06]        \n",
      "15000     [2.92e-06]    [2.92e-06]        \n",
      "16000     [2.01e-06]    [2.01e-06]        \n",
      "17000     [1.61e-06]    [1.61e-06]        \n",
      "18000     [1.30e-06]    [1.30e-06]        \n",
      "19000     [1.07e-06]    [1.07e-06]        \n",
      "20000     [9.55e-07]    [9.55e-07]        \n",
      "21000     [8.00e-07]    [8.00e-07]        \n",
      "22000     [6.67e-07]    [6.67e-07]        \n",
      "23000     [5.83e-07]    [5.83e-07]        \n",
      "24000     [5.32e-07]    [5.32e-07]        \n",
      "25000     [4.85e-07]    [4.85e-07]        \n",
      "INFO:tensorflow:Optimization terminated with:\n",
      "  Message: STOP: TOTAL NO. of f AND g EVALUATIONS EXCEEDS LIMIT\n",
      "  Objective function value: 0.000000\n",
      "  Number of iterations: 13159\n",
      "  Number of functions evaluations: 15001\n",
      "25001     [4.85e-07]    [4.85e-07]    []  \n",
      "\n",
      "Best model at step 25001:\n",
      "  train loss: 4.85e-07\n",
      "  test loss: 4.85e-07\n",
      "  test metric: []\n",
      "\n",
      "'train' took 859.904322 s\n",
      "\n"
     ]
    }
   ],
   "source": [
    "dde.optimizers.config.set_LBFGS_options(ftol=0, gtol=0, maxiter=15000, maxfun=15000)\n",
    "\n",
    "model_long_2_h.compile(\"adam\", lr=0.001)\n",
    "model_long_2_h.train(iterations=10000, display_every=1000)\n",
    "model_long_2_h.compile(\"L-BFGS-B\")\n",
    "loss_history_long_2_h, train_state_long_2_h = model_long_2_h.train(iterations=15000, display_every=1000)"
   ]
  },
  {
   "cell_type": "code",
   "execution_count": 34,
   "id": "9b6f23d2-34cd-4204-ab97-2a9ccd505695",
   "metadata": {},
   "outputs": [
    {
     "name": "stdout",
     "output_type": "stream",
     "text": [
      "Saving loss history to laplace2_hard_long_loss ...\n"
     ]
    }
   ],
   "source": [
    "dde.utils.external.save_loss_history(loss_history_long_2_h, 'laplace2_hard_long_loss')"
   ]
  },
  {
   "cell_type": "markdown",
   "id": "300d7438-2b5f-4dcb-8add-f9f3d0e78ac9",
   "metadata": {},
   "source": [
    "### Hard Constraints - Oblong"
   ]
  },
  {
   "cell_type": "code",
   "execution_count": 35,
   "id": "8ef762d8-dbb1-400a-b2f6-fe17aaad60f4",
   "metadata": {
    "scrolled": true
   },
   "outputs": [
    {
     "name": "stdout",
     "output_type": "stream",
     "text": [
      "Compiling model...\n",
      "Building feed-forward neural network...\n",
      "'build' took 0.358973 s\n",
      "\n",
      "'compile' took 3.998508 s\n",
      "\n",
      "Training model...\n",
      "\n",
      "Step      Train loss    Test loss     Test metric\n",
      "0         [1.64e+01]    [1.64e+01]    []  \n",
      "1000      [5.21e+00]    [5.21e+00]    []  \n",
      "2000      [5.20e+00]    [5.20e+00]    []  \n",
      "3000      [5.29e-02]    [5.29e-02]    []  \n",
      "4000      [7.89e-03]    [7.89e-03]    []  \n",
      "5000      [6.78e-03]    [6.78e-03]    []  \n",
      "6000      [2.06e-03]    [2.06e-03]    []  \n",
      "7000      [1.11e-03]    [1.11e-03]    []  \n",
      "8000      [6.13e-04]    [6.13e-04]    []  \n",
      "9000      [3.60e-04]    [3.60e-04]    []  \n",
      "10000     [2.79e-04]    [2.79e-04]    []  \n",
      "\n",
      "Best model at step 10000:\n",
      "  train loss: 2.79e-04\n",
      "  test loss: 2.79e-04\n",
      "  test metric: []\n",
      "\n",
      "'train' took 101.201153 s\n",
      "\n",
      "Compiling model...\n",
      "'compile' took 2.820064 s\n",
      "\n",
      "Training model...\n",
      "\n",
      "Step      Train loss    Test loss     Test metric\n",
      "10000     [2.79e-04]    [2.79e-04]    []  \n",
      "11000     [1.36e-06]    [1.36e-06]        \n",
      "12000     [2.80e-07]    [2.80e-07]        \n",
      "13000     [1.99e-07]    [1.99e-07]        \n",
      "14000     [1.53e-07]    [1.53e-07]        \n",
      "15000     [1.00e-07]    [1.00e-07]        \n",
      "16000     [8.79e-08]    [8.79e-08]        \n",
      "17000     [6.56e-08]    [6.56e-08]        \n",
      "18000     [5.64e-08]    [5.64e-08]        \n",
      "19000     [4.97e-08]    [4.97e-08]        \n",
      "20000     [4.82e-08]    [4.82e-08]        \n",
      "21000     [4.51e-08]    [4.51e-08]        \n",
      "22000     [4.21e-08]    [4.21e-08]        \n",
      "23000     [3.91e-08]    [3.91e-08]        \n",
      "24000     [3.84e-08]    [3.84e-08]        \n",
      "25000     [2.77e-08]    [2.77e-08]        \n",
      "INFO:tensorflow:Optimization terminated with:\n",
      "  Message: STOP: TOTAL NO. of f AND g EVALUATIONS EXCEEDS LIMIT\n",
      "  Objective function value: 0.000000\n",
      "  Number of iterations: 12245\n",
      "  Number of functions evaluations: 15001\n",
      "25001     [2.77e-08]    [2.77e-08]    []  \n",
      "\n",
      "Best model at step 25001:\n",
      "  train loss: 2.77e-08\n",
      "  test loss: 2.77e-08\n",
      "  test metric: []\n",
      "\n",
      "'train' took 1255.744690 s\n",
      "\n"
     ]
    }
   ],
   "source": [
    "dde.optimizers.config.set_LBFGS_options(ftol=0, gtol=0, maxiter=15000, maxfun=15000)\n",
    "\n",
    "model_oblong_1_h.compile(\"adam\", lr=0.001)\n",
    "model_oblong_1_h.train(iterations=10000, display_every=1000)\n",
    "model_oblong_1_h.compile(\"L-BFGS-B\")\n",
    "loss_history_oblong_1_h, train_state_oblong_1_h = model_oblong_1_h.train(iterations=15000, display_every=1000)"
   ]
  },
  {
   "cell_type": "code",
   "execution_count": 36,
   "id": "fb2fb3ad-14c2-476b-9b94-cb23dbea6283",
   "metadata": {},
   "outputs": [
    {
     "name": "stdout",
     "output_type": "stream",
     "text": [
      "Saving loss history to laplace1_hard_oblong_loss ...\n"
     ]
    }
   ],
   "source": [
    "dde.utils.external.save_loss_history(loss_history_oblong_1_h, 'laplace1_hard_oblong_loss')"
   ]
  },
  {
   "cell_type": "code",
   "execution_count": 37,
   "id": "34f51c24-e194-4c2d-bf92-171061d2fecd",
   "metadata": {
    "scrolled": true
   },
   "outputs": [
    {
     "name": "stdout",
     "output_type": "stream",
     "text": [
      "Compiling model...\n",
      "Building feed-forward neural network...\n",
      "'build' took 0.995777 s\n",
      "\n",
      "'compile' took 13.977259 s\n",
      "\n",
      "Training model...\n",
      "\n",
      "Step      Train loss    Test loss     Test metric\n",
      "0         [1.61e+01]    [1.61e+01]    []  \n",
      "1000      [1.45e+00]    [1.45e+00]    []  \n",
      "2000      [1.45e+00]    [1.45e+00]    []  \n",
      "3000      [1.45e+00]    [1.45e+00]    []  \n",
      "4000      [1.45e+00]    [1.45e+00]    []  \n",
      "5000      [1.45e+00]    [1.45e+00]    []  \n",
      "6000      [1.45e+00]    [1.45e+00]    []  \n",
      "7000      [1.45e+00]    [1.45e+00]    []  \n",
      "8000      [1.45e+00]    [1.45e+00]    []  \n",
      "9000      [1.45e+00]    [1.45e+00]    []  \n",
      "10000     [1.45e+00]    [1.45e+00]    []  \n",
      "\n",
      "Best model at step 10000:\n",
      "  train loss: 1.45e+00\n",
      "  test loss: 1.45e+00\n",
      "  test metric: []\n",
      "\n",
      "'train' took 186.964116 s\n",
      "\n",
      "Compiling model...\n",
      "'compile' took 7.249843 s\n",
      "\n",
      "Training model...\n",
      "\n",
      "Step      Train loss    Test loss     Test metric\n",
      "10000     [1.45e+00]    [1.45e+00]    []  \n",
      "11000     [6.17e-03]    [6.17e-03]        \n",
      "12000     [2.58e-03]    [2.58e-03]        \n",
      "13000     [1.65e-03]    [1.65e-03]        \n",
      "14000     [1.08e-03]    [1.08e-03]        \n",
      "15000     [8.39e-04]    [8.39e-04]        \n",
      "16000     [7.00e-04]    [7.00e-04]        \n",
      "17000     [6.74e-04]    [6.74e-04]        \n",
      "18000     [6.50e-04]    [6.50e-04]        \n",
      "19000     [6.00e-04]    [6.00e-04]        \n",
      "20000     [5.24e-04]    [5.24e-04]        \n",
      "21000     [4.80e-04]    [4.80e-04]        \n",
      "22000     [4.13e-04]    [4.13e-04]        \n",
      "23000     [3.72e-04]    [3.72e-04]        \n",
      "24000     [3.39e-04]    [3.39e-04]        \n",
      "25000     [3.21e-04]    [3.21e-04]        \n",
      "INFO:tensorflow:Optimization terminated with:\n",
      "  Message: STOP: TOTAL NO. of f AND g EVALUATIONS EXCEEDS LIMIT\n",
      "  Objective function value: 0.000321\n",
      "  Number of iterations: 12589\n",
      "  Number of functions evaluations: 15001\n",
      "25001     [3.21e-04]    [3.21e-04]    []  \n",
      "\n",
      "Best model at step 25001:\n",
      "  train loss: 3.21e-04\n",
      "  test loss: 3.21e-04\n",
      "  test metric: []\n",
      "\n",
      "'train' took 1809.108989 s\n",
      "\n"
     ]
    }
   ],
   "source": [
    "dde.optimizers.config.set_LBFGS_options(ftol=0, gtol=0, maxiter=15000, maxfun=15000)\n",
    "\n",
    "model_oblong_2_h.compile(\"adam\", lr=0.001)\n",
    "model_oblong_2_h.train(iterations=10000, display_every=1000)\n",
    "model_oblong_2_h.compile(\"L-BFGS-B\")\n",
    "loss_history_oblong_2_h, train_state_oblong_2_h = model_oblong_2_h.train(iterations=15000, display_every=1000)"
   ]
  },
  {
   "cell_type": "code",
   "execution_count": 38,
   "id": "43cb76bf-c878-43f6-b72d-c261bcab5cb0",
   "metadata": {},
   "outputs": [
    {
     "name": "stdout",
     "output_type": "stream",
     "text": [
      "Saving loss history to laplace2_hard_oblong_loss ...\n"
     ]
    }
   ],
   "source": [
    "dde.utils.external.save_loss_history(loss_history_oblong_2_h, 'laplace2_hard_oblong_loss')"
   ]
  },
  {
   "cell_type": "markdown",
   "id": "229b7b14-8ac4-4e42-9fbd-fcb8aefa7a70",
   "metadata": {},
   "source": [
    "# Soft-PINN Loss Plot"
   ]
  },
  {
   "cell_type": "code",
   "execution_count": 39,
   "id": "36c761c7-d83f-412f-8ee9-9f5c695e2fb8",
   "metadata": {},
   "outputs": [
    {
     "name": "stderr",
     "output_type": "stream",
     "text": [
      "C:\\Users\\charl\\AppData\\Local\\Temp\\ipykernel_15748\\2196760045.py:1: FutureWarning: The 'delim_whitespace' keyword in pd.read_csv is deprecated and will be removed in a future version. Use ``sep='\\s+'`` instead\n",
      "  loss = pd.read_csv(\"C:/Users/charl/College/acm40980/acm40980_code/laplace1_soft_square_loss\",\n"
     ]
    }
   ],
   "source": [
    "loss = pd.read_csv(\"C:/Users/charl/College/acm40980/acm40980_code/laplace1_soft_square_loss\", \n",
    "            delim_whitespace=True)\n",
    "pde_loss = loss.to_numpy()[:,0]\n",
    "bc_loss = loss.to_numpy()[:,1] + loss.to_numpy()[:,2] + loss.to_numpy()[:,3] + loss.to_numpy()[:,4]\n",
    "\n",
    "epochs = np.arange(0,26000,1000)\n",
    "epochs_array = np.append(epochs,25001)\n",
    "\n",
    "pde_loss_array = np.append(pde_loss[:11], pde_loss[12:])\n",
    "bc_loss_array = np.append(bc_loss[:11], bc_loss[12:])"
   ]
  },
  {
   "cell_type": "code",
   "execution_count": 40,
   "id": "55dd4e24-ec74-4dd0-b451-7763537be767",
   "metadata": {},
   "outputs": [],
   "source": [
    "loss1 = pde_loss_array + bc_loss_array"
   ]
  },
  {
   "cell_type": "code",
   "execution_count": 41,
   "id": "06e60770-a141-4a7b-a72a-42627f718cc6",
   "metadata": {},
   "outputs": [
    {
     "name": "stderr",
     "output_type": "stream",
     "text": [
      "C:\\Users\\charl\\AppData\\Local\\Temp\\ipykernel_15748\\4231405994.py:1: FutureWarning: The 'delim_whitespace' keyword in pd.read_csv is deprecated and will be removed in a future version. Use ``sep='\\s+'`` instead\n",
      "  loss = pd.read_csv(\"C:/Users/charl/College/acm40980/acm40980_code/laplace1_soft_long_loss\",\n"
     ]
    }
   ],
   "source": [
    "loss = pd.read_csv(\"C:/Users/charl/College/acm40980/acm40980_code/laplace1_soft_long_loss\", \n",
    "            delim_whitespace=True)\n",
    "pde_loss = loss.to_numpy()[:,0]\n",
    "bc_loss = loss.to_numpy()[:,1] + loss.to_numpy()[:,2] + loss.to_numpy()[:,3] + loss.to_numpy()[:,4]\n",
    "\n",
    "epochs = np.arange(0,26000,1000)\n",
    "epochs_array = np.append(epochs,25001)\n",
    "\n",
    "pde_loss_array = np.append(pde_loss[:11], pde_loss[12:])\n",
    "bc_loss_array = np.append(bc_loss[:11], bc_loss[12:])"
   ]
  },
  {
   "cell_type": "code",
   "execution_count": 42,
   "id": "e87b6d32-c2b8-494a-b123-9ff5d48243b1",
   "metadata": {},
   "outputs": [],
   "source": [
    "loss2 = pde_loss_array + bc_loss_array"
   ]
  },
  {
   "cell_type": "code",
   "execution_count": 43,
   "id": "d850c2c1-e5e5-42e7-956a-fa410208c651",
   "metadata": {},
   "outputs": [
    {
     "name": "stderr",
     "output_type": "stream",
     "text": [
      "C:\\Users\\charl\\AppData\\Local\\Temp\\ipykernel_15748\\1054204289.py:1: FutureWarning: The 'delim_whitespace' keyword in pd.read_csv is deprecated and will be removed in a future version. Use ``sep='\\s+'`` instead\n",
      "  loss = pd.read_csv(\"C:/Users/charl/College/acm40980/acm40980_code/laplace1_soft_oblong_loss\",\n"
     ]
    }
   ],
   "source": [
    "loss = pd.read_csv(\"C:/Users/charl/College/acm40980/acm40980_code/laplace1_soft_oblong_loss\", \n",
    "            delim_whitespace=True)\n",
    "pde_loss = loss.to_numpy()[:,0]\n",
    "bc_loss = loss.to_numpy()[:,1] + loss.to_numpy()[:,2] + loss.to_numpy()[:,3] + loss.to_numpy()[:,4]\n",
    "\n",
    "epochs = np.arange(0,26000,1000)\n",
    "epochs_array = np.append(epochs,25001)\n",
    "\n",
    "pde_loss_array = np.append(pde_loss[:11], pde_loss[12:])\n",
    "bc_loss_array = np.append(bc_loss[:11], bc_loss[12:])"
   ]
  },
  {
   "cell_type": "code",
   "execution_count": 44,
   "id": "85d26430-4c77-46cc-96b9-2f41a3e1b2de",
   "metadata": {},
   "outputs": [],
   "source": [
    "loss3 = pde_loss_array + bc_loss_array"
   ]
  },
  {
   "cell_type": "code",
   "execution_count": 45,
   "id": "717267a6-461a-4fe7-bc28-30a5302f0ffe",
   "metadata": {},
   "outputs": [
    {
     "name": "stderr",
     "output_type": "stream",
     "text": [
      "C:\\Users\\charl\\AppData\\Local\\Temp\\ipykernel_15748\\2120484555.py:1: FutureWarning: The 'delim_whitespace' keyword in pd.read_csv is deprecated and will be removed in a future version. Use ``sep='\\s+'`` instead\n",
      "  loss = pd.read_csv(\"C:/Users/charl/College/acm40980/acm40980_code/laplace2_soft_square_loss\",\n"
     ]
    }
   ],
   "source": [
    "loss = pd.read_csv(\"C:/Users/charl/College/acm40980/acm40980_code/laplace2_soft_square_loss\", \n",
    "            delim_whitespace=True)\n",
    "pde_loss = loss.to_numpy()[:,0]\n",
    "bc_loss = loss.to_numpy()[:,1] + loss.to_numpy()[:,2] + loss.to_numpy()[:,3] + loss.to_numpy()[:,4]\n",
    "\n",
    "epochs = np.arange(0,26000,1000)\n",
    "epochs_array = np.append(epochs,25001)\n",
    "\n",
    "pde_loss_array = np.append(pde_loss[:11], pde_loss[12:])\n",
    "bc_loss_array = np.append(bc_loss[:11], bc_loss[12:])"
   ]
  },
  {
   "cell_type": "code",
   "execution_count": 46,
   "id": "f10d738d-a188-4e43-aba6-f5f5db009076",
   "metadata": {},
   "outputs": [],
   "source": [
    "loss4 = pde_loss_array + bc_loss_array"
   ]
  },
  {
   "cell_type": "code",
   "execution_count": 47,
   "id": "31462ba7-9161-4fca-bbc9-eabd5ca0c03e",
   "metadata": {},
   "outputs": [
    {
     "name": "stderr",
     "output_type": "stream",
     "text": [
      "C:\\Users\\charl\\AppData\\Local\\Temp\\ipykernel_15748\\66092829.py:1: FutureWarning: The 'delim_whitespace' keyword in pd.read_csv is deprecated and will be removed in a future version. Use ``sep='\\s+'`` instead\n",
      "  loss = pd.read_csv(\"C:/Users/charl/College/acm40980/acm40980_code/laplace2_soft_long_loss\",\n"
     ]
    }
   ],
   "source": [
    "loss = pd.read_csv(\"C:/Users/charl/College/acm40980/acm40980_code/laplace2_soft_long_loss\", \n",
    "            delim_whitespace=True)\n",
    "pde_loss = loss.to_numpy()[:,0]\n",
    "bc_loss = loss.to_numpy()[:,1] + loss.to_numpy()[:,2] + loss.to_numpy()[:,3] + loss.to_numpy()[:,4]\n",
    "\n",
    "epochs = np.arange(0,26000,1000)\n",
    "epochs_array = np.append(epochs,25001)\n",
    "\n",
    "pde_loss_array = np.append(pde_loss[:11], pde_loss[12:])\n",
    "bc_loss_array = np.append(bc_loss[:11], bc_loss[12:])"
   ]
  },
  {
   "cell_type": "code",
   "execution_count": 48,
   "id": "8e2e88e9-a292-44d1-8397-c5a980980f89",
   "metadata": {},
   "outputs": [],
   "source": [
    "loss5 = pde_loss_array + bc_loss_array"
   ]
  },
  {
   "cell_type": "code",
   "execution_count": 49,
   "id": "4e6b367a-6d9a-469c-b47b-b12226e83e87",
   "metadata": {},
   "outputs": [
    {
     "name": "stderr",
     "output_type": "stream",
     "text": [
      "C:\\Users\\charl\\AppData\\Local\\Temp\\ipykernel_15748\\1600593431.py:1: FutureWarning: The 'delim_whitespace' keyword in pd.read_csv is deprecated and will be removed in a future version. Use ``sep='\\s+'`` instead\n",
      "  loss = pd.read_csv(\"C:/Users/charl/College/acm40980/acm40980_code/laplace2_soft_oblong_loss\",\n"
     ]
    }
   ],
   "source": [
    "loss = pd.read_csv(\"C:/Users/charl/College/acm40980/acm40980_code/laplace2_soft_oblong_loss\", \n",
    "            delim_whitespace=True)\n",
    "pde_loss = loss.to_numpy()[:,0]\n",
    "bc_loss = loss.to_numpy()[:,1] + loss.to_numpy()[:,2] + loss.to_numpy()[:,3] + loss.to_numpy()[:,4]\n",
    "\n",
    "epochs = np.arange(0,26000,1000)\n",
    "epochs_array = np.append(epochs,25001)\n",
    "\n",
    "pde_loss_array = np.append(pde_loss[:11], pde_loss[12:])\n",
    "bc_loss_array = np.append(bc_loss[:11], bc_loss[12:])"
   ]
  },
  {
   "cell_type": "code",
   "execution_count": 50,
   "id": "6ad6c13e-3af3-4b58-95e0-2ae416fb630c",
   "metadata": {},
   "outputs": [],
   "source": [
    "loss6 = pde_loss_array + bc_loss_array"
   ]
  },
  {
   "cell_type": "code",
   "execution_count": 75,
   "id": "4f5230fa-f009-4012-a17c-4f4f216e4b0e",
   "metadata": {},
   "outputs": [
    {
     "data": {
      "image/png": "[encoded data removed]",
      "text/plain": [
       "<Figure size 700x450 with 1 Axes>"
      ]
     },
     "metadata": {},
     "output_type": "display_data"
    }
   ],
   "source": [
    "font = {'family': 'sans-serif',\n",
    "        'weight': 'normal',\n",
    "        'size': 12}\n",
    "plt.rc('font', **font)\n",
    "\n",
    "fig = plt.figure(figsize=(7,4.5))\n",
    "plt.plot(epochs_array, loss1, 'o', color='blue')\n",
    "plt.plot(epochs_array, loss2, 'o', color='red')\n",
    "plt.plot(epochs_array, loss3, 'o', color='black')\n",
    "\n",
    "plt.plot(epochs_array, loss4, '^', color='blue')\n",
    "plt.plot(epochs_array, loss5, '^', color='red')\n",
    "plt.plot(epochs_array, loss6, '^', color='black')\n",
    "\n",
    "plt.plot(epochs_array, loss1, color='blue')\n",
    "plt.plot(epochs_array, loss2, color='red')\n",
    "plt.plot(epochs_array, loss3, color='black')\n",
    "\n",
    "plt.plot(epochs_array, loss4, color='blue')\n",
    "plt.plot(epochs_array, loss5, color='red')\n",
    "plt.plot(epochs_array, loss6, color='black')\n",
    "\n",
    "#plt.legend([r'$\\mathcal{L}_c$', r'$\\mathcal{L}_b$'])\n",
    "plt.title('(a)')\n",
    "plt.xlabel('Epochs')\n",
    "plt.ylabel('Loss', rotation=90)\n",
    "plt.yscale('log')\n",
    "plt.ylim(0.0000001,10)\n",
    "plt.grid()\n",
    "\n",
    "plt.vlines(x=10000, ymin=0.00000001, ymax=10, colors='purple', ls='--', lw=2)\n",
    "\n",
    "plt.legend(['Case 1. Soft Square','Case 1. Soft Long','Case 1. Soft Oblong','Case 2. Soft Square','Case 2. Soft Long','Case 2. Soft Oblong'], loc = \"upper right\")\n",
    "\n",
    "plt.savefig(\"laplace_soft_loss_pic\", bbox_inches = 'tight')"
   ]
  },
  {
   "cell_type": "markdown",
   "id": "7ea70859-d5f1-4314-afd3-43d32b377eb3",
   "metadata": {},
   "source": [
    "# Hard-PINN Loss Plot"
   ]
  },
  {
   "cell_type": "code",
   "execution_count": 52,
   "id": "9899820b-3a17-4cce-9467-c58f5e7f4eee",
   "metadata": {},
   "outputs": [
    {
     "name": "stderr",
     "output_type": "stream",
     "text": [
      "C:\\Users\\charl\\AppData\\Local\\Temp\\ipykernel_15748\\347688437.py:1: FutureWarning: The 'delim_whitespace' keyword in pd.read_csv is deprecated and will be removed in a future version. Use ``sep='\\s+'`` instead\n",
      "  loss = pd.read_csv(\"C:/Users/charl/College/acm40980/acm40980_code/laplace1_hard_square_loss\",\n"
     ]
    }
   ],
   "source": [
    "loss = pd.read_csv(\"C:/Users/charl/College/acm40980/acm40980_code/laplace1_hard_square_loss\", \n",
    "            delim_whitespace=True)\n",
    "pde_loss = loss.to_numpy()[:,1]\n",
    "\n",
    "epochs = np.arange(0,26000,1000)\n",
    "epochs_array = np.append(epochs,25002)\n",
    "\n",
    "pde_loss_array = np.append(pde_loss[:11], pde_loss[12:])"
   ]
  },
  {
   "cell_type": "code",
   "execution_count": 53,
   "id": "87d08a2f-d5f4-48f1-b79a-09254fcf0bf3",
   "metadata": {},
   "outputs": [],
   "source": [
    "loss7 = pde_loss_array"
   ]
  },
  {
   "cell_type": "code",
   "execution_count": 54,
   "id": "7b0ddb03-fa01-44a5-a667-1a0fc6bd75ae",
   "metadata": {},
   "outputs": [
    {
     "name": "stderr",
     "output_type": "stream",
     "text": [
      "C:\\Users\\charl\\AppData\\Local\\Temp\\ipykernel_15748\\1323185123.py:1: FutureWarning: The 'delim_whitespace' keyword in pd.read_csv is deprecated and will be removed in a future version. Use ``sep='\\s+'`` instead\n",
      "  loss = pd.read_csv(\"C:/Users/charl/College/acm40980/acm40980_code/laplace1_hard_long_loss\",\n"
     ]
    }
   ],
   "source": [
    "loss = pd.read_csv(\"C:/Users/charl/College/acm40980/acm40980_code/laplace1_hard_long_loss\", \n",
    "            delim_whitespace=True)\n",
    "pde_loss = loss.to_numpy()[:,1]\n",
    "\n",
    "epochs = np.arange(0,26000,1000)\n",
    "epochs_array = np.append(epochs,25002)\n",
    "\n",
    "pde_loss_array = np.append(pde_loss[:11], pde_loss[12:])"
   ]
  },
  {
   "cell_type": "code",
   "execution_count": 55,
   "id": "990ad42c-fa00-49c5-87e6-16b184a9ff04",
   "metadata": {},
   "outputs": [],
   "source": [
    "loss8 = pde_loss_array"
   ]
  },
  {
   "cell_type": "code",
   "execution_count": 56,
   "id": "92966754-4808-415d-aaa6-712c19d6f72f",
   "metadata": {},
   "outputs": [
    {
     "name": "stderr",
     "output_type": "stream",
     "text": [
      "C:\\Users\\charl\\AppData\\Local\\Temp\\ipykernel_15748\\3426252670.py:1: FutureWarning: The 'delim_whitespace' keyword in pd.read_csv is deprecated and will be removed in a future version. Use ``sep='\\s+'`` instead\n",
      "  loss = pd.read_csv(\"C:/Users/charl/College/acm40980/acm40980_code/laplace1_hard_oblong_loss\",\n"
     ]
    }
   ],
   "source": [
    "loss = pd.read_csv(\"C:/Users/charl/College/acm40980/acm40980_code/laplace1_hard_oblong_loss\", \n",
    "            delim_whitespace=True)\n",
    "pde_loss = loss.to_numpy()[:,1]\n",
    "\n",
    "epochs = np.arange(0,26000,1000)\n",
    "epochs_array = np.append(epochs,25001)\n",
    "\n",
    "pde_loss_array = np.append(pde_loss[:11], pde_loss[12:])"
   ]
  },
  {
   "cell_type": "code",
   "execution_count": 57,
   "id": "3adb8fd9-a0ba-4b55-a226-dcf301388512",
   "metadata": {},
   "outputs": [],
   "source": [
    "loss9 = pde_loss_array"
   ]
  },
  {
   "cell_type": "code",
   "execution_count": 58,
   "id": "470930fb-8d8f-4d31-ae6e-0d639c6dccc8",
   "metadata": {},
   "outputs": [
    {
     "name": "stderr",
     "output_type": "stream",
     "text": [
      "C:\\Users\\charl\\AppData\\Local\\Temp\\ipykernel_15748\\1141530042.py:1: FutureWarning: The 'delim_whitespace' keyword in pd.read_csv is deprecated and will be removed in a future version. Use ``sep='\\s+'`` instead\n",
      "  loss = pd.read_csv(\"C:/Users/charl/College/acm40980/acm40980_code/laplace2_hard_square_loss\",\n"
     ]
    }
   ],
   "source": [
    "loss = pd.read_csv(\"C:/Users/charl/College/acm40980/acm40980_code/laplace2_hard_square_loss\", \n",
    "            delim_whitespace=True)\n",
    "pde_loss = loss.to_numpy()[:,1]\n",
    "\n",
    "epochs = np.arange(0,26000,1000)\n",
    "epochs_array = np.append(epochs,25002)\n",
    "\n",
    "pde_loss_array = np.append(pde_loss[:11], pde_loss[12:])"
   ]
  },
  {
   "cell_type": "code",
   "execution_count": 59,
   "id": "1bcd6f9c-6056-43ef-a3eb-5ea8e6ce3fcb",
   "metadata": {},
   "outputs": [],
   "source": [
    "loss10 = pde_loss_array"
   ]
  },
  {
   "cell_type": "code",
   "execution_count": 60,
   "id": "af9863f1-cc8c-4768-9a17-02fb148cd6ff",
   "metadata": {},
   "outputs": [
    {
     "name": "stderr",
     "output_type": "stream",
     "text": [
      "C:\\Users\\charl\\AppData\\Local\\Temp\\ipykernel_15748\\3569928800.py:1: FutureWarning: The 'delim_whitespace' keyword in pd.read_csv is deprecated and will be removed in a future version. Use ``sep='\\s+'`` instead\n",
      "  loss = pd.read_csv(\"C:/Users/charl/College/acm40980/acm40980_code/laplace2_hard_long_loss\",\n"
     ]
    }
   ],
   "source": [
    "loss = pd.read_csv(\"C:/Users/charl/College/acm40980/acm40980_code/laplace2_hard_long_loss\", \n",
    "            delim_whitespace=True)\n",
    "pde_loss = loss.to_numpy()[:,1]\n",
    "\n",
    "epochs = np.arange(0,26000,1000)\n",
    "epochs_array = np.append(epochs,25001)\n",
    "\n",
    "pde_loss_array = np.append(pde_loss[:11], pde_loss[12:])"
   ]
  },
  {
   "cell_type": "code",
   "execution_count": 61,
   "id": "3c332afd-1978-4d49-b3c2-e8c5bb9b31a4",
   "metadata": {},
   "outputs": [],
   "source": [
    "loss11 = pde_loss_array"
   ]
  },
  {
   "cell_type": "code",
   "execution_count": 62,
   "id": "37ff2e09-3db3-42a3-aa0d-a712a311cd4b",
   "metadata": {},
   "outputs": [
    {
     "name": "stderr",
     "output_type": "stream",
     "text": [
      "C:\\Users\\charl\\AppData\\Local\\Temp\\ipykernel_15748\\3905139272.py:1: FutureWarning: The 'delim_whitespace' keyword in pd.read_csv is deprecated and will be removed in a future version. Use ``sep='\\s+'`` instead\n",
      "  loss = pd.read_csv(\"C:/Users/charl/College/acm40980/acm40980_code/laplace2_hard_oblong_loss\",\n"
     ]
    }
   ],
   "source": [
    "loss = pd.read_csv(\"C:/Users/charl/College/acm40980/acm40980_code/laplace2_hard_oblong_loss\", \n",
    "            delim_whitespace=True)\n",
    "pde_loss = loss.to_numpy()[:,1]\n",
    "\n",
    "epochs = np.arange(0,26000,1000)\n",
    "epochs_array = np.append(epochs,25001)\n",
    "\n",
    "pde_loss_array = np.append(pde_loss[:11], pde_loss[12:])"
   ]
  },
  {
   "cell_type": "code",
   "execution_count": 63,
   "id": "073f819f-969b-40b5-a04c-38a7dfd73676",
   "metadata": {},
   "outputs": [],
   "source": [
    "loss12 = pde_loss_array"
   ]
  },
  {
   "cell_type": "code",
   "execution_count": 76,
   "id": "6cee7c7e-bf64-4647-bb05-51432d122d10",
   "metadata": {},
   "outputs": [
    {
     "data": {
      "image/png": "[encoded data removed]",
      "text/plain": [
       "<Figure size 700x450 with 1 Axes>"
      ]
     },
     "metadata": {},
     "output_type": "display_data"
    }
   ],
   "source": [
    "font = {'family': 'sans-serif',\n",
    "        'weight': 'normal',\n",
    "        'size': 12}\n",
    "plt.rc('font', **font)\n",
    "\n",
    "fig = plt.figure(figsize=(7,4.5))\n",
    "plt.plot(epochs_array, loss7, 'o', color='blue')\n",
    "plt.plot(epochs_array, loss8, 'o', color='red')\n",
    "plt.plot(epochs_array, loss9, 'o', color='black')\n",
    "\n",
    "plt.plot(epochs_array, loss10, '^', color='blue')\n",
    "plt.plot(epochs_array, loss11, '^', color='red')\n",
    "plt.plot(epochs_array, loss12, '^', color='black')\n",
    "\n",
    "plt.plot(epochs_array, loss7, color='blue')\n",
    "plt.plot(epochs_array, loss8, color='red')\n",
    "plt.plot(epochs_array, loss9, color='black')\n",
    "\n",
    "plt.plot(epochs_array, loss10, color='blue')\n",
    "plt.plot(epochs_array, loss11, color='red')\n",
    "plt.plot(epochs_array, loss12, color='black')\n",
    "\n",
    "#plt.legend([r'$\\mathcal{L}_c$', r'$\\mathcal{L}_b$'])\n",
    "plt.title('(b)')\n",
    "plt.xlabel('Epochs')\n",
    "plt.ylabel('Loss', rotation=90)\n",
    "plt.yscale('log')\n",
    "plt.ylim(0.0000000001,1000)\n",
    "plt.grid()\n",
    "\n",
    "plt.vlines(x=10000, ymin=0.0000000001, ymax=1000, colors='purple', ls='--', lw=2)\n",
    "\n",
    "plt.legend(['Case 1. Hard Square','Case 1. Hard Long','Case 1. Hard Oblong','Case 2. Hard Square','Case 2. Hard Long','Case 2. Hard Oblong'], loc = \"upper right\")\n",
    "\n",
    "plt.savefig(\"laplace_hard_loss_pic\", bbox_inches = 'tight')"
   ]
  },
  {
   "cell_type": "markdown",
   "id": "64174eda-53c4-4e80-8934-3f2d16166600",
   "metadata": {},
   "source": [
    "# Relative Error - Test"
   ]
  },
  {
   "cell_type": "code",
   "execution_count": 67,
   "id": "0872ba1d-cf2a-4300-a5d2-ac542fd174fc",
   "metadata": {},
   "outputs": [],
   "source": [
    "def u1(x, y): \n",
    "    return (np.sinh(np.pi*y)/np.sinh(np.pi))*np.sin(np.pi*x)"
   ]
  },
  {
   "cell_type": "code",
   "execution_count": 87,
   "id": "3ad8c3c5-bb96-4b8b-9730-ea2569aa90c4",
   "metadata": {},
   "outputs": [],
   "source": [
    "def u2(x, y): \n",
    "    sum = 0\n",
    "    for k in range(1,200):\n",
    "        sum = sum + -(4 * (-1 + (-1)**k) * (1/np.sinh(np.pi*k)) * np.sin(np.pi*y*k) * np.sinh(np.pi*(1-x)*k))/(np.pi**3 * k**3) -(4 * (-1 + (-1)**k) * (1/np.sinh(np.pi*k)) * np.sin(np.pi*y*k) * np.sinh(np.pi*x*k))/(np.pi**3 * k**3) -(4 * (-1 + (-1)**k) * (1/np.sinh(np.pi*k)) * np.sin(np.pi*x*k) * np.sinh(np.pi*(1-y)*k))/(np.pi**3 * k**3) -(4 * (-1 + (-1)**k) * (1/np.sinh(np.pi*k)) * np.sin(np.pi*x*k) * np.sinh(np.pi*y*k))/(np.pi**3 * k**3)\n",
    "    return sum"
   ]
  },
  {
   "cell_type": "code",
   "execution_count": 99,
   "id": "d1df39bf-af0a-4a6b-b346-421278d0039a",
   "metadata": {},
   "outputs": [],
   "source": [
    "Nx = 100\n",
    "Ny = 100\n",
    "\n",
    "xmin, xmax, ymin, ymax = [0.1, 0.9, 0.1, 0.9]\n",
    "plot_grid = np.mgrid[xmin : xmax : Nx * 1j, ymin : ymax : Ny * 1j]\n",
    "\n",
    "points = np.vstack((\n",
    "    plot_grid[0].ravel(), \n",
    "    plot_grid[1].ravel()\n",
    "    ))"
   ]
  },
  {
   "cell_type": "code",
   "execution_count": 100,
   "id": "6866dfba-3676-4a2a-aa19-de37a7bb771e",
   "metadata": {},
   "outputs": [],
   "source": [
    "test = np.concatenate([points[0].reshape(len(points[0]),1),\n",
    "                       points[1].reshape(len(points[0]),1)], axis=1)"
   ]
  },
  {
   "cell_type": "code",
   "execution_count": 101,
   "id": "1c7b76d2-3e70-4e22-bd3b-304b54063f0d",
   "metadata": {},
   "outputs": [],
   "source": [
    "u1_exact = u1(points[0],points[1])\n",
    "\n",
    "u_square_1_s = model_square_1_s.predict(test)\n",
    "u_long_1_s = model_long_1_s.predict(test)\n",
    "u_oblong_1_s = model_oblong_1_s.predict(test)\n",
    "\n",
    "u_square_1_h = model_square_1_h.predict(test)\n",
    "u_long_1_h = model_long_1_h.predict(test)\n",
    "u_oblong_1_h = model_oblong_1_h.predict(test)\n",
    "\n",
    "u2_exact = u2(points[0],points[1])\n",
    "\n",
    "u_square_2_s = model_square_2_s.predict(test)\n",
    "u_long_2_s = model_long_2_s.predict(test)\n",
    "u_oblong_2_s = model_oblong_2_s.predict(test)\n",
    "\n",
    "u_square_2_h = model_square_2_h.predict(test)\n",
    "u_long_2_h = model_long_2_h.predict(test)\n",
    "u_oblong_2_h = model_oblong_2_h.predict(test)"
   ]
  },
  {
   "cell_type": "code",
   "execution_count": 102,
   "id": "95de449c-6830-43fd-9394-e581baa256f5",
   "metadata": {},
   "outputs": [
    {
     "name": "stdout",
     "output_type": "stream",
     "text": [
      "0.00037225289497446357\n",
      "0.0001592630492548944\n",
      "0.003248063690995968\n",
      "3.590724734221195e-07\n",
      "2.3451464613932812e-07\n",
      "2.292688385616678e-06\n",
      "0.002975638485974848\n",
      "0.0002714781839743835\n",
      "0.0029328906029675774\n",
      "0.00014779085483306864\n",
      "1.3746857647909058e-05\n",
      "0.0002979353726733143\n"
     ]
    }
   ],
   "source": [
    "print(dde.metrics.l2_relative_error(np.round(u1_exact,15), np.round(u_square_1_s.flatten(),15)))\n",
    "print(dde.metrics.l2_relative_error(np.round(u1_exact,15), np.round(u_long_1_s.flatten(),15)))\n",
    "print(dde.metrics.l2_relative_error(np.round(u1_exact,15), np.round(u_oblong_1_s.flatten(),15)))\n",
    "\n",
    "print(dde.metrics.l2_relative_error(np.round(u1_exact,15), np.round(u_square_1_h.flatten(),15)))\n",
    "print(dde.metrics.l2_relative_error(np.round(u1_exact,15), np.round(u_long_1_h.flatten(),15)))\n",
    "print(dde.metrics.l2_relative_error(np.round(u1_exact,15), np.round(u_oblong_1_h.flatten(),15)))\n",
    "\n",
    "print(dde.metrics.l2_relative_error(np.round(u2_exact,15), np.round(u_square_2_s.flatten(),15)))\n",
    "print(dde.metrics.l2_relative_error(np.round(u2_exact,15), np.round(u_long_2_s.flatten(),15)))\n",
    "print(dde.metrics.l2_relative_error(np.round(u2_exact,15), np.round(u_oblong_2_s.flatten(),15)))\n",
    "\n",
    "print(dde.metrics.l2_relative_error(np.round(u2_exact,15), np.round(u_square_2_h.flatten(),15)))\n",
    "print(dde.metrics.l2_relative_error(np.round(u2_exact,15), np.round(u_long_2_h.flatten(),15)))\n",
    "print(dde.metrics.l2_relative_error(np.round(u2_exact,15), np.round(u_oblong_2_h.flatten(),15)))"
   ]
  },
  {
   "cell_type": "code",
   "execution_count": 104,
   "id": "47984e33-072f-470c-b794-5f8ca152e9ea",
   "metadata": {},
   "outputs": [
    {
     "name": "stdout",
     "output_type": "stream",
     "text": [
      "0.00037225289497446357\n",
      "0.0001592630492548944\n",
      "0.003248063690995968\n",
      "0.002975638485974848\n",
      "0.0002714781839743835\n",
      "0.0029328906029675774\n"
     ]
    }
   ],
   "source": [
    "print(dde.metrics.l2_relative_error(np.round(u1_exact,15), np.round(u_square_1_s.flatten(),15)))\n",
    "print(dde.metrics.l2_relative_error(np.round(u1_exact,15), np.round(u_long_1_s.flatten(),15)))\n",
    "print(dde.metrics.l2_relative_error(np.round(u1_exact,15), np.round(u_oblong_1_s.flatten(),15)))\n",
    "\n",
    "print(dde.metrics.l2_relative_error(np.round(u2_exact,15), np.round(u_square_2_s.flatten(),15)))\n",
    "print(dde.metrics.l2_relative_error(np.round(u2_exact,15), np.round(u_long_2_s.flatten(),15)))\n",
    "print(dde.metrics.l2_relative_error(np.round(u2_exact,15), np.round(u_oblong_2_s.flatten(),15)))"
   ]
  },
  {
   "cell_type": "markdown",
   "id": "0c181818-9344-40d6-b997-0d1dafb8601c",
   "metadata": {},
   "source": [
    "# Absolute Error "
   ]
  },
  {
   "cell_type": "code",
   "execution_count": 103,
   "id": "a7f178c0-1db1-4ffb-a46f-40140835a9b4",
   "metadata": {},
   "outputs": [
    {
     "data": {
      "image/png": "[encoded data removed]",
      "text/plain": [
       "<Figure size 1700x1900 with 24 Axes>"
      ]
     },
     "metadata": {},
     "output_type": "display_data"
    }
   ],
   "source": [
    "from matplotlib import cm, ticker\n",
    "\n",
    "font = {'family': 'sans-serif',\n",
    "        'weight': 'normal',\n",
    "        'size': 12}\n",
    "plt.rc('font', **font)\n",
    "\n",
    "from mpl_toolkits.axes_grid1 import make_axes_locatable\n",
    "fig = plt.figure(figsize=(17,19))\n",
    "\n",
    "levels = np.logspace(np.log10(10**-10), np.log10(10**-2), num=9)\n",
    "\n",
    "#ROW 1\n",
    "#IMAGE 1\n",
    "ax1 = fig.add_subplot(4,3,1)\n",
    "error_square = np.abs(u_square_1_s.reshape((Nx,Ny)) - u1_exact.reshape((Nx,Ny)))\n",
    "er1 = ax1.contourf(plot_grid[0], plot_grid[1], error_square, cmap='jet', alpha=0.6, locator=ticker.LogLocator(), vmin=10**-10, vmax=10**-2, levels=levels)\n",
    "ax1.set_xticks([])\n",
    "ax1.set_yticks([])\n",
    "ax1.set_title('(a)');\n",
    "ax1.set_xlabel('x')\n",
    "ax1.set_ylabel('y')\n",
    "ax1.set_xticks([0,1])\n",
    "ax1.set_yticks([0,1])\n",
    "#IMAGE 2\n",
    "ax2 = fig.add_subplot(4,3,2)\n",
    "error_long = np.abs(u_long_1_s.reshape((Nx,Ny)) - u1_exact.reshape((Nx,Ny)))\n",
    "er2 = ax2.contourf(plot_grid[0], plot_grid[1], error_long, cmap='jet', alpha=0.6, locator=ticker.LogLocator(), vmin=10**-10, vmax=10**-2, levels=levels)\n",
    "ax2.set_xticks([])\n",
    "ax2.set_yticks([])\n",
    "ax2.set_title('(b)');\n",
    "ax2.set_xlabel('x')\n",
    "ax2.set_ylabel('y')\n",
    "ax2.set_xticks([0,1])\n",
    "ax2.set_yticks([0,1])\n",
    "#IMAGE 3\n",
    "ax3 = fig.add_subplot(4,3,3)\n",
    "error_oblong = np.abs(u_oblong_1_s.reshape((Nx,Ny)) - u1_exact.reshape((Nx,Ny)))\n",
    "er3 = ax3.contourf(plot_grid[0], plot_grid[1], error_oblong, cmap='jet', alpha=0.6, locator=ticker.LogLocator(), vmin=10**-10, vmax=10**-2, levels=levels)\n",
    "ax3.set_xticks([])\n",
    "ax3.set_yticks([])\n",
    "ax3.set_title('(c)');\n",
    "ax3.set_xlabel('x')\n",
    "ax3.set_ylabel('y')\n",
    "ax3.set_xticks([0,1])\n",
    "ax3.set_yticks([0,1])\n",
    "#IMAGE 4\n",
    "ax4 = fig.add_subplot(4,3,4)\n",
    "error_square = np.abs(u_square_2_s.reshape((Nx,Ny)) - u2_exact.reshape((Nx,Ny)))\n",
    "er4 = ax4.contourf(plot_grid[0], plot_grid[1], error_square, cmap='jet', alpha=0.6, locator=ticker.LogLocator(), vmin=10**-10, vmax=10**-2, levels=levels)\n",
    "ax4.set_xticks([])\n",
    "ax4.set_yticks([])\n",
    "ax4.set_title('(d)');\n",
    "ax4.set_xlabel('x')\n",
    "ax4.set_ylabel('y')\n",
    "ax4.set_xticks([0,1])\n",
    "ax4.set_yticks([0,1])\n",
    "#IMAGE 5\n",
    "ax5 = fig.add_subplot(4,3,5)\n",
    "error_long = np.abs(u_long_2_s.reshape((Nx,Ny)) - u2_exact.reshape((Nx,Ny)))\n",
    "er5 = ax5.contourf(plot_grid[0], plot_grid[1], error_long, cmap='jet', alpha=0.6, locator=ticker.LogLocator(), vmin=10**-10, vmax=10**-2, levels=levels)\n",
    "ax5.set_xticks([])\n",
    "ax5.set_yticks([])\n",
    "ax5.set_title('(e)');\n",
    "ax5.set_xlabel('x')\n",
    "ax5.set_ylabel('y')\n",
    "ax5.set_xticks([0,1])\n",
    "ax5.set_yticks([0,1])\n",
    "#IMAGE 6\n",
    "ax6 = fig.add_subplot(4,3,6)\n",
    "error_oblong = np.abs(u_oblong_2_s.reshape((Nx,Ny)) - u2_exact.reshape((Nx,Ny)))\n",
    "er6 = ax6.contourf(plot_grid[0], plot_grid[1], error_oblong, cmap='jet', alpha=0.6, locator=ticker.LogLocator(), vmin=10**-10, vmax=10**-2, levels=levels)\n",
    "ax6.set_xticks([])\n",
    "ax6.set_yticks([])\n",
    "ax6.set_title('(f)');\n",
    "ax6.set_xlabel('x')\n",
    "ax6.set_ylabel('y')\n",
    "ax6.set_xticks([0,1])\n",
    "ax6.set_yticks([0,1])\n",
    "\n",
    "#ROW 2\n",
    "#IMAGE 1\n",
    "ax7 = fig.add_subplot(4,3,7)\n",
    "error_square = np.abs(u_square_1_h.reshape((Nx,Ny)) - u1_exact.reshape((Nx,Ny)))\n",
    "er7 = ax7.contourf(plot_grid[0], plot_grid[1], error_square, cmap='jet', alpha=0.6, locator=ticker.LogLocator(), vmin=10**-10, vmax=10**-2, levels=levels)\n",
    "ax7.set_xticks([])\n",
    "ax7.set_yticks([])\n",
    "ax7.set_title('(g)');\n",
    "ax7.set_xlabel('x')\n",
    "ax7.set_ylabel('y')\n",
    "ax7.set_xticks([0,1])\n",
    "ax7.set_yticks([0,1])\n",
    "#IMAGE 2\n",
    "ax8 = fig.add_subplot(4,3,8)\n",
    "error_long = np.abs(u_long_1_h.reshape((Nx,Ny)) - u1_exact.reshape((Nx,Ny)))\n",
    "er8 = ax8.contourf(plot_grid[0], plot_grid[1], error_long, cmap='jet', alpha=0.6, locator=ticker.LogLocator(), vmin=10**-10, vmax=10**-2, levels=levels)\n",
    "ax8.set_xticks([])\n",
    "ax8.set_yticks([])\n",
    "ax8.set_title('(h)');\n",
    "ax8.set_xlabel('x')\n",
    "ax8.set_ylabel('y')\n",
    "ax8.set_xticks([0,1])\n",
    "ax8.set_yticks([0,1])\n",
    "#IMAGE 3\n",
    "ax9 = fig.add_subplot(4,3,9)\n",
    "error_oblong = np.abs(u_oblong_1_h.reshape((Nx,Ny)) - u1_exact.reshape((Nx,Ny)))\n",
    "er9 = ax9.contourf(plot_grid[0], plot_grid[1], error_oblong, cmap='jet', alpha=0.6, locator=ticker.LogLocator(), vmin=10**-10, vmax=10**-2, levels=levels)\n",
    "ax9.set_xticks([])\n",
    "ax9.set_yticks([])\n",
    "ax9.set_title('(i)');\n",
    "ax9.set_xlabel('x')\n",
    "ax9.set_ylabel('y')\n",
    "ax9.set_xticks([0,1])\n",
    "ax9.set_yticks([0,1])\n",
    "#IMAGE 4\n",
    "ax10 = fig.add_subplot(4,3,10)\n",
    "error_square = np.abs(u_square_2_h.reshape((Nx,Ny)) - u2_exact.reshape((Nx,Ny)))\n",
    "er10 = ax10.contourf(plot_grid[0], plot_grid[1], error_square, cmap='jet', alpha=0.6, locator=ticker.LogLocator(), vmin=10**-10, vmax=10**-2, levels=levels)\n",
    "ax10.set_xticks([])\n",
    "ax10.set_yticks([])\n",
    "ax10.set_title('(j)');\n",
    "ax10.set_xlabel('x')\n",
    "ax10.set_ylabel('y')\n",
    "ax10.set_xticks([0,1])\n",
    "ax10.set_yticks([0,1])\n",
    "#IMAGE 5\n",
    "ax11 = fig.add_subplot(4,3,11)\n",
    "error_long = np.abs(u_long_2_h.reshape((Nx,Ny)) - u2_exact.reshape((Nx,Ny)))\n",
    "er11 = ax11.contourf(plot_grid[0], plot_grid[1], error_long, cmap='jet', alpha=0.6, locator=ticker.LogLocator(), vmin=10**-10, vmax=10**-2, levels=levels)\n",
    "ax11.set_xticks([])\n",
    "ax11.set_yticks([])\n",
    "ax11.set_title('(k)');\n",
    "ax11.set_xlabel('x')\n",
    "ax11.set_ylabel('y')\n",
    "ax11.set_xticks([0,1])\n",
    "ax11.set_yticks([0,1])\n",
    "#IMAGE 6\n",
    "ax12 = fig.add_subplot(4,3,12)\n",
    "error_oblong = np.abs(u_oblong_2_h.reshape((Nx,Ny)) - u2_exact.reshape((Nx,Ny)))\n",
    "er12 = ax12.contourf(plot_grid[0], plot_grid[1], error_oblong, cmap='jet', alpha=0.6, locator=ticker.LogLocator(), vmin=10**-10, vmax=10**-2, levels=levels)\n",
    "ax12.set_xticks([])\n",
    "ax12.set_yticks([])\n",
    "ax12.set_title('(l)');\n",
    "ax12.set_xlabel('x')\n",
    "ax12.set_ylabel('y')\n",
    "ax12.set_xticks([0,1])\n",
    "ax12.set_yticks([0,1])\n",
    "\n",
    "fig.colorbar(er1)\n",
    "fig.colorbar(er2)\n",
    "fig.colorbar(er3)\n",
    "fig.colorbar(er4)\n",
    "fig.colorbar(er5)\n",
    "fig.colorbar(er6)\n",
    "fig.colorbar(er7)\n",
    "fig.colorbar(er8)\n",
    "fig.colorbar(er9)\n",
    "fig.colorbar(er10)\n",
    "fig.colorbar(er11)\n",
    "fig.colorbar(er12)\n",
    "\n",
    "plt.subplots_adjust(hspace=0.3, wspace=0.3)\n",
    "#plt.savefig(\"laplace_error\", bbox_inches = 'tight')"
   ]
  },
  {
   "cell_type": "markdown",
   "id": "c15cf693-5bf4-4344-ac76-be53a7845d7d",
   "metadata": {},
   "source": [
    "# Training Points"
   ]
  },
  {
   "cell_type": "code",
   "execution_count": null,
   "id": "6b061c62-8743-466e-8715-ecf390ba41ce",
   "metadata": {},
   "outputs": [],
   "source": [
    "font = {'family': 'sans-serif',\n",
    "        'weight': 'normal',\n",
    "        'size': 10}\n",
    "plt.rc('font', **font)\n",
    "\n",
    "from mpl_toolkits.axes_grid1 import make_axes_locatable\n",
    "fig = plt.figure(figsize=(5,4.5))\n",
    "\n",
    "vmin=0\n",
    "vmax=1\n",
    "\n",
    "#ROW 1\n",
    "#IMAGE 1\n",
    "ax1 = fig.add_subplot(1,1,1)\n",
    "im = ax1.contourf(plot_grid[0], plot_grid[1], u1_exact.reshape((Nx,Ny)), cmap='jet', alpha=0.4, vmin=0, vmax=1, levels=10)\n",
    "ax1.set_xticks([])\n",
    "ax1.set_yticks([])\n",
    "ax1.set_title('(a)');\n",
    "ax1.scatter(data1.train_x_all[:,0], data1.train_x_all[:,1], marker='.', c='black')\n",
    "ax1.scatter(data1.train_x_bc[:,0], data1.train_x_bc[:,1], marker='.', c='red')\n",
    "ax1.set_ylim(-0.01,1.01)\n",
    "ax1.set_xlim(-0.01,1.01)\n",
    "ax1.set_xlabel('x')\n",
    "ax1.set_ylabel('y')\n",
    "ax1.set_xticks([0,0.5,1])\n",
    "ax1.set_yticks([0,0.5,1])\n",
    "\n",
    "divider = make_axes_locatable(ax1)\n",
    "cax = divider.append_axes('right', size='5%', pad=0.05)\n",
    "fig.colorbar(im, cax=cax, orientation='vertical')\n",
    "\n",
    "plt.savefig(\"laplace1_soft_points\", bbox_inches = 'tight')"
   ]
  },
  {
   "cell_type": "code",
   "execution_count": 127,
   "id": "a2af15ea-6683-4d3d-a454-4c016c54c31b",
   "metadata": {},
   "outputs": [
    {
     "data": {
      "image/png": "[encoded data removed]",
      "text/plain": [
       "<Figure size 500x450 with 2 Axes>"
      ]
     },
     "metadata": {},
     "output_type": "display_data"
    }
   ],
   "source": [
    "font = {'family': 'sans-serif',\n",
    "        'weight': 'normal',\n",
    "        'size': 10}\n",
    "plt.rc('font', **font)\n",
    "\n",
    "from mpl_toolkits.axes_grid1 import make_axes_locatable\n",
    "fig = plt.figure(figsize=(5,4.5))\n",
    "\n",
    "vmin=0\n",
    "vmax=1\n",
    "\n",
    "#ROW 1\n",
    "#IMAGE 1\n",
    "ax1 = fig.add_subplot(1,1,1)\n",
    "im = ax1.contourf(plot_grid[0], plot_grid[1], u1_exact.reshape((Nx,Ny)), cmap='jet', alpha=0.4, vmin=0, vmax=1, levels=10)\n",
    "ax1.set_xticks([])\n",
    "ax1.set_yticks([])\n",
    "ax1.set_title('Collocation Points');\n",
    "ax1.scatter(data1_hard.train_x_all[:,0], data1_hard.train_x_all[:,1], marker='.', c='black')\n",
    "ax1.scatter(data1_hard.train_x_bc[:,0], data1_hard.train_x_bc[:,1], marker='.', c='red')\n",
    "ax1.set_ylim(-0.01,1.01)\n",
    "ax1.set_xlim(-0.01,1.01)\n",
    "ax1.set_xlabel('x')\n",
    "ax1.set_ylabel('y')\n",
    "ax1.set_xticks([0,0.5,1])\n",
    "ax1.set_yticks([0,0.5,1])\n",
    "\n",
    "divider = make_axes_locatable(ax1)\n",
    "cax = divider.append_axes('right', size='5%', pad=0.05)\n",
    "fig.colorbar(im, cax=cax, orientation='vertical')\n",
    "\n",
    "plt.savefig(\"laplace1_hard_points\", bbox_inches = 'tight')"
   ]
  },
  {
   "cell_type": "markdown",
   "id": "f042e9cf-0a12-4e42-8e7b-094700730a3c",
   "metadata": {},
   "source": [
    "# Relative Error - Train"
   ]
  },
  {
   "cell_type": "code",
   "execution_count": 97,
   "id": "856f9348-06f3-4649-8c79-9f6b1793fcb0",
   "metadata": {},
   "outputs": [
    {
     "name": "stdout",
     "output_type": "stream",
     "text": [
      "0.0007110649001233093\n",
      "0.000314740849905398\n",
      "0.005556334519977543\n"
     ]
    }
   ],
   "source": [
    "print(dde.metrics.l2_relative_error(u1(data_1_h.train_x_all.T[0], data_1_h.train_x_all.T[1]), model_square_1_s.predict(data_1_h.train_x_all).T))\n",
    "print(dde.metrics.l2_relative_error(u1(data_1_h.train_x_all.T[0], data_1_h.train_x_all.T[1]), model_long_1_s.predict(data_1_h.train_x_all).T))\n",
    "print(dde.metrics.l2_relative_error(u1(data_1_h.train_x_all.T[0], data_1_h.train_x_all.T[1]), model_oblong_1_s.predict(data_1_h.train_x_all).T))"
   ]
  },
  {
   "cell_type": "code",
   "execution_count": 98,
   "id": "8d067ece-a527-46bc-9ad9-dab74a2d9231",
   "metadata": {},
   "outputs": [
    {
     "name": "stdout",
     "output_type": "stream",
     "text": [
      "0.007484297677892893\n",
      "0.0014785998214424138\n",
      "0.007409215560372852\n"
     ]
    }
   ],
   "source": [
    "print(dde.metrics.l2_relative_error(u2(data_2_h.train_x_all.T[0], data_2_h.train_x_all.T[1]), model_square_2_s.predict(data_2_h.train_x_all).T))\n",
    "print(dde.metrics.l2_relative_error(u2(data_2_h.train_x_all.T[0], data_2_h.train_x_all.T[1]), model_long_2_s.predict(data_2_h.train_x_all).T))\n",
    "print(dde.metrics.l2_relative_error(u2(data_2_h.train_x_all.T[0], data_2_h.train_x_all.T[1]), model_oblong_2_s.predict(data_2_h.train_x_all).T))"
   ]
  },
  {
   "cell_type": "code",
   "execution_count": null,
   "id": "41bfe7b5-dfab-42e3-9bed-03c1654329a7",
   "metadata": {},
   "outputs": [],
   "source": []
  }
 ],
 "metadata": {
  "kernelspec": {
   "display_name": "Python 3 (ipykernel)",
   "language": "python",
   "name": "python3"
  },
  "language_info": {
   "codemirror_mode": {
    "name": "ipython",
    "version": 3
   },
   "file_extension": ".py",
   "mimetype": "text/x-python",
   "name": "python",
   "nbconvert_exporter": "python",
   "pygments_lexer": "ipython3",
   "version": "3.11.5"
  }
 },
 "nbformat": 4,
 "nbformat_minor": 5
}
